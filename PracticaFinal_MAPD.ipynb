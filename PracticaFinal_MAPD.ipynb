{
 "cells": [
  {
   "cell_type": "code",
   "execution_count": 315,
   "metadata": {},
   "outputs": [],
   "source": [
    "library(ggplot2)\n",
    "options(repr.plot.height=4,repr.plot.width=6)"
   ]
  },
  {
   "cell_type": "markdown",
   "metadata": {},
   "source": [
    "Cargar los datos en un dataframe llamado: airbnb"
   ]
  },
  {
   "cell_type": "code",
   "execution_count": 316,
   "metadata": {},
   "outputs": [],
   "source": [
    "airbnb<-read.csv('data//airbnb.csv',sep = ',')\n"
   ]
  },
  {
   "cell_type": "markdown",
   "metadata": {},
   "source": [
    "Mostrar las primeras 6 filas del dataframe"
   ]
  },
  {
   "cell_type": "code",
   "execution_count": 317,
   "metadata": {
    "scrolled": true
   },
   "outputs": [
    {
     "data": {
      "text/html": [
       "<table>\n",
       "<thead><tr><th scope=col>Zipcode</th><th scope=col>Neighbourhood.Cleansed</th><th scope=col>Property.Type</th><th scope=col>Room.Type</th><th scope=col>Accommodates</th><th scope=col>Bathrooms</th><th scope=col>Bedrooms</th><th scope=col>Beds</th><th scope=col>Bed.Type</th><th scope=col>Amenities</th><th scope=col>Square.Feet</th><th scope=col>Price</th><th scope=col>Review.Scores.Rating</th></tr></thead>\n",
       "<tbody>\n",
       "\t<tr><td>28004                                                                                                                                                                                                                                                                                                                                                           </td><td>Universidad                                                                                                                                                                                                                                                                                                                                                     </td><td>Apartment                                                                                                                                                                                                                                                                                                                                                       </td><td>Private room                                                                                                                                                                                                                                                                                                                                                    </td><td>2                                                                                                                                                                                                                                                                                                                                                               </td><td>2                                                                                                                                                                                                                                                                                                                                                               </td><td>1                                                                                                                                                                                                                                                                                                                                                               </td><td>1                                                                                                                                                                                                                                                                                                                                                               </td><td>Real Bed                                                                                                                                                                                                                                                                                                                                                        </td><td>TV,Wireless Internet,Kitchen,Pets allowed,Pets live on this property,Buzzer/wireless intercom,Heating,Suitable for events,Washer,First aid kit,Essentials,Lock on bedroom door,Iron                                                                                                                                                                             </td><td> NA                                                                                                                                                                                                                                                                                                                                                             </td><td>35                                                                                                                                                                                                                                                                                                                                                              </td><td> NA                                                                                                                                                                                                                                                                                                                                                             </td></tr>\n",
       "\t<tr><td>28004                                                                                                                                                                                                                                                                                                                                                           </td><td>Universidad                                                                                                                                                                                                                                                                                                                                                     </td><td>Apartment                                                                                                                                                                                                                                                                                                                                                       </td><td>Entire home/apt                                                                                                                                                                                                                                                                                                                                                 </td><td>6                                                                                                                                                                                                                                                                                                                                                               </td><td>1                                                                                                                                                                                                                                                                                                                                                               </td><td>3                                                                                                                                                                                                                                                                                                                                                               </td><td>5                                                                                                                                                                                                                                                                                                                                                               </td><td>Real Bed                                                                                                                                                                                                                                                                                                                                                        </td><td>TV,Internet,Wireless Internet,Air conditioning,Kitchen,Indoor fireplace,Heating,Family/kid friendly,Washer,Dryer,Smoke detector,Carbon monoxide detector,Essentials,Shampoo                                                                                                                                                                                     </td><td> NA                                                                                                                                                                                                                                                                                                                                                             </td><td>92                                                                                                                                                                                                                                                                                                                                                              </td><td> 96                                                                                                                                                                                                                                                                                                                                                             </td></tr>\n",
       "\t<tr><td>28004                                                                                                                                                                                                                                                                                                                                                           </td><td>Universidad                                                                                                                                                                                                                                                                                                                                                     </td><td>Apartment                                                                                                                                                                                                                                                                                                                                                       </td><td>Entire home/apt                                                                                                                                                                                                                                                                                                                                                 </td><td>3                                                                                                                                                                                                                                                                                                                                                               </td><td>1                                                                                                                                                                                                                                                                                                                                                               </td><td>2                                                                                                                                                                                                                                                                                                                                                               </td><td>2                                                                                                                                                                                                                                                                                                                                                               </td><td>Real Bed                                                                                                                                                                                                                                                                                                                                                        </td><td>TV,Internet,Wireless Internet,Air conditioning,Kitchen,Doorman,Heating,Family/kid friendly,Washer,Essentials,Shampoo,Hangers,Hair dryer,Iron,Laptop friendly workspace                                                                                                                                                                                          </td><td> NA                                                                                                                                                                                                                                                                                                                                                             </td><td>55                                                                                                                                                                                                                                                                                                                                                              </td><td> 91                                                                                                                                                                                                                                                                                                                                                             </td></tr>\n",
       "\t<tr><td>28004                                                                                                                                                                                                                                                                                                                                                           </td><td>Universidad                                                                                                                                                                                                                                                                                                                                                     </td><td>Loft                                                                                                                                                                                                                                                                                                                                                            </td><td>Entire home/apt                                                                                                                                                                                                                                                                                                                                                 </td><td>3                                                                                                                                                                                                                                                                                                                                                               </td><td>2                                                                                                                                                                                                                                                                                                                                                               </td><td>1                                                                                                                                                                                                                                                                                                                                                               </td><td>1                                                                                                                                                                                                                                                                                                                                                               </td><td>Real Bed                                                                                                                                                                                                                                                                                                                                                        </td><td>TV,Internet,Wireless Internet,Air conditioning,Kitchen,Pets allowed,Breakfast,Elevator in building,Indoor fireplace,Buzzer/wireless intercom,Heating,Washer,Essentials,Shampoo,Hangers,Hair dryer,Iron,Laptop friendly workspace,translation missing: en.hosting_amenity_49,translation missing: en.hosting_amenity_50                                          </td><td> NA                                                                                                                                                                                                                                                                                                                                                             </td><td>60                                                                                                                                                                                                                                                                                                                                                              </td><td>100                                                                                                                                                                                                                                                                                                                                                             </td></tr>\n",
       "\t<tr><td>28015                                                                                                                                                                                                                                                                                                                                                           </td><td>Universidad                                                                                                                                                                                                                                                                                                                                                     </td><td>Apartment                                                                                                                                                                                                                                                                                                                                                       </td><td>Entire home/apt                                                                                                                                                                                                                                                                                                                                                 </td><td>5                                                                                                                                                                                                                                                                                                                                                               </td><td>1                                                                                                                                                                                                                                                                                                                                                               </td><td>1                                                                                                                                                                                                                                                                                                                                                               </td><td>1                                                                                                                                                                                                                                                                                                                                                               </td><td>Real Bed                                                                                                                                                                                                                                                                                                                                                        </td><td>TV,Wireless Internet,Air conditioning,Kitchen,Smoking allowed,Pets allowed,Elevator in building,Heating,Family/kid friendly,Washer,Essentials,Iron                                                                                                                                                                                                              </td><td>538                                                                                                                                                                                                                                                                                                                                                             </td><td>75                                                                                                                                                                                                                                                                                                                                                              </td><td> 90                                                                                                                                                                                                                                                                                                                                                             </td></tr>\n",
       "\t<tr><td>28004                                                                                                                                                                                                                                                                                                                                                           </td><td>Universidad                                                                                                                                                                                                                                                                                                                                                     </td><td>Apartment                                                                                                                                                                                                                                                                                                                                                       </td><td>Entire home/apt                                                                                                                                                                                                                                                                                                                                                 </td><td>2                                                                                                                                                                                                                                                                                                                                                               </td><td>1                                                                                                                                                                                                                                                                                                                                                               </td><td>0                                                                                                                                                                                                                                                                                                                                                               </td><td>1                                                                                                                                                                                                                                                                                                                                                               </td><td>Real Bed                                                                                                                                                                                                                                                                                                                                                        </td><td>TV,Cable TV,Internet,Wireless Internet,Air conditioning,Wheelchair accessible,Kitchen,Doorman,Elevator in building,Buzzer/wireless intercom,Heating,Washer,Smoke detector,Carbon monoxide detector,First aid kit,Safety card,Fire extinguisher,Essentials,Shampoo,24-hour check-in,Hangers,Hair dryer,Iron,Laptop friendly workspace,Self Check-In,Doorman Entry</td><td> NA                                                                                                                                                                                                                                                                                                                                                             </td><td>55                                                                                                                                                                                                                                                                                                                                                              </td><td> 95                                                                                                                                                                                                                                                                                                                                                             </td></tr>\n",
       "</tbody>\n",
       "</table>\n"
      ],
      "text/latex": [
       "\\begin{tabular}{r|lllllllllllll}\n",
       " Zipcode & Neighbourhood.Cleansed & Property.Type & Room.Type & Accommodates & Bathrooms & Bedrooms & Beds & Bed.Type & Amenities & Square.Feet & Price & Review.Scores.Rating\\\\\n",
       "\\hline\n",
       "\t 28004                                                                                                                                                                                                                                                                                                                                                            & Universidad                                                                                                                                                                                                                                                                                                                                                      & Apartment                                                                                                                                                                                                                                                                                                                                                        & Private room                                                                                                                                                                                                                                                                                                                                                     & 2                                                                                                                                                                                                                                                                                                                                                                & 2                                                                                                                                                                                                                                                                                                                                                                & 1                                                                                                                                                                                                                                                                                                                                                                & 1                                                                                                                                                                                                                                                                                                                                                                & Real Bed                                                                                                                                                                                                                                                                                                                                                         & TV,Wireless Internet,Kitchen,Pets allowed,Pets live on this property,Buzzer/wireless intercom,Heating,Suitable for events,Washer,First aid kit,Essentials,Lock on bedroom door,Iron                                                                                                                                                                              &  NA                                                                                                                                                                                                                                                                                                                                                              & 35                                                                                                                                                                                                                                                                                                                                                               &  NA                                                                                                                                                                                                                                                                                                                                                             \\\\\n",
       "\t 28004                                                                                                                                                                                                                                                                                                                                                            & Universidad                                                                                                                                                                                                                                                                                                                                                      & Apartment                                                                                                                                                                                                                                                                                                                                                        & Entire home/apt                                                                                                                                                                                                                                                                                                                                                  & 6                                                                                                                                                                                                                                                                                                                                                                & 1                                                                                                                                                                                                                                                                                                                                                                & 3                                                                                                                                                                                                                                                                                                                                                                & 5                                                                                                                                                                                                                                                                                                                                                                & Real Bed                                                                                                                                                                                                                                                                                                                                                         & TV,Internet,Wireless Internet,Air conditioning,Kitchen,Indoor fireplace,Heating,Family/kid friendly,Washer,Dryer,Smoke detector,Carbon monoxide detector,Essentials,Shampoo                                                                                                                                                                                      &  NA                                                                                                                                                                                                                                                                                                                                                              & 92                                                                                                                                                                                                                                                                                                                                                               &  96                                                                                                                                                                                                                                                                                                                                                             \\\\\n",
       "\t 28004                                                                                                                                                                                                                                                                                                                                                            & Universidad                                                                                                                                                                                                                                                                                                                                                      & Apartment                                                                                                                                                                                                                                                                                                                                                        & Entire home/apt                                                                                                                                                                                                                                                                                                                                                  & 3                                                                                                                                                                                                                                                                                                                                                                & 1                                                                                                                                                                                                                                                                                                                                                                & 2                                                                                                                                                                                                                                                                                                                                                                & 2                                                                                                                                                                                                                                                                                                                                                                & Real Bed                                                                                                                                                                                                                                                                                                                                                         & TV,Internet,Wireless Internet,Air conditioning,Kitchen,Doorman,Heating,Family/kid friendly,Washer,Essentials,Shampoo,Hangers,Hair dryer,Iron,Laptop friendly workspace                                                                                                                                                                                           &  NA                                                                                                                                                                                                                                                                                                                                                              & 55                                                                                                                                                                                                                                                                                                                                                               &  91                                                                                                                                                                                                                                                                                                                                                             \\\\\n",
       "\t 28004                                                                                                                                                                                                                                                                                                                                                                    & Universidad                                                                                                                                                                                                                                                                                                                                                              & Loft                                                                                                                                                                                                                                                                                                                                                                     & Entire home/apt                                                                                                                                                                                                                                                                                                                                                          & 3                                                                                                                                                                                                                                                                                                                                                                        & 2                                                                                                                                                                                                                                                                                                                                                                        & 1                                                                                                                                                                                                                                                                                                                                                                        & 1                                                                                                                                                                                                                                                                                                                                                                        & Real Bed                                                                                                                                                                                                                                                                                                                                                                 & TV,Internet,Wireless Internet,Air conditioning,Kitchen,Pets allowed,Breakfast,Elevator in building,Indoor fireplace,Buzzer/wireless intercom,Heating,Washer,Essentials,Shampoo,Hangers,Hair dryer,Iron,Laptop friendly workspace,translation missing: en.hosting\\_amenity\\_49,translation missing: en.hosting\\_amenity\\_50                                           &  NA                                                                                                                                                                                                                                                                                                                                                                      & 60                                                                                                                                                                                                                                                                                                                                                                       & 100                                                                                                                                                                                                                                                                                                                                                                     \\\\\n",
       "\t 28015                                                                                                                                                                                                                                                                                                                                                            & Universidad                                                                                                                                                                                                                                                                                                                                                      & Apartment                                                                                                                                                                                                                                                                                                                                                        & Entire home/apt                                                                                                                                                                                                                                                                                                                                                  & 5                                                                                                                                                                                                                                                                                                                                                                & 1                                                                                                                                                                                                                                                                                                                                                                & 1                                                                                                                                                                                                                                                                                                                                                                & 1                                                                                                                                                                                                                                                                                                                                                                & Real Bed                                                                                                                                                                                                                                                                                                                                                         & TV,Wireless Internet,Air conditioning,Kitchen,Smoking allowed,Pets allowed,Elevator in building,Heating,Family/kid friendly,Washer,Essentials,Iron                                                                                                                                                                                                               & 538                                                                                                                                                                                                                                                                                                                                                              & 75                                                                                                                                                                                                                                                                                                                                                               &  90                                                                                                                                                                                                                                                                                                                                                             \\\\\n",
       "\t 28004                                                                                                                                                                                                                                                                                                                                                            & Universidad                                                                                                                                                                                                                                                                                                                                                      & Apartment                                                                                                                                                                                                                                                                                                                                                        & Entire home/apt                                                                                                                                                                                                                                                                                                                                                  & 2                                                                                                                                                                                                                                                                                                                                                                & 1                                                                                                                                                                                                                                                                                                                                                                & 0                                                                                                                                                                                                                                                                                                                                                                & 1                                                                                                                                                                                                                                                                                                                                                                & Real Bed                                                                                                                                                                                                                                                                                                                                                         & TV,Cable TV,Internet,Wireless Internet,Air conditioning,Wheelchair accessible,Kitchen,Doorman,Elevator in building,Buzzer/wireless intercom,Heating,Washer,Smoke detector,Carbon monoxide detector,First aid kit,Safety card,Fire extinguisher,Essentials,Shampoo,24-hour check-in,Hangers,Hair dryer,Iron,Laptop friendly workspace,Self Check-In,Doorman Entry &  NA                                                                                                                                                                                                                                                                                                                                                              & 55                                                                                                                                                                                                                                                                                                                                                               &  95                                                                                                                                                                                                                                                                                                                                                             \\\\\n",
       "\\end{tabular}\n"
      ],
      "text/markdown": [
       "\n",
       "| Zipcode | Neighbourhood.Cleansed | Property.Type | Room.Type | Accommodates | Bathrooms | Bedrooms | Beds | Bed.Type | Amenities | Square.Feet | Price | Review.Scores.Rating |\n",
       "|---|---|---|---|---|---|---|---|---|---|---|---|---|\n",
       "| 28004                                                                                                                                                                                                                                                                                                                                                            | Universidad                                                                                                                                                                                                                                                                                                                                                      | Apartment                                                                                                                                                                                                                                                                                                                                                        | Private room                                                                                                                                                                                                                                                                                                                                                     | 2                                                                                                                                                                                                                                                                                                                                                                | 2                                                                                                                                                                                                                                                                                                                                                                | 1                                                                                                                                                                                                                                                                                                                                                                | 1                                                                                                                                                                                                                                                                                                                                                                | Real Bed                                                                                                                                                                                                                                                                                                                                                         | TV,Wireless Internet,Kitchen,Pets allowed,Pets live on this property,Buzzer/wireless intercom,Heating,Suitable for events,Washer,First aid kit,Essentials,Lock on bedroom door,Iron                                                                                                                                                                              |  NA                                                                                                                                                                                                                                                                                                                                                              | 35                                                                                                                                                                                                                                                                                                                                                               |  NA                                                                                                                                                                                                                                                                                                                                                              |\n",
       "| 28004                                                                                                                                                                                                                                                                                                                                                            | Universidad                                                                                                                                                                                                                                                                                                                                                      | Apartment                                                                                                                                                                                                                                                                                                                                                        | Entire home/apt                                                                                                                                                                                                                                                                                                                                                  | 6                                                                                                                                                                                                                                                                                                                                                                | 1                                                                                                                                                                                                                                                                                                                                                                | 3                                                                                                                                                                                                                                                                                                                                                                | 5                                                                                                                                                                                                                                                                                                                                                                | Real Bed                                                                                                                                                                                                                                                                                                                                                         | TV,Internet,Wireless Internet,Air conditioning,Kitchen,Indoor fireplace,Heating,Family/kid friendly,Washer,Dryer,Smoke detector,Carbon monoxide detector,Essentials,Shampoo                                                                                                                                                                                      |  NA                                                                                                                                                                                                                                                                                                                                                              | 92                                                                                                                                                                                                                                                                                                                                                               |  96                                                                                                                                                                                                                                                                                                                                                              |\n",
       "| 28004                                                                                                                                                                                                                                                                                                                                                            | Universidad                                                                                                                                                                                                                                                                                                                                                      | Apartment                                                                                                                                                                                                                                                                                                                                                        | Entire home/apt                                                                                                                                                                                                                                                                                                                                                  | 3                                                                                                                                                                                                                                                                                                                                                                | 1                                                                                                                                                                                                                                                                                                                                                                | 2                                                                                                                                                                                                                                                                                                                                                                | 2                                                                                                                                                                                                                                                                                                                                                                | Real Bed                                                                                                                                                                                                                                                                                                                                                         | TV,Internet,Wireless Internet,Air conditioning,Kitchen,Doorman,Heating,Family/kid friendly,Washer,Essentials,Shampoo,Hangers,Hair dryer,Iron,Laptop friendly workspace                                                                                                                                                                                           |  NA                                                                                                                                                                                                                                                                                                                                                              | 55                                                                                                                                                                                                                                                                                                                                                               |  91                                                                                                                                                                                                                                                                                                                                                              |\n",
       "| 28004                                                                                                                                                                                                                                                                                                                                                            | Universidad                                                                                                                                                                                                                                                                                                                                                      | Loft                                                                                                                                                                                                                                                                                                                                                             | Entire home/apt                                                                                                                                                                                                                                                                                                                                                  | 3                                                                                                                                                                                                                                                                                                                                                                | 2                                                                                                                                                                                                                                                                                                                                                                | 1                                                                                                                                                                                                                                                                                                                                                                | 1                                                                                                                                                                                                                                                                                                                                                                | Real Bed                                                                                                                                                                                                                                                                                                                                                         | TV,Internet,Wireless Internet,Air conditioning,Kitchen,Pets allowed,Breakfast,Elevator in building,Indoor fireplace,Buzzer/wireless intercom,Heating,Washer,Essentials,Shampoo,Hangers,Hair dryer,Iron,Laptop friendly workspace,translation missing: en.hosting_amenity_49,translation missing: en.hosting_amenity_50                                           |  NA                                                                                                                                                                                                                                                                                                                                                              | 60                                                                                                                                                                                                                                                                                                                                                               | 100                                                                                                                                                                                                                                                                                                                                                              |\n",
       "| 28015                                                                                                                                                                                                                                                                                                                                                            | Universidad                                                                                                                                                                                                                                                                                                                                                      | Apartment                                                                                                                                                                                                                                                                                                                                                        | Entire home/apt                                                                                                                                                                                                                                                                                                                                                  | 5                                                                                                                                                                                                                                                                                                                                                                | 1                                                                                                                                                                                                                                                                                                                                                                | 1                                                                                                                                                                                                                                                                                                                                                                | 1                                                                                                                                                                                                                                                                                                                                                                | Real Bed                                                                                                                                                                                                                                                                                                                                                         | TV,Wireless Internet,Air conditioning,Kitchen,Smoking allowed,Pets allowed,Elevator in building,Heating,Family/kid friendly,Washer,Essentials,Iron                                                                                                                                                                                                               | 538                                                                                                                                                                                                                                                                                                                                                              | 75                                                                                                                                                                                                                                                                                                                                                               |  90                                                                                                                                                                                                                                                                                                                                                              |\n",
       "| 28004                                                                                                                                                                                                                                                                                                                                                            | Universidad                                                                                                                                                                                                                                                                                                                                                      | Apartment                                                                                                                                                                                                                                                                                                                                                        | Entire home/apt                                                                                                                                                                                                                                                                                                                                                  | 2                                                                                                                                                                                                                                                                                                                                                                | 1                                                                                                                                                                                                                                                                                                                                                                | 0                                                                                                                                                                                                                                                                                                                                                                | 1                                                                                                                                                                                                                                                                                                                                                                | Real Bed                                                                                                                                                                                                                                                                                                                                                         | TV,Cable TV,Internet,Wireless Internet,Air conditioning,Wheelchair accessible,Kitchen,Doorman,Elevator in building,Buzzer/wireless intercom,Heating,Washer,Smoke detector,Carbon monoxide detector,First aid kit,Safety card,Fire extinguisher,Essentials,Shampoo,24-hour check-in,Hangers,Hair dryer,Iron,Laptop friendly workspace,Self Check-In,Doorman Entry |  NA                                                                                                                                                                                                                                                                                                                                                              | 55                                                                                                                                                                                                                                                                                                                                                               |  95                                                                                                                                                                                                                                                                                                                                                              |\n",
       "\n"
      ],
      "text/plain": [
       "  Zipcode Neighbourhood.Cleansed Property.Type Room.Type       Accommodates\n",
       "1 28004   Universidad            Apartment     Private room    2           \n",
       "2 28004   Universidad            Apartment     Entire home/apt 6           \n",
       "3 28004   Universidad            Apartment     Entire home/apt 3           \n",
       "4 28004   Universidad            Loft          Entire home/apt 3           \n",
       "5 28015   Universidad            Apartment     Entire home/apt 5           \n",
       "6 28004   Universidad            Apartment     Entire home/apt 2           \n",
       "  Bathrooms Bedrooms Beds Bed.Type\n",
       "1 2         1        1    Real Bed\n",
       "2 1         3        5    Real Bed\n",
       "3 1         2        2    Real Bed\n",
       "4 2         1        1    Real Bed\n",
       "5 1         1        1    Real Bed\n",
       "6 1         0        1    Real Bed\n",
       "  Amenities                                                                                                                                                                                                                                                                                                                                                       \n",
       "1 TV,Wireless Internet,Kitchen,Pets allowed,Pets live on this property,Buzzer/wireless intercom,Heating,Suitable for events,Washer,First aid kit,Essentials,Lock on bedroom door,Iron                                                                                                                                                                             \n",
       "2 TV,Internet,Wireless Internet,Air conditioning,Kitchen,Indoor fireplace,Heating,Family/kid friendly,Washer,Dryer,Smoke detector,Carbon monoxide detector,Essentials,Shampoo                                                                                                                                                                                     \n",
       "3 TV,Internet,Wireless Internet,Air conditioning,Kitchen,Doorman,Heating,Family/kid friendly,Washer,Essentials,Shampoo,Hangers,Hair dryer,Iron,Laptop friendly workspace                                                                                                                                                                                          \n",
       "4 TV,Internet,Wireless Internet,Air conditioning,Kitchen,Pets allowed,Breakfast,Elevator in building,Indoor fireplace,Buzzer/wireless intercom,Heating,Washer,Essentials,Shampoo,Hangers,Hair dryer,Iron,Laptop friendly workspace,translation missing: en.hosting_amenity_49,translation missing: en.hosting_amenity_50                                          \n",
       "5 TV,Wireless Internet,Air conditioning,Kitchen,Smoking allowed,Pets allowed,Elevator in building,Heating,Family/kid friendly,Washer,Essentials,Iron                                                                                                                                                                                                              \n",
       "6 TV,Cable TV,Internet,Wireless Internet,Air conditioning,Wheelchair accessible,Kitchen,Doorman,Elevator in building,Buzzer/wireless intercom,Heating,Washer,Smoke detector,Carbon monoxide detector,First aid kit,Safety card,Fire extinguisher,Essentials,Shampoo,24-hour check-in,Hangers,Hair dryer,Iron,Laptop friendly workspace,Self Check-In,Doorman Entry\n",
       "  Square.Feet Price Review.Scores.Rating\n",
       "1  NA         35     NA                 \n",
       "2  NA         92     96                 \n",
       "3  NA         55     91                 \n",
       "4  NA         60    100                 \n",
       "5 538         75     90                 \n",
       "6  NA         55     95                 "
      ]
     },
     "metadata": {},
     "output_type": "display_data"
    }
   ],
   "source": [
    "head(airbnb)"
   ]
  },
  {
   "cell_type": "markdown",
   "metadata": {},
   "source": [
    "Renombrar las columnas de la siguiente forma:\n",
    "\n",
    "| Nombre original | Nuevo nombre |\n",
    "| - | - |\n",
    "| Zipcode | CodigoPostal |\n",
    "| Neighbourhood.Cleansed | Barrio |\n",
    "| Property.Type\t| TipoPropiedad |\n",
    "| Room.Type | TipoAlquiler |\n",
    "| Accommodates | MaxOcupantes |\n",
    "| Bathrooms\t| NumBanyos |\n",
    "| Bedrooms\t| NumDormitorios |\n",
    "| Beds\t|  NumCamas |\n",
    "| Bed.Type\t| TipoCama |\n",
    "| Amenities | Comodidades |\n",
    "| Square.Feet | PiesCuadrados |\n",
    "| Price\t| Precio |\n",
    "| Review.Scores.Rating | Puntuacion |"
   ]
  },
  {
   "cell_type": "code",
   "execution_count": 318,
   "metadata": {},
   "outputs": [
    {
     "data": {
      "text/html": [
       "<table>\n",
       "<thead><tr><th scope=col>CodigoPostal</th><th scope=col>Barrio</th><th scope=col>TipoPropiedad</th><th scope=col>TipoAlquiler</th><th scope=col>MaxOcupantes</th><th scope=col>NumBanyos</th><th scope=col>NumDormitorios</th><th scope=col>NumCamas</th><th scope=col>TipoCama</th><th scope=col>Comodidades</th><th scope=col>PiesCuadrados</th><th scope=col>Precio</th><th scope=col>Puntuacion</th></tr></thead>\n",
       "<tbody>\n",
       "\t<tr><td>28004                                                                                                                                                                                                                                                                                                                                                           </td><td>Universidad                                                                                                                                                                                                                                                                                                                                                     </td><td>Apartment                                                                                                                                                                                                                                                                                                                                                       </td><td>Private room                                                                                                                                                                                                                                                                                                                                                    </td><td>2                                                                                                                                                                                                                                                                                                                                                               </td><td>2                                                                                                                                                                                                                                                                                                                                                               </td><td>1                                                                                                                                                                                                                                                                                                                                                               </td><td>1                                                                                                                                                                                                                                                                                                                                                               </td><td>Real Bed                                                                                                                                                                                                                                                                                                                                                        </td><td>TV,Wireless Internet,Kitchen,Pets allowed,Pets live on this property,Buzzer/wireless intercom,Heating,Suitable for events,Washer,First aid kit,Essentials,Lock on bedroom door,Iron                                                                                                                                                                             </td><td> NA                                                                                                                                                                                                                                                                                                                                                             </td><td>35                                                                                                                                                                                                                                                                                                                                                              </td><td> NA                                                                                                                                                                                                                                                                                                                                                             </td></tr>\n",
       "\t<tr><td>28004                                                                                                                                                                                                                                                                                                                                                           </td><td>Universidad                                                                                                                                                                                                                                                                                                                                                     </td><td>Apartment                                                                                                                                                                                                                                                                                                                                                       </td><td>Entire home/apt                                                                                                                                                                                                                                                                                                                                                 </td><td>6                                                                                                                                                                                                                                                                                                                                                               </td><td>1                                                                                                                                                                                                                                                                                                                                                               </td><td>3                                                                                                                                                                                                                                                                                                                                                               </td><td>5                                                                                                                                                                                                                                                                                                                                                               </td><td>Real Bed                                                                                                                                                                                                                                                                                                                                                        </td><td>TV,Internet,Wireless Internet,Air conditioning,Kitchen,Indoor fireplace,Heating,Family/kid friendly,Washer,Dryer,Smoke detector,Carbon monoxide detector,Essentials,Shampoo                                                                                                                                                                                     </td><td> NA                                                                                                                                                                                                                                                                                                                                                             </td><td>92                                                                                                                                                                                                                                                                                                                                                              </td><td> 96                                                                                                                                                                                                                                                                                                                                                             </td></tr>\n",
       "\t<tr><td>28004                                                                                                                                                                                                                                                                                                                                                           </td><td>Universidad                                                                                                                                                                                                                                                                                                                                                     </td><td>Apartment                                                                                                                                                                                                                                                                                                                                                       </td><td>Entire home/apt                                                                                                                                                                                                                                                                                                                                                 </td><td>3                                                                                                                                                                                                                                                                                                                                                               </td><td>1                                                                                                                                                                                                                                                                                                                                                               </td><td>2                                                                                                                                                                                                                                                                                                                                                               </td><td>2                                                                                                                                                                                                                                                                                                                                                               </td><td>Real Bed                                                                                                                                                                                                                                                                                                                                                        </td><td>TV,Internet,Wireless Internet,Air conditioning,Kitchen,Doorman,Heating,Family/kid friendly,Washer,Essentials,Shampoo,Hangers,Hair dryer,Iron,Laptop friendly workspace                                                                                                                                                                                          </td><td> NA                                                                                                                                                                                                                                                                                                                                                             </td><td>55                                                                                                                                                                                                                                                                                                                                                              </td><td> 91                                                                                                                                                                                                                                                                                                                                                             </td></tr>\n",
       "\t<tr><td>28004                                                                                                                                                                                                                                                                                                                                                           </td><td>Universidad                                                                                                                                                                                                                                                                                                                                                     </td><td>Loft                                                                                                                                                                                                                                                                                                                                                            </td><td>Entire home/apt                                                                                                                                                                                                                                                                                                                                                 </td><td>3                                                                                                                                                                                                                                                                                                                                                               </td><td>2                                                                                                                                                                                                                                                                                                                                                               </td><td>1                                                                                                                                                                                                                                                                                                                                                               </td><td>1                                                                                                                                                                                                                                                                                                                                                               </td><td>Real Bed                                                                                                                                                                                                                                                                                                                                                        </td><td>TV,Internet,Wireless Internet,Air conditioning,Kitchen,Pets allowed,Breakfast,Elevator in building,Indoor fireplace,Buzzer/wireless intercom,Heating,Washer,Essentials,Shampoo,Hangers,Hair dryer,Iron,Laptop friendly workspace,translation missing: en.hosting_amenity_49,translation missing: en.hosting_amenity_50                                          </td><td> NA                                                                                                                                                                                                                                                                                                                                                             </td><td>60                                                                                                                                                                                                                                                                                                                                                              </td><td>100                                                                                                                                                                                                                                                                                                                                                             </td></tr>\n",
       "\t<tr><td>28015                                                                                                                                                                                                                                                                                                                                                           </td><td>Universidad                                                                                                                                                                                                                                                                                                                                                     </td><td>Apartment                                                                                                                                                                                                                                                                                                                                                       </td><td>Entire home/apt                                                                                                                                                                                                                                                                                                                                                 </td><td>5                                                                                                                                                                                                                                                                                                                                                               </td><td>1                                                                                                                                                                                                                                                                                                                                                               </td><td>1                                                                                                                                                                                                                                                                                                                                                               </td><td>1                                                                                                                                                                                                                                                                                                                                                               </td><td>Real Bed                                                                                                                                                                                                                                                                                                                                                        </td><td>TV,Wireless Internet,Air conditioning,Kitchen,Smoking allowed,Pets allowed,Elevator in building,Heating,Family/kid friendly,Washer,Essentials,Iron                                                                                                                                                                                                              </td><td>538                                                                                                                                                                                                                                                                                                                                                             </td><td>75                                                                                                                                                                                                                                                                                                                                                              </td><td> 90                                                                                                                                                                                                                                                                                                                                                             </td></tr>\n",
       "\t<tr><td>28004                                                                                                                                                                                                                                                                                                                                                           </td><td>Universidad                                                                                                                                                                                                                                                                                                                                                     </td><td>Apartment                                                                                                                                                                                                                                                                                                                                                       </td><td>Entire home/apt                                                                                                                                                                                                                                                                                                                                                 </td><td>2                                                                                                                                                                                                                                                                                                                                                               </td><td>1                                                                                                                                                                                                                                                                                                                                                               </td><td>0                                                                                                                                                                                                                                                                                                                                                               </td><td>1                                                                                                                                                                                                                                                                                                                                                               </td><td>Real Bed                                                                                                                                                                                                                                                                                                                                                        </td><td>TV,Cable TV,Internet,Wireless Internet,Air conditioning,Wheelchair accessible,Kitchen,Doorman,Elevator in building,Buzzer/wireless intercom,Heating,Washer,Smoke detector,Carbon monoxide detector,First aid kit,Safety card,Fire extinguisher,Essentials,Shampoo,24-hour check-in,Hangers,Hair dryer,Iron,Laptop friendly workspace,Self Check-In,Doorman Entry</td><td> NA                                                                                                                                                                                                                                                                                                                                                             </td><td>55                                                                                                                                                                                                                                                                                                                                                              </td><td> 95                                                                                                                                                                                                                                                                                                                                                             </td></tr>\n",
       "</tbody>\n",
       "</table>\n"
      ],
      "text/latex": [
       "\\begin{tabular}{r|lllllllllllll}\n",
       " CodigoPostal & Barrio & TipoPropiedad & TipoAlquiler & MaxOcupantes & NumBanyos & NumDormitorios & NumCamas & TipoCama & Comodidades & PiesCuadrados & Precio & Puntuacion\\\\\n",
       "\\hline\n",
       "\t 28004                                                                                                                                                                                                                                                                                                                                                            & Universidad                                                                                                                                                                                                                                                                                                                                                      & Apartment                                                                                                                                                                                                                                                                                                                                                        & Private room                                                                                                                                                                                                                                                                                                                                                     & 2                                                                                                                                                                                                                                                                                                                                                                & 2                                                                                                                                                                                                                                                                                                                                                                & 1                                                                                                                                                                                                                                                                                                                                                                & 1                                                                                                                                                                                                                                                                                                                                                                & Real Bed                                                                                                                                                                                                                                                                                                                                                         & TV,Wireless Internet,Kitchen,Pets allowed,Pets live on this property,Buzzer/wireless intercom,Heating,Suitable for events,Washer,First aid kit,Essentials,Lock on bedroom door,Iron                                                                                                                                                                              &  NA                                                                                                                                                                                                                                                                                                                                                              & 35                                                                                                                                                                                                                                                                                                                                                               &  NA                                                                                                                                                                                                                                                                                                                                                             \\\\\n",
       "\t 28004                                                                                                                                                                                                                                                                                                                                                            & Universidad                                                                                                                                                                                                                                                                                                                                                      & Apartment                                                                                                                                                                                                                                                                                                                                                        & Entire home/apt                                                                                                                                                                                                                                                                                                                                                  & 6                                                                                                                                                                                                                                                                                                                                                                & 1                                                                                                                                                                                                                                                                                                                                                                & 3                                                                                                                                                                                                                                                                                                                                                                & 5                                                                                                                                                                                                                                                                                                                                                                & Real Bed                                                                                                                                                                                                                                                                                                                                                         & TV,Internet,Wireless Internet,Air conditioning,Kitchen,Indoor fireplace,Heating,Family/kid friendly,Washer,Dryer,Smoke detector,Carbon monoxide detector,Essentials,Shampoo                                                                                                                                                                                      &  NA                                                                                                                                                                                                                                                                                                                                                              & 92                                                                                                                                                                                                                                                                                                                                                               &  96                                                                                                                                                                                                                                                                                                                                                             \\\\\n",
       "\t 28004                                                                                                                                                                                                                                                                                                                                                            & Universidad                                                                                                                                                                                                                                                                                                                                                      & Apartment                                                                                                                                                                                                                                                                                                                                                        & Entire home/apt                                                                                                                                                                                                                                                                                                                                                  & 3                                                                                                                                                                                                                                                                                                                                                                & 1                                                                                                                                                                                                                                                                                                                                                                & 2                                                                                                                                                                                                                                                                                                                                                                & 2                                                                                                                                                                                                                                                                                                                                                                & Real Bed                                                                                                                                                                                                                                                                                                                                                         & TV,Internet,Wireless Internet,Air conditioning,Kitchen,Doorman,Heating,Family/kid friendly,Washer,Essentials,Shampoo,Hangers,Hair dryer,Iron,Laptop friendly workspace                                                                                                                                                                                           &  NA                                                                                                                                                                                                                                                                                                                                                              & 55                                                                                                                                                                                                                                                                                                                                                               &  91                                                                                                                                                                                                                                                                                                                                                             \\\\\n",
       "\t 28004                                                                                                                                                                                                                                                                                                                                                                    & Universidad                                                                                                                                                                                                                                                                                                                                                              & Loft                                                                                                                                                                                                                                                                                                                                                                     & Entire home/apt                                                                                                                                                                                                                                                                                                                                                          & 3                                                                                                                                                                                                                                                                                                                                                                        & 2                                                                                                                                                                                                                                                                                                                                                                        & 1                                                                                                                                                                                                                                                                                                                                                                        & 1                                                                                                                                                                                                                                                                                                                                                                        & Real Bed                                                                                                                                                                                                                                                                                                                                                                 & TV,Internet,Wireless Internet,Air conditioning,Kitchen,Pets allowed,Breakfast,Elevator in building,Indoor fireplace,Buzzer/wireless intercom,Heating,Washer,Essentials,Shampoo,Hangers,Hair dryer,Iron,Laptop friendly workspace,translation missing: en.hosting\\_amenity\\_49,translation missing: en.hosting\\_amenity\\_50                                           &  NA                                                                                                                                                                                                                                                                                                                                                                      & 60                                                                                                                                                                                                                                                                                                                                                                       & 100                                                                                                                                                                                                                                                                                                                                                                     \\\\\n",
       "\t 28015                                                                                                                                                                                                                                                                                                                                                            & Universidad                                                                                                                                                                                                                                                                                                                                                      & Apartment                                                                                                                                                                                                                                                                                                                                                        & Entire home/apt                                                                                                                                                                                                                                                                                                                                                  & 5                                                                                                                                                                                                                                                                                                                                                                & 1                                                                                                                                                                                                                                                                                                                                                                & 1                                                                                                                                                                                                                                                                                                                                                                & 1                                                                                                                                                                                                                                                                                                                                                                & Real Bed                                                                                                                                                                                                                                                                                                                                                         & TV,Wireless Internet,Air conditioning,Kitchen,Smoking allowed,Pets allowed,Elevator in building,Heating,Family/kid friendly,Washer,Essentials,Iron                                                                                                                                                                                                               & 538                                                                                                                                                                                                                                                                                                                                                              & 75                                                                                                                                                                                                                                                                                                                                                               &  90                                                                                                                                                                                                                                                                                                                                                             \\\\\n",
       "\t 28004                                                                                                                                                                                                                                                                                                                                                            & Universidad                                                                                                                                                                                                                                                                                                                                                      & Apartment                                                                                                                                                                                                                                                                                                                                                        & Entire home/apt                                                                                                                                                                                                                                                                                                                                                  & 2                                                                                                                                                                                                                                                                                                                                                                & 1                                                                                                                                                                                                                                                                                                                                                                & 0                                                                                                                                                                                                                                                                                                                                                                & 1                                                                                                                                                                                                                                                                                                                                                                & Real Bed                                                                                                                                                                                                                                                                                                                                                         & TV,Cable TV,Internet,Wireless Internet,Air conditioning,Wheelchair accessible,Kitchen,Doorman,Elevator in building,Buzzer/wireless intercom,Heating,Washer,Smoke detector,Carbon monoxide detector,First aid kit,Safety card,Fire extinguisher,Essentials,Shampoo,24-hour check-in,Hangers,Hair dryer,Iron,Laptop friendly workspace,Self Check-In,Doorman Entry &  NA                                                                                                                                                                                                                                                                                                                                                              & 55                                                                                                                                                                                                                                                                                                                                                               &  95                                                                                                                                                                                                                                                                                                                                                             \\\\\n",
       "\\end{tabular}\n"
      ],
      "text/markdown": [
       "\n",
       "| CodigoPostal | Barrio | TipoPropiedad | TipoAlquiler | MaxOcupantes | NumBanyos | NumDormitorios | NumCamas | TipoCama | Comodidades | PiesCuadrados | Precio | Puntuacion |\n",
       "|---|---|---|---|---|---|---|---|---|---|---|---|---|\n",
       "| 28004                                                                                                                                                                                                                                                                                                                                                            | Universidad                                                                                                                                                                                                                                                                                                                                                      | Apartment                                                                                                                                                                                                                                                                                                                                                        | Private room                                                                                                                                                                                                                                                                                                                                                     | 2                                                                                                                                                                                                                                                                                                                                                                | 2                                                                                                                                                                                                                                                                                                                                                                | 1                                                                                                                                                                                                                                                                                                                                                                | 1                                                                                                                                                                                                                                                                                                                                                                | Real Bed                                                                                                                                                                                                                                                                                                                                                         | TV,Wireless Internet,Kitchen,Pets allowed,Pets live on this property,Buzzer/wireless intercom,Heating,Suitable for events,Washer,First aid kit,Essentials,Lock on bedroom door,Iron                                                                                                                                                                              |  NA                                                                                                                                                                                                                                                                                                                                                              | 35                                                                                                                                                                                                                                                                                                                                                               |  NA                                                                                                                                                                                                                                                                                                                                                              |\n",
       "| 28004                                                                                                                                                                                                                                                                                                                                                            | Universidad                                                                                                                                                                                                                                                                                                                                                      | Apartment                                                                                                                                                                                                                                                                                                                                                        | Entire home/apt                                                                                                                                                                                                                                                                                                                                                  | 6                                                                                                                                                                                                                                                                                                                                                                | 1                                                                                                                                                                                                                                                                                                                                                                | 3                                                                                                                                                                                                                                                                                                                                                                | 5                                                                                                                                                                                                                                                                                                                                                                | Real Bed                                                                                                                                                                                                                                                                                                                                                         | TV,Internet,Wireless Internet,Air conditioning,Kitchen,Indoor fireplace,Heating,Family/kid friendly,Washer,Dryer,Smoke detector,Carbon monoxide detector,Essentials,Shampoo                                                                                                                                                                                      |  NA                                                                                                                                                                                                                                                                                                                                                              | 92                                                                                                                                                                                                                                                                                                                                                               |  96                                                                                                                                                                                                                                                                                                                                                              |\n",
       "| 28004                                                                                                                                                                                                                                                                                                                                                            | Universidad                                                                                                                                                                                                                                                                                                                                                      | Apartment                                                                                                                                                                                                                                                                                                                                                        | Entire home/apt                                                                                                                                                                                                                                                                                                                                                  | 3                                                                                                                                                                                                                                                                                                                                                                | 1                                                                                                                                                                                                                                                                                                                                                                | 2                                                                                                                                                                                                                                                                                                                                                                | 2                                                                                                                                                                                                                                                                                                                                                                | Real Bed                                                                                                                                                                                                                                                                                                                                                         | TV,Internet,Wireless Internet,Air conditioning,Kitchen,Doorman,Heating,Family/kid friendly,Washer,Essentials,Shampoo,Hangers,Hair dryer,Iron,Laptop friendly workspace                                                                                                                                                                                           |  NA                                                                                                                                                                                                                                                                                                                                                              | 55                                                                                                                                                                                                                                                                                                                                                               |  91                                                                                                                                                                                                                                                                                                                                                              |\n",
       "| 28004                                                                                                                                                                                                                                                                                                                                                            | Universidad                                                                                                                                                                                                                                                                                                                                                      | Loft                                                                                                                                                                                                                                                                                                                                                             | Entire home/apt                                                                                                                                                                                                                                                                                                                                                  | 3                                                                                                                                                                                                                                                                                                                                                                | 2                                                                                                                                                                                                                                                                                                                                                                | 1                                                                                                                                                                                                                                                                                                                                                                | 1                                                                                                                                                                                                                                                                                                                                                                | Real Bed                                                                                                                                                                                                                                                                                                                                                         | TV,Internet,Wireless Internet,Air conditioning,Kitchen,Pets allowed,Breakfast,Elevator in building,Indoor fireplace,Buzzer/wireless intercom,Heating,Washer,Essentials,Shampoo,Hangers,Hair dryer,Iron,Laptop friendly workspace,translation missing: en.hosting_amenity_49,translation missing: en.hosting_amenity_50                                           |  NA                                                                                                                                                                                                                                                                                                                                                              | 60                                                                                                                                                                                                                                                                                                                                                               | 100                                                                                                                                                                                                                                                                                                                                                              |\n",
       "| 28015                                                                                                                                                                                                                                                                                                                                                            | Universidad                                                                                                                                                                                                                                                                                                                                                      | Apartment                                                                                                                                                                                                                                                                                                                                                        | Entire home/apt                                                                                                                                                                                                                                                                                                                                                  | 5                                                                                                                                                                                                                                                                                                                                                                | 1                                                                                                                                                                                                                                                                                                                                                                | 1                                                                                                                                                                                                                                                                                                                                                                | 1                                                                                                                                                                                                                                                                                                                                                                | Real Bed                                                                                                                                                                                                                                                                                                                                                         | TV,Wireless Internet,Air conditioning,Kitchen,Smoking allowed,Pets allowed,Elevator in building,Heating,Family/kid friendly,Washer,Essentials,Iron                                                                                                                                                                                                               | 538                                                                                                                                                                                                                                                                                                                                                              | 75                                                                                                                                                                                                                                                                                                                                                               |  90                                                                                                                                                                                                                                                                                                                                                              |\n",
       "| 28004                                                                                                                                                                                                                                                                                                                                                            | Universidad                                                                                                                                                                                                                                                                                                                                                      | Apartment                                                                                                                                                                                                                                                                                                                                                        | Entire home/apt                                                                                                                                                                                                                                                                                                                                                  | 2                                                                                                                                                                                                                                                                                                                                                                | 1                                                                                                                                                                                                                                                                                                                                                                | 0                                                                                                                                                                                                                                                                                                                                                                | 1                                                                                                                                                                                                                                                                                                                                                                | Real Bed                                                                                                                                                                                                                                                                                                                                                         | TV,Cable TV,Internet,Wireless Internet,Air conditioning,Wheelchair accessible,Kitchen,Doorman,Elevator in building,Buzzer/wireless intercom,Heating,Washer,Smoke detector,Carbon monoxide detector,First aid kit,Safety card,Fire extinguisher,Essentials,Shampoo,24-hour check-in,Hangers,Hair dryer,Iron,Laptop friendly workspace,Self Check-In,Doorman Entry |  NA                                                                                                                                                                                                                                                                                                                                                              | 55                                                                                                                                                                                                                                                                                                                                                               |  95                                                                                                                                                                                                                                                                                                                                                              |\n",
       "\n"
      ],
      "text/plain": [
       "  CodigoPostal Barrio      TipoPropiedad TipoAlquiler    MaxOcupantes NumBanyos\n",
       "1 28004        Universidad Apartment     Private room    2            2        \n",
       "2 28004        Universidad Apartment     Entire home/apt 6            1        \n",
       "3 28004        Universidad Apartment     Entire home/apt 3            1        \n",
       "4 28004        Universidad Loft          Entire home/apt 3            2        \n",
       "5 28015        Universidad Apartment     Entire home/apt 5            1        \n",
       "6 28004        Universidad Apartment     Entire home/apt 2            1        \n",
       "  NumDormitorios NumCamas TipoCama\n",
       "1 1              1        Real Bed\n",
       "2 3              5        Real Bed\n",
       "3 2              2        Real Bed\n",
       "4 1              1        Real Bed\n",
       "5 1              1        Real Bed\n",
       "6 0              1        Real Bed\n",
       "  Comodidades                                                                                                                                                                                                                                                                                                                                                     \n",
       "1 TV,Wireless Internet,Kitchen,Pets allowed,Pets live on this property,Buzzer/wireless intercom,Heating,Suitable for events,Washer,First aid kit,Essentials,Lock on bedroom door,Iron                                                                                                                                                                             \n",
       "2 TV,Internet,Wireless Internet,Air conditioning,Kitchen,Indoor fireplace,Heating,Family/kid friendly,Washer,Dryer,Smoke detector,Carbon monoxide detector,Essentials,Shampoo                                                                                                                                                                                     \n",
       "3 TV,Internet,Wireless Internet,Air conditioning,Kitchen,Doorman,Heating,Family/kid friendly,Washer,Essentials,Shampoo,Hangers,Hair dryer,Iron,Laptop friendly workspace                                                                                                                                                                                          \n",
       "4 TV,Internet,Wireless Internet,Air conditioning,Kitchen,Pets allowed,Breakfast,Elevator in building,Indoor fireplace,Buzzer/wireless intercom,Heating,Washer,Essentials,Shampoo,Hangers,Hair dryer,Iron,Laptop friendly workspace,translation missing: en.hosting_amenity_49,translation missing: en.hosting_amenity_50                                          \n",
       "5 TV,Wireless Internet,Air conditioning,Kitchen,Smoking allowed,Pets allowed,Elevator in building,Heating,Family/kid friendly,Washer,Essentials,Iron                                                                                                                                                                                                              \n",
       "6 TV,Cable TV,Internet,Wireless Internet,Air conditioning,Wheelchair accessible,Kitchen,Doorman,Elevator in building,Buzzer/wireless intercom,Heating,Washer,Smoke detector,Carbon monoxide detector,First aid kit,Safety card,Fire extinguisher,Essentials,Shampoo,24-hour check-in,Hangers,Hair dryer,Iron,Laptop friendly workspace,Self Check-In,Doorman Entry\n",
       "  PiesCuadrados Precio Puntuacion\n",
       "1  NA           35      NA       \n",
       "2  NA           92      96       \n",
       "3  NA           55      91       \n",
       "4  NA           60     100       \n",
       "5 538           75      90       \n",
       "6  NA           55      95       "
      ]
     },
     "metadata": {},
     "output_type": "display_data"
    }
   ],
   "source": [
    "newnames<-c(\"CodigoPostal\",\"Barrio\",\"TipoPropiedad\",\"TipoAlquiler\",\"MaxOcupantes\",\"NumBanyos\",\n",
    "\"NumDormitorios\",\"NumCamas\",\"TipoCama\",\"Comodidades\",\"PiesCuadrados\",\"Precio\",\"Puntuacion\")\n",
    "colnames (airbnb)<-newnames\n",
    "head(airbnb)\n",
    "\n"
   ]
  },
  {
   "cell_type": "markdown",
   "metadata": {},
   "source": [
    "Crea una nueva columna llamada MetrosCuadrados a partir de la columna PiesCuadrados.\n",
    "\n",
    "Ayuda: 1 pie cuadrado son 0,092903 metros cuadrdados"
   ]
  },
  {
   "cell_type": "code",
   "execution_count": 319,
   "metadata": {},
   "outputs": [
    {
     "data": {
      "text/html": [
       "<table>\n",
       "<thead><tr><th scope=col>CodigoPostal</th><th scope=col>Barrio</th><th scope=col>TipoPropiedad</th><th scope=col>TipoAlquiler</th><th scope=col>MaxOcupantes</th><th scope=col>NumBanyos</th><th scope=col>NumDormitorios</th><th scope=col>NumCamas</th><th scope=col>TipoCama</th><th scope=col>Comodidades</th><th scope=col>PiesCuadrados</th><th scope=col>Precio</th><th scope=col>Puntuacion</th><th scope=col>MetrosCuadrados</th></tr></thead>\n",
       "<tbody>\n",
       "\t<tr><td>28004                                                                                                                                                                                                                                                                                                                                                           </td><td>Universidad                                                                                                                                                                                                                                                                                                                                                     </td><td>Apartment                                                                                                                                                                                                                                                                                                                                                       </td><td>Private room                                                                                                                                                                                                                                                                                                                                                    </td><td>2                                                                                                                                                                                                                                                                                                                                                               </td><td>2                                                                                                                                                                                                                                                                                                                                                               </td><td>1                                                                                                                                                                                                                                                                                                                                                               </td><td>1                                                                                                                                                                                                                                                                                                                                                               </td><td>Real Bed                                                                                                                                                                                                                                                                                                                                                        </td><td>TV,Wireless Internet,Kitchen,Pets allowed,Pets live on this property,Buzzer/wireless intercom,Heating,Suitable for events,Washer,First aid kit,Essentials,Lock on bedroom door,Iron                                                                                                                                                                             </td><td> NA                                                                                                                                                                                                                                                                                                                                                             </td><td>35                                                                                                                                                                                                                                                                                                                                                              </td><td> NA                                                                                                                                                                                                                                                                                                                                                             </td><td>      NA                                                                                                                                                                                                                                                                                                                                                        </td></tr>\n",
       "\t<tr><td>28004                                                                                                                                                                                                                                                                                                                                                           </td><td>Universidad                                                                                                                                                                                                                                                                                                                                                     </td><td>Apartment                                                                                                                                                                                                                                                                                                                                                       </td><td>Entire home/apt                                                                                                                                                                                                                                                                                                                                                 </td><td>6                                                                                                                                                                                                                                                                                                                                                               </td><td>1                                                                                                                                                                                                                                                                                                                                                               </td><td>3                                                                                                                                                                                                                                                                                                                                                               </td><td>5                                                                                                                                                                                                                                                                                                                                                               </td><td>Real Bed                                                                                                                                                                                                                                                                                                                                                        </td><td>TV,Internet,Wireless Internet,Air conditioning,Kitchen,Indoor fireplace,Heating,Family/kid friendly,Washer,Dryer,Smoke detector,Carbon monoxide detector,Essentials,Shampoo                                                                                                                                                                                     </td><td> NA                                                                                                                                                                                                                                                                                                                                                             </td><td>92                                                                                                                                                                                                                                                                                                                                                              </td><td> 96                                                                                                                                                                                                                                                                                                                                                             </td><td>      NA                                                                                                                                                                                                                                                                                                                                                        </td></tr>\n",
       "\t<tr><td>28004                                                                                                                                                                                                                                                                                                                                                           </td><td>Universidad                                                                                                                                                                                                                                                                                                                                                     </td><td>Apartment                                                                                                                                                                                                                                                                                                                                                       </td><td>Entire home/apt                                                                                                                                                                                                                                                                                                                                                 </td><td>3                                                                                                                                                                                                                                                                                                                                                               </td><td>1                                                                                                                                                                                                                                                                                                                                                               </td><td>2                                                                                                                                                                                                                                                                                                                                                               </td><td>2                                                                                                                                                                                                                                                                                                                                                               </td><td>Real Bed                                                                                                                                                                                                                                                                                                                                                        </td><td>TV,Internet,Wireless Internet,Air conditioning,Kitchen,Doorman,Heating,Family/kid friendly,Washer,Essentials,Shampoo,Hangers,Hair dryer,Iron,Laptop friendly workspace                                                                                                                                                                                          </td><td> NA                                                                                                                                                                                                                                                                                                                                                             </td><td>55                                                                                                                                                                                                                                                                                                                                                              </td><td> 91                                                                                                                                                                                                                                                                                                                                                             </td><td>      NA                                                                                                                                                                                                                                                                                                                                                        </td></tr>\n",
       "\t<tr><td>28004                                                                                                                                                                                                                                                                                                                                                           </td><td>Universidad                                                                                                                                                                                                                                                                                                                                                     </td><td>Loft                                                                                                                                                                                                                                                                                                                                                            </td><td>Entire home/apt                                                                                                                                                                                                                                                                                                                                                 </td><td>3                                                                                                                                                                                                                                                                                                                                                               </td><td>2                                                                                                                                                                                                                                                                                                                                                               </td><td>1                                                                                                                                                                                                                                                                                                                                                               </td><td>1                                                                                                                                                                                                                                                                                                                                                               </td><td>Real Bed                                                                                                                                                                                                                                                                                                                                                        </td><td>TV,Internet,Wireless Internet,Air conditioning,Kitchen,Pets allowed,Breakfast,Elevator in building,Indoor fireplace,Buzzer/wireless intercom,Heating,Washer,Essentials,Shampoo,Hangers,Hair dryer,Iron,Laptop friendly workspace,translation missing: en.hosting_amenity_49,translation missing: en.hosting_amenity_50                                          </td><td> NA                                                                                                                                                                                                                                                                                                                                                             </td><td>60                                                                                                                                                                                                                                                                                                                                                              </td><td>100                                                                                                                                                                                                                                                                                                                                                             </td><td>      NA                                                                                                                                                                                                                                                                                                                                                        </td></tr>\n",
       "\t<tr><td>28015                                                                                                                                                                                                                                                                                                                                                           </td><td>Universidad                                                                                                                                                                                                                                                                                                                                                     </td><td>Apartment                                                                                                                                                                                                                                                                                                                                                       </td><td>Entire home/apt                                                                                                                                                                                                                                                                                                                                                 </td><td>5                                                                                                                                                                                                                                                                                                                                                               </td><td>1                                                                                                                                                                                                                                                                                                                                                               </td><td>1                                                                                                                                                                                                                                                                                                                                                               </td><td>1                                                                                                                                                                                                                                                                                                                                                               </td><td>Real Bed                                                                                                                                                                                                                                                                                                                                                        </td><td>TV,Wireless Internet,Air conditioning,Kitchen,Smoking allowed,Pets allowed,Elevator in building,Heating,Family/kid friendly,Washer,Essentials,Iron                                                                                                                                                                                                              </td><td>538                                                                                                                                                                                                                                                                                                                                                             </td><td>75                                                                                                                                                                                                                                                                                                                                                              </td><td> 90                                                                                                                                                                                                                                                                                                                                                             </td><td>49.98181                                                                                                                                                                                                                                                                                                                                                        </td></tr>\n",
       "\t<tr><td>28004                                                                                                                                                                                                                                                                                                                                                           </td><td>Universidad                                                                                                                                                                                                                                                                                                                                                     </td><td>Apartment                                                                                                                                                                                                                                                                                                                                                       </td><td>Entire home/apt                                                                                                                                                                                                                                                                                                                                                 </td><td>2                                                                                                                                                                                                                                                                                                                                                               </td><td>1                                                                                                                                                                                                                                                                                                                                                               </td><td>0                                                                                                                                                                                                                                                                                                                                                               </td><td>1                                                                                                                                                                                                                                                                                                                                                               </td><td>Real Bed                                                                                                                                                                                                                                                                                                                                                        </td><td>TV,Cable TV,Internet,Wireless Internet,Air conditioning,Wheelchair accessible,Kitchen,Doorman,Elevator in building,Buzzer/wireless intercom,Heating,Washer,Smoke detector,Carbon monoxide detector,First aid kit,Safety card,Fire extinguisher,Essentials,Shampoo,24-hour check-in,Hangers,Hair dryer,Iron,Laptop friendly workspace,Self Check-In,Doorman Entry</td><td> NA                                                                                                                                                                                                                                                                                                                                                             </td><td>55                                                                                                                                                                                                                                                                                                                                                              </td><td> 95                                                                                                                                                                                                                                                                                                                                                             </td><td>      NA                                                                                                                                                                                                                                                                                                                                                        </td></tr>\n",
       "</tbody>\n",
       "</table>\n"
      ],
      "text/latex": [
       "\\begin{tabular}{r|llllllllllllll}\n",
       " CodigoPostal & Barrio & TipoPropiedad & TipoAlquiler & MaxOcupantes & NumBanyos & NumDormitorios & NumCamas & TipoCama & Comodidades & PiesCuadrados & Precio & Puntuacion & MetrosCuadrados\\\\\n",
       "\\hline\n",
       "\t 28004                                                                                                                                                                                                                                                                                                                                                            & Universidad                                                                                                                                                                                                                                                                                                                                                      & Apartment                                                                                                                                                                                                                                                                                                                                                        & Private room                                                                                                                                                                                                                                                                                                                                                     & 2                                                                                                                                                                                                                                                                                                                                                                & 2                                                                                                                                                                                                                                                                                                                                                                & 1                                                                                                                                                                                                                                                                                                                                                                & 1                                                                                                                                                                                                                                                                                                                                                                & Real Bed                                                                                                                                                                                                                                                                                                                                                         & TV,Wireless Internet,Kitchen,Pets allowed,Pets live on this property,Buzzer/wireless intercom,Heating,Suitable for events,Washer,First aid kit,Essentials,Lock on bedroom door,Iron                                                                                                                                                                              &  NA                                                                                                                                                                                                                                                                                                                                                              & 35                                                                                                                                                                                                                                                                                                                                                               &  NA                                                                                                                                                                                                                                                                                                                                                              &       NA                                                                                                                                                                                                                                                                                                                                                        \\\\\n",
       "\t 28004                                                                                                                                                                                                                                                                                                                                                            & Universidad                                                                                                                                                                                                                                                                                                                                                      & Apartment                                                                                                                                                                                                                                                                                                                                                        & Entire home/apt                                                                                                                                                                                                                                                                                                                                                  & 6                                                                                                                                                                                                                                                                                                                                                                & 1                                                                                                                                                                                                                                                                                                                                                                & 3                                                                                                                                                                                                                                                                                                                                                                & 5                                                                                                                                                                                                                                                                                                                                                                & Real Bed                                                                                                                                                                                                                                                                                                                                                         & TV,Internet,Wireless Internet,Air conditioning,Kitchen,Indoor fireplace,Heating,Family/kid friendly,Washer,Dryer,Smoke detector,Carbon monoxide detector,Essentials,Shampoo                                                                                                                                                                                      &  NA                                                                                                                                                                                                                                                                                                                                                              & 92                                                                                                                                                                                                                                                                                                                                                               &  96                                                                                                                                                                                                                                                                                                                                                              &       NA                                                                                                                                                                                                                                                                                                                                                        \\\\\n",
       "\t 28004                                                                                                                                                                                                                                                                                                                                                            & Universidad                                                                                                                                                                                                                                                                                                                                                      & Apartment                                                                                                                                                                                                                                                                                                                                                        & Entire home/apt                                                                                                                                                                                                                                                                                                                                                  & 3                                                                                                                                                                                                                                                                                                                                                                & 1                                                                                                                                                                                                                                                                                                                                                                & 2                                                                                                                                                                                                                                                                                                                                                                & 2                                                                                                                                                                                                                                                                                                                                                                & Real Bed                                                                                                                                                                                                                                                                                                                                                         & TV,Internet,Wireless Internet,Air conditioning,Kitchen,Doorman,Heating,Family/kid friendly,Washer,Essentials,Shampoo,Hangers,Hair dryer,Iron,Laptop friendly workspace                                                                                                                                                                                           &  NA                                                                                                                                                                                                                                                                                                                                                              & 55                                                                                                                                                                                                                                                                                                                                                               &  91                                                                                                                                                                                                                                                                                                                                                              &       NA                                                                                                                                                                                                                                                                                                                                                        \\\\\n",
       "\t 28004                                                                                                                                                                                                                                                                                                                                                                    & Universidad                                                                                                                                                                                                                                                                                                                                                              & Loft                                                                                                                                                                                                                                                                                                                                                                     & Entire home/apt                                                                                                                                                                                                                                                                                                                                                          & 3                                                                                                                                                                                                                                                                                                                                                                        & 2                                                                                                                                                                                                                                                                                                                                                                        & 1                                                                                                                                                                                                                                                                                                                                                                        & 1                                                                                                                                                                                                                                                                                                                                                                        & Real Bed                                                                                                                                                                                                                                                                                                                                                                 & TV,Internet,Wireless Internet,Air conditioning,Kitchen,Pets allowed,Breakfast,Elevator in building,Indoor fireplace,Buzzer/wireless intercom,Heating,Washer,Essentials,Shampoo,Hangers,Hair dryer,Iron,Laptop friendly workspace,translation missing: en.hosting\\_amenity\\_49,translation missing: en.hosting\\_amenity\\_50                                           &  NA                                                                                                                                                                                                                                                                                                                                                                      & 60                                                                                                                                                                                                                                                                                                                                                                       & 100                                                                                                                                                                                                                                                                                                                                                                      &       NA                                                                                                                                                                                                                                                                                                                                                                \\\\\n",
       "\t 28015                                                                                                                                                                                                                                                                                                                                                            & Universidad                                                                                                                                                                                                                                                                                                                                                      & Apartment                                                                                                                                                                                                                                                                                                                                                        & Entire home/apt                                                                                                                                                                                                                                                                                                                                                  & 5                                                                                                                                                                                                                                                                                                                                                                & 1                                                                                                                                                                                                                                                                                                                                                                & 1                                                                                                                                                                                                                                                                                                                                                                & 1                                                                                                                                                                                                                                                                                                                                                                & Real Bed                                                                                                                                                                                                                                                                                                                                                         & TV,Wireless Internet,Air conditioning,Kitchen,Smoking allowed,Pets allowed,Elevator in building,Heating,Family/kid friendly,Washer,Essentials,Iron                                                                                                                                                                                                               & 538                                                                                                                                                                                                                                                                                                                                                              & 75                                                                                                                                                                                                                                                                                                                                                               &  90                                                                                                                                                                                                                                                                                                                                                              & 49.98181                                                                                                                                                                                                                                                                                                                                                        \\\\\n",
       "\t 28004                                                                                                                                                                                                                                                                                                                                                            & Universidad                                                                                                                                                                                                                                                                                                                                                      & Apartment                                                                                                                                                                                                                                                                                                                                                        & Entire home/apt                                                                                                                                                                                                                                                                                                                                                  & 2                                                                                                                                                                                                                                                                                                                                                                & 1                                                                                                                                                                                                                                                                                                                                                                & 0                                                                                                                                                                                                                                                                                                                                                                & 1                                                                                                                                                                                                                                                                                                                                                                & Real Bed                                                                                                                                                                                                                                                                                                                                                         & TV,Cable TV,Internet,Wireless Internet,Air conditioning,Wheelchair accessible,Kitchen,Doorman,Elevator in building,Buzzer/wireless intercom,Heating,Washer,Smoke detector,Carbon monoxide detector,First aid kit,Safety card,Fire extinguisher,Essentials,Shampoo,24-hour check-in,Hangers,Hair dryer,Iron,Laptop friendly workspace,Self Check-In,Doorman Entry &  NA                                                                                                                                                                                                                                                                                                                                                              & 55                                                                                                                                                                                                                                                                                                                                                               &  95                                                                                                                                                                                                                                                                                                                                                              &       NA                                                                                                                                                                                                                                                                                                                                                        \\\\\n",
       "\\end{tabular}\n"
      ],
      "text/markdown": [
       "\n",
       "| CodigoPostal | Barrio | TipoPropiedad | TipoAlquiler | MaxOcupantes | NumBanyos | NumDormitorios | NumCamas | TipoCama | Comodidades | PiesCuadrados | Precio | Puntuacion | MetrosCuadrados |\n",
       "|---|---|---|---|---|---|---|---|---|---|---|---|---|---|\n",
       "| 28004                                                                                                                                                                                                                                                                                                                                                            | Universidad                                                                                                                                                                                                                                                                                                                                                      | Apartment                                                                                                                                                                                                                                                                                                                                                        | Private room                                                                                                                                                                                                                                                                                                                                                     | 2                                                                                                                                                                                                                                                                                                                                                                | 2                                                                                                                                                                                                                                                                                                                                                                | 1                                                                                                                                                                                                                                                                                                                                                                | 1                                                                                                                                                                                                                                                                                                                                                                | Real Bed                                                                                                                                                                                                                                                                                                                                                         | TV,Wireless Internet,Kitchen,Pets allowed,Pets live on this property,Buzzer/wireless intercom,Heating,Suitable for events,Washer,First aid kit,Essentials,Lock on bedroom door,Iron                                                                                                                                                                              |  NA                                                                                                                                                                                                                                                                                                                                                              | 35                                                                                                                                                                                                                                                                                                                                                               |  NA                                                                                                                                                                                                                                                                                                                                                              |       NA                                                                                                                                                                                                                                                                                                                                                         |\n",
       "| 28004                                                                                                                                                                                                                                                                                                                                                            | Universidad                                                                                                                                                                                                                                                                                                                                                      | Apartment                                                                                                                                                                                                                                                                                                                                                        | Entire home/apt                                                                                                                                                                                                                                                                                                                                                  | 6                                                                                                                                                                                                                                                                                                                                                                | 1                                                                                                                                                                                                                                                                                                                                                                | 3                                                                                                                                                                                                                                                                                                                                                                | 5                                                                                                                                                                                                                                                                                                                                                                | Real Bed                                                                                                                                                                                                                                                                                                                                                         | TV,Internet,Wireless Internet,Air conditioning,Kitchen,Indoor fireplace,Heating,Family/kid friendly,Washer,Dryer,Smoke detector,Carbon monoxide detector,Essentials,Shampoo                                                                                                                                                                                      |  NA                                                                                                                                                                                                                                                                                                                                                              | 92                                                                                                                                                                                                                                                                                                                                                               |  96                                                                                                                                                                                                                                                                                                                                                              |       NA                                                                                                                                                                                                                                                                                                                                                         |\n",
       "| 28004                                                                                                                                                                                                                                                                                                                                                            | Universidad                                                                                                                                                                                                                                                                                                                                                      | Apartment                                                                                                                                                                                                                                                                                                                                                        | Entire home/apt                                                                                                                                                                                                                                                                                                                                                  | 3                                                                                                                                                                                                                                                                                                                                                                | 1                                                                                                                                                                                                                                                                                                                                                                | 2                                                                                                                                                                                                                                                                                                                                                                | 2                                                                                                                                                                                                                                                                                                                                                                | Real Bed                                                                                                                                                                                                                                                                                                                                                         | TV,Internet,Wireless Internet,Air conditioning,Kitchen,Doorman,Heating,Family/kid friendly,Washer,Essentials,Shampoo,Hangers,Hair dryer,Iron,Laptop friendly workspace                                                                                                                                                                                           |  NA                                                                                                                                                                                                                                                                                                                                                              | 55                                                                                                                                                                                                                                                                                                                                                               |  91                                                                                                                                                                                                                                                                                                                                                              |       NA                                                                                                                                                                                                                                                                                                                                                         |\n",
       "| 28004                                                                                                                                                                                                                                                                                                                                                            | Universidad                                                                                                                                                                                                                                                                                                                                                      | Loft                                                                                                                                                                                                                                                                                                                                                             | Entire home/apt                                                                                                                                                                                                                                                                                                                                                  | 3                                                                                                                                                                                                                                                                                                                                                                | 2                                                                                                                                                                                                                                                                                                                                                                | 1                                                                                                                                                                                                                                                                                                                                                                | 1                                                                                                                                                                                                                                                                                                                                                                | Real Bed                                                                                                                                                                                                                                                                                                                                                         | TV,Internet,Wireless Internet,Air conditioning,Kitchen,Pets allowed,Breakfast,Elevator in building,Indoor fireplace,Buzzer/wireless intercom,Heating,Washer,Essentials,Shampoo,Hangers,Hair dryer,Iron,Laptop friendly workspace,translation missing: en.hosting_amenity_49,translation missing: en.hosting_amenity_50                                           |  NA                                                                                                                                                                                                                                                                                                                                                              | 60                                                                                                                                                                                                                                                                                                                                                               | 100                                                                                                                                                                                                                                                                                                                                                              |       NA                                                                                                                                                                                                                                                                                                                                                         |\n",
       "| 28015                                                                                                                                                                                                                                                                                                                                                            | Universidad                                                                                                                                                                                                                                                                                                                                                      | Apartment                                                                                                                                                                                                                                                                                                                                                        | Entire home/apt                                                                                                                                                                                                                                                                                                                                                  | 5                                                                                                                                                                                                                                                                                                                                                                | 1                                                                                                                                                                                                                                                                                                                                                                | 1                                                                                                                                                                                                                                                                                                                                                                | 1                                                                                                                                                                                                                                                                                                                                                                | Real Bed                                                                                                                                                                                                                                                                                                                                                         | TV,Wireless Internet,Air conditioning,Kitchen,Smoking allowed,Pets allowed,Elevator in building,Heating,Family/kid friendly,Washer,Essentials,Iron                                                                                                                                                                                                               | 538                                                                                                                                                                                                                                                                                                                                                              | 75                                                                                                                                                                                                                                                                                                                                                               |  90                                                                                                                                                                                                                                                                                                                                                              | 49.98181                                                                                                                                                                                                                                                                                                                                                         |\n",
       "| 28004                                                                                                                                                                                                                                                                                                                                                            | Universidad                                                                                                                                                                                                                                                                                                                                                      | Apartment                                                                                                                                                                                                                                                                                                                                                        | Entire home/apt                                                                                                                                                                                                                                                                                                                                                  | 2                                                                                                                                                                                                                                                                                                                                                                | 1                                                                                                                                                                                                                                                                                                                                                                | 0                                                                                                                                                                                                                                                                                                                                                                | 1                                                                                                                                                                                                                                                                                                                                                                | Real Bed                                                                                                                                                                                                                                                                                                                                                         | TV,Cable TV,Internet,Wireless Internet,Air conditioning,Wheelchair accessible,Kitchen,Doorman,Elevator in building,Buzzer/wireless intercom,Heating,Washer,Smoke detector,Carbon monoxide detector,First aid kit,Safety card,Fire extinguisher,Essentials,Shampoo,24-hour check-in,Hangers,Hair dryer,Iron,Laptop friendly workspace,Self Check-In,Doorman Entry |  NA                                                                                                                                                                                                                                                                                                                                                              | 55                                                                                                                                                                                                                                                                                                                                                               |  95                                                                                                                                                                                                                                                                                                                                                              |       NA                                                                                                                                                                                                                                                                                                                                                         |\n",
       "\n"
      ],
      "text/plain": [
       "  CodigoPostal Barrio      TipoPropiedad TipoAlquiler    MaxOcupantes NumBanyos\n",
       "1 28004        Universidad Apartment     Private room    2            2        \n",
       "2 28004        Universidad Apartment     Entire home/apt 6            1        \n",
       "3 28004        Universidad Apartment     Entire home/apt 3            1        \n",
       "4 28004        Universidad Loft          Entire home/apt 3            2        \n",
       "5 28015        Universidad Apartment     Entire home/apt 5            1        \n",
       "6 28004        Universidad Apartment     Entire home/apt 2            1        \n",
       "  NumDormitorios NumCamas TipoCama\n",
       "1 1              1        Real Bed\n",
       "2 3              5        Real Bed\n",
       "3 2              2        Real Bed\n",
       "4 1              1        Real Bed\n",
       "5 1              1        Real Bed\n",
       "6 0              1        Real Bed\n",
       "  Comodidades                                                                                                                                                                                                                                                                                                                                                     \n",
       "1 TV,Wireless Internet,Kitchen,Pets allowed,Pets live on this property,Buzzer/wireless intercom,Heating,Suitable for events,Washer,First aid kit,Essentials,Lock on bedroom door,Iron                                                                                                                                                                             \n",
       "2 TV,Internet,Wireless Internet,Air conditioning,Kitchen,Indoor fireplace,Heating,Family/kid friendly,Washer,Dryer,Smoke detector,Carbon monoxide detector,Essentials,Shampoo                                                                                                                                                                                     \n",
       "3 TV,Internet,Wireless Internet,Air conditioning,Kitchen,Doorman,Heating,Family/kid friendly,Washer,Essentials,Shampoo,Hangers,Hair dryer,Iron,Laptop friendly workspace                                                                                                                                                                                          \n",
       "4 TV,Internet,Wireless Internet,Air conditioning,Kitchen,Pets allowed,Breakfast,Elevator in building,Indoor fireplace,Buzzer/wireless intercom,Heating,Washer,Essentials,Shampoo,Hangers,Hair dryer,Iron,Laptop friendly workspace,translation missing: en.hosting_amenity_49,translation missing: en.hosting_amenity_50                                          \n",
       "5 TV,Wireless Internet,Air conditioning,Kitchen,Smoking allowed,Pets allowed,Elevator in building,Heating,Family/kid friendly,Washer,Essentials,Iron                                                                                                                                                                                                              \n",
       "6 TV,Cable TV,Internet,Wireless Internet,Air conditioning,Wheelchair accessible,Kitchen,Doorman,Elevator in building,Buzzer/wireless intercom,Heating,Washer,Smoke detector,Carbon monoxide detector,First aid kit,Safety card,Fire extinguisher,Essentials,Shampoo,24-hour check-in,Hangers,Hair dryer,Iron,Laptop friendly workspace,Self Check-In,Doorman Entry\n",
       "  PiesCuadrados Precio Puntuacion MetrosCuadrados\n",
       "1  NA           35      NA              NA       \n",
       "2  NA           92      96              NA       \n",
       "3  NA           55      91              NA       \n",
       "4  NA           60     100              NA       \n",
       "5 538           75      90        49.98181       \n",
       "6  NA           55      95              NA       "
      ]
     },
     "metadata": {},
     "output_type": "display_data"
    }
   ],
   "source": [
    "airbnb$MetrosCuadrados<-airbnb$PiesCuadrados*0.092903\n",
    "head(airbnb)\n"
   ]
  },
  {
   "cell_type": "markdown",
   "metadata": {},
   "source": [
    "Miremos el código postal. Es una variable con entradas erroneas.\n",
    "Hay valores como '', '-'  y '28' que deberían ser considerados como NA.\n",
    "Así mismo también debería ser NA todos los que no compiencen por 28, ya que estamos con códigos postales de Madrid\n",
    "\n",
    "El código postal 28002, 28004 y 28051 tienen entradas repetidas. \n",
    "Por ejemplo las entradas 28002\\n20882 deberían ir dnetro de 28002\n",
    "\n",
    "El codigo 2804 debería ser 28004, 2805 deberia ser 28005 y 2815 juncto con 2815 debería ser 28015\n",
    "\n",
    "Limpia los datos de la columna Codigo Postal"
   ]
  },
  {
   "cell_type": "code",
   "execution_count": 320,
   "metadata": {},
   "outputs": [],
   "source": [
    "airbnb$CodigoPostal [airbnb$CodigoPostal=='']=NA\n",
    "airbnb$CodigoPostal [airbnb$CodigoPostal=='-']<-NA\n",
    "airbnb$CodigoPostal [airbnb$CodigoPostal=='28']<-NA\n",
    "airbnb$CodigoPostal [airbnb$CodigoPostal=='28002\\n28002']<-'28002'\n",
    "airbnb$CodigoPostal [airbnb$CodigoPostal=='Madrid 28004']<-'28004'\n",
    "airbnb$CodigoPostal [airbnb$CodigoPostal=='28051\\n28051']<-'28051'\n",
    "airbnb$CodigoPostal [airbnb$CodigoPostal=='2804']<-'28004'\n",
    "airbnb$CodigoPostal [airbnb$CodigoPostal=='2805']<-'28005'\n",
    "airbnb$CodigoPostal [airbnb$CodigoPostal=='2815']<-'28015'\n",
    "airbnb$CodigoPostal [airbnb$CodigoPostal=='280013']<-'28013'  #No estaba en el enunciado pero lo he visto en el listado\n",
    "airbnb$CodigoPostal [substr(airbnb$CodigoPostal, 1, 2)!='28']<-NA\n"
   ]
  },
  {
   "cell_type": "markdown",
   "metadata": {},
   "source": [
    "Una vez limpios los datos ¿Cuales son los códigos postales que tenemos? "
   ]
  },
  {
   "cell_type": "code",
   "execution_count": 321,
   "metadata": {},
   "outputs": [
    {
     "data": {
      "text/html": [
       "<ol class=list-inline>\n",
       "\t<li>28004</li>\n",
       "\t<li>28015</li>\n",
       "\t<li>28013</li>\n",
       "\t<li>28005</li>\n",
       "\t<li>28012</li>\n",
       "\t<li>28014</li>\n",
       "\t<li>28045</li>\n",
       "\t<li>&lt;NA&gt;</li>\n",
       "\t<li>28007</li>\n",
       "\t<li>28028</li>\n",
       "\t<li>28009</li>\n",
       "\t<li>28001</li>\n",
       "\t<li>28006</li>\n",
       "\t<li>28010</li>\n",
       "\t<li>28002</li>\n",
       "\t<li>28034</li>\n",
       "\t<li>28050</li>\n",
       "\t<li>28008</li>\n",
       "\t<li>28011</li>\n",
       "\t<li>28049</li>\n",
       "\t<li>28038</li>\n",
       "\t<li>28053</li>\n",
       "\t<li>28047</li>\n",
       "\t<li>28025</li>\n",
       "\t<li>28019</li>\n",
       "\t<li>28024</li>\n",
       "\t<li>28016</li>\n",
       "\t<li>28036</li>\n",
       "\t<li>28046</li>\n",
       "\t<li>28039</li>\n",
       "\t<li>28020</li>\n",
       "\t<li>28003</li>\n",
       "\t<li>28029</li>\n",
       "\t<li>28054</li>\n",
       "\t<li>28041</li>\n",
       "\t<li>28026</li>\n",
       "\t<li>28058</li>\n",
       "\t<li>28018</li>\n",
       "\t<li>28030</li>\n",
       "\t<li>28017</li>\n",
       "\t<li>28027</li>\n",
       "\t<li>28043</li>\n",
       "\t<li>28033</li>\n",
       "\t<li>28055</li>\n",
       "\t<li>28021</li>\n",
       "\t<li>28032</li>\n",
       "\t<li>28037</li>\n",
       "\t<li>28022</li>\n",
       "\t<li>28042</li>\n",
       "\t<li>28094</li>\n",
       "\t<li>28035</li>\n",
       "\t<li>28040</li>\n",
       "\t<li>28031</li>\n",
       "\t<li>28044</li>\n",
       "\t<li>28105</li>\n",
       "\t<li>28023</li>\n",
       "\t<li>28051</li>\n",
       "\t<li>28850</li>\n",
       "\t<li>28048</li>\n",
       "\t<li>28056</li>\n",
       "\t<li>28060</li>\n",
       "\t<li>28052</li>\n",
       "</ol>\n",
       "\n",
       "<details>\n",
       "\t<summary style=display:list-item;cursor:pointer>\n",
       "\t\t<strong>Levels</strong>:\n",
       "\t</summary>\n",
       "\t<ol class=list-inline>\n",
       "\t\t<li>''</li>\n",
       "\t\t<li>'-'</li>\n",
       "\t\t<li>'20013'</li>\n",
       "\t\t<li>'20126'</li>\n",
       "\t\t<li>'2015'</li>\n",
       "\t\t<li>'25008'</li>\n",
       "\t\t<li>'27004'</li>\n",
       "\t\t<li>'27013'</li>\n",
       "\t\t<li>'28'</li>\n",
       "\t\t<li>'28001'</li>\n",
       "\t\t<li>'280013'</li>\n",
       "\t\t<li>'28002'</li>\n",
       "\t\t<li>'28002\\n28002'</li>\n",
       "\t\t<li>'28003'</li>\n",
       "\t\t<li>'28004'</li>\n",
       "\t\t<li>'28005'</li>\n",
       "\t\t<li>'28006'</li>\n",
       "\t\t<li>'28007'</li>\n",
       "\t\t<li>'28008'</li>\n",
       "\t\t<li>'28009'</li>\n",
       "\t\t<li>'28010'</li>\n",
       "\t\t<li>'28011'</li>\n",
       "\t\t<li>'28012'</li>\n",
       "\t\t<li>'28013'</li>\n",
       "\t\t<li>'28014'</li>\n",
       "\t\t<li>'28015'</li>\n",
       "\t\t<li>'28016'</li>\n",
       "\t\t<li>'28017'</li>\n",
       "\t\t<li>'28018'</li>\n",
       "\t\t<li>'28019'</li>\n",
       "\t\t<li>'28020'</li>\n",
       "\t\t<li>'28021'</li>\n",
       "\t\t<li>'28022'</li>\n",
       "\t\t<li>'28023'</li>\n",
       "\t\t<li>'28024'</li>\n",
       "\t\t<li>'28025'</li>\n",
       "\t\t<li>'28026'</li>\n",
       "\t\t<li>'28027'</li>\n",
       "\t\t<li>'28028'</li>\n",
       "\t\t<li>'28029'</li>\n",
       "\t\t<li>'28030'</li>\n",
       "\t\t<li>'28031'</li>\n",
       "\t\t<li>'28032'</li>\n",
       "\t\t<li>'28033'</li>\n",
       "\t\t<li>'28034'</li>\n",
       "\t\t<li>'28035'</li>\n",
       "\t\t<li>'28036'</li>\n",
       "\t\t<li>'28037'</li>\n",
       "\t\t<li>'28038'</li>\n",
       "\t\t<li>'28039'</li>\n",
       "\t\t<li>'2804'</li>\n",
       "\t\t<li>'28040'</li>\n",
       "\t\t<li>'28041'</li>\n",
       "\t\t<li>'28042'</li>\n",
       "\t\t<li>'28043'</li>\n",
       "\t\t<li>'28044'</li>\n",
       "\t\t<li>'28045'</li>\n",
       "\t\t<li>'28046'</li>\n",
       "\t\t<li>'28047'</li>\n",
       "\t\t<li>'28048'</li>\n",
       "\t\t<li>'28049'</li>\n",
       "\t\t<li>'2805'</li>\n",
       "\t\t<li>'28050'</li>\n",
       "\t\t<li>'28051'</li>\n",
       "\t\t<li>'28051\\n28051'</li>\n",
       "\t\t<li>'28052'</li>\n",
       "\t\t<li>'28053'</li>\n",
       "\t\t<li>'28054'</li>\n",
       "\t\t<li>'28055'</li>\n",
       "\t\t<li>'28056'</li>\n",
       "\t\t<li>'28058'</li>\n",
       "\t\t<li>'28060'</li>\n",
       "\t\t<li>'28094'</li>\n",
       "\t\t<li>'28105'</li>\n",
       "\t\t<li>'2815'</li>\n",
       "\t\t<li>'28850'</li>\n",
       "\t\t<li>'Madrid 28004'</li>\n",
       "\t</ol>\n",
       "</details>"
      ],
      "text/latex": [
       "\\begin{enumerate*}\n",
       "\\item 28004\n",
       "\\item 28015\n",
       "\\item 28013\n",
       "\\item 28005\n",
       "\\item 28012\n",
       "\\item 28014\n",
       "\\item 28045\n",
       "\\item <NA>\n",
       "\\item 28007\n",
       "\\item 28028\n",
       "\\item 28009\n",
       "\\item 28001\n",
       "\\item 28006\n",
       "\\item 28010\n",
       "\\item 28002\n",
       "\\item 28034\n",
       "\\item 28050\n",
       "\\item 28008\n",
       "\\item 28011\n",
       "\\item 28049\n",
       "\\item 28038\n",
       "\\item 28053\n",
       "\\item 28047\n",
       "\\item 28025\n",
       "\\item 28019\n",
       "\\item 28024\n",
       "\\item 28016\n",
       "\\item 28036\n",
       "\\item 28046\n",
       "\\item 28039\n",
       "\\item 28020\n",
       "\\item 28003\n",
       "\\item 28029\n",
       "\\item 28054\n",
       "\\item 28041\n",
       "\\item 28026\n",
       "\\item 28058\n",
       "\\item 28018\n",
       "\\item 28030\n",
       "\\item 28017\n",
       "\\item 28027\n",
       "\\item 28043\n",
       "\\item 28033\n",
       "\\item 28055\n",
       "\\item 28021\n",
       "\\item 28032\n",
       "\\item 28037\n",
       "\\item 28022\n",
       "\\item 28042\n",
       "\\item 28094\n",
       "\\item 28035\n",
       "\\item 28040\n",
       "\\item 28031\n",
       "\\item 28044\n",
       "\\item 28105\n",
       "\\item 28023\n",
       "\\item 28051\n",
       "\\item 28850\n",
       "\\item 28048\n",
       "\\item 28056\n",
       "\\item 28060\n",
       "\\item 28052\n",
       "\\end{enumerate*}\n",
       "\n",
       "\\emph{Levels}: \\begin{enumerate*}\n",
       "\\item ''\n",
       "\\item '-'\n",
       "\\item '20013'\n",
       "\\item '20126'\n",
       "\\item '2015'\n",
       "\\item '25008'\n",
       "\\item '27004'\n",
       "\\item '27013'\n",
       "\\item '28'\n",
       "\\item '28001'\n",
       "\\item '280013'\n",
       "\\item '28002'\n",
       "\\item '28002\\textbackslash{}n28002'\n",
       "\\item '28003'\n",
       "\\item '28004'\n",
       "\\item '28005'\n",
       "\\item '28006'\n",
       "\\item '28007'\n",
       "\\item '28008'\n",
       "\\item '28009'\n",
       "\\item '28010'\n",
       "\\item '28011'\n",
       "\\item '28012'\n",
       "\\item '28013'\n",
       "\\item '28014'\n",
       "\\item '28015'\n",
       "\\item '28016'\n",
       "\\item '28017'\n",
       "\\item '28018'\n",
       "\\item '28019'\n",
       "\\item '28020'\n",
       "\\item '28021'\n",
       "\\item '28022'\n",
       "\\item '28023'\n",
       "\\item '28024'\n",
       "\\item '28025'\n",
       "\\item '28026'\n",
       "\\item '28027'\n",
       "\\item '28028'\n",
       "\\item '28029'\n",
       "\\item '28030'\n",
       "\\item '28031'\n",
       "\\item '28032'\n",
       "\\item '28033'\n",
       "\\item '28034'\n",
       "\\item '28035'\n",
       "\\item '28036'\n",
       "\\item '28037'\n",
       "\\item '28038'\n",
       "\\item '28039'\n",
       "\\item '2804'\n",
       "\\item '28040'\n",
       "\\item '28041'\n",
       "\\item '28042'\n",
       "\\item '28043'\n",
       "\\item '28044'\n",
       "\\item '28045'\n",
       "\\item '28046'\n",
       "\\item '28047'\n",
       "\\item '28048'\n",
       "\\item '28049'\n",
       "\\item '2805'\n",
       "\\item '28050'\n",
       "\\item '28051'\n",
       "\\item '28051\\textbackslash{}n28051'\n",
       "\\item '28052'\n",
       "\\item '28053'\n",
       "\\item '28054'\n",
       "\\item '28055'\n",
       "\\item '28056'\n",
       "\\item '28058'\n",
       "\\item '28060'\n",
       "\\item '28094'\n",
       "\\item '28105'\n",
       "\\item '2815'\n",
       "\\item '28850'\n",
       "\\item 'Madrid 28004'\n",
       "\\end{enumerate*}\n"
      ],
      "text/markdown": [
       "1. 28004\n",
       "2. 28015\n",
       "3. 28013\n",
       "4. 28005\n",
       "5. 28012\n",
       "6. 28014\n",
       "7. 28045\n",
       "8. &lt;NA&gt;\n",
       "9. 28007\n",
       "10. 28028\n",
       "11. 28009\n",
       "12. 28001\n",
       "13. 28006\n",
       "14. 28010\n",
       "15. 28002\n",
       "16. 28034\n",
       "17. 28050\n",
       "18. 28008\n",
       "19. 28011\n",
       "20. 28049\n",
       "21. 28038\n",
       "22. 28053\n",
       "23. 28047\n",
       "24. 28025\n",
       "25. 28019\n",
       "26. 28024\n",
       "27. 28016\n",
       "28. 28036\n",
       "29. 28046\n",
       "30. 28039\n",
       "31. 28020\n",
       "32. 28003\n",
       "33. 28029\n",
       "34. 28054\n",
       "35. 28041\n",
       "36. 28026\n",
       "37. 28058\n",
       "38. 28018\n",
       "39. 28030\n",
       "40. 28017\n",
       "41. 28027\n",
       "42. 28043\n",
       "43. 28033\n",
       "44. 28055\n",
       "45. 28021\n",
       "46. 28032\n",
       "47. 28037\n",
       "48. 28022\n",
       "49. 28042\n",
       "50. 28094\n",
       "51. 28035\n",
       "52. 28040\n",
       "53. 28031\n",
       "54. 28044\n",
       "55. 28105\n",
       "56. 28023\n",
       "57. 28051\n",
       "58. 28850\n",
       "59. 28048\n",
       "60. 28056\n",
       "61. 28060\n",
       "62. 28052\n",
       "\n",
       "\n",
       "\n",
       "**Levels**: 1. ''\n",
       "2. '-'\n",
       "3. '20013'\n",
       "4. '20126'\n",
       "5. '2015'\n",
       "6. '25008'\n",
       "7. '27004'\n",
       "8. '27013'\n",
       "9. '28'\n",
       "10. '28001'\n",
       "11. '280013'\n",
       "12. '28002'\n",
       "13. '28002\\n28002'\n",
       "14. '28003'\n",
       "15. '28004'\n",
       "16. '28005'\n",
       "17. '28006'\n",
       "18. '28007'\n",
       "19. '28008'\n",
       "20. '28009'\n",
       "21. '28010'\n",
       "22. '28011'\n",
       "23. '28012'\n",
       "24. '28013'\n",
       "25. '28014'\n",
       "26. '28015'\n",
       "27. '28016'\n",
       "28. '28017'\n",
       "29. '28018'\n",
       "30. '28019'\n",
       "31. '28020'\n",
       "32. '28021'\n",
       "33. '28022'\n",
       "34. '28023'\n",
       "35. '28024'\n",
       "36. '28025'\n",
       "37. '28026'\n",
       "38. '28027'\n",
       "39. '28028'\n",
       "40. '28029'\n",
       "41. '28030'\n",
       "42. '28031'\n",
       "43. '28032'\n",
       "44. '28033'\n",
       "45. '28034'\n",
       "46. '28035'\n",
       "47. '28036'\n",
       "48. '28037'\n",
       "49. '28038'\n",
       "50. '28039'\n",
       "51. '2804'\n",
       "52. '28040'\n",
       "53. '28041'\n",
       "54. '28042'\n",
       "55. '28043'\n",
       "56. '28044'\n",
       "57. '28045'\n",
       "58. '28046'\n",
       "59. '28047'\n",
       "60. '28048'\n",
       "61. '28049'\n",
       "62. '2805'\n",
       "63. '28050'\n",
       "64. '28051'\n",
       "65. '28051\\n28051'\n",
       "66. '28052'\n",
       "67. '28053'\n",
       "68. '28054'\n",
       "69. '28055'\n",
       "70. '28056'\n",
       "71. '28058'\n",
       "72. '28060'\n",
       "73. '28094'\n",
       "74. '28105'\n",
       "75. '2815'\n",
       "76. '28850'\n",
       "77. 'Madrid 28004'\n",
       "\n",
       "\n"
      ],
      "text/plain": [
       " [1] 28004 28015 28013 28005 28012 28014 28045 <NA>  28007 28028 28009 28001\n",
       "[13] 28006 28010 28002 28034 28050 28008 28011 28049 28038 28053 28047 28025\n",
       "[25] 28019 28024 28016 28036 28046 28039 28020 28003 28029 28054 28041 28026\n",
       "[37] 28058 28018 28030 28017 28027 28043 28033 28055 28021 28032 28037 28022\n",
       "[49] 28042 28094 28035 28040 28031 28044 28105 28023 28051 28850 28048 28056\n",
       "[61] 28060 28052\n",
       "77 Levels:  - 20013 20126 2015 25008 27004 27013 28 28001 280013 ... Madrid 28004"
      ]
     },
     "metadata": {},
     "output_type": "display_data"
    }
   ],
   "source": [
    "#Una forma de verlo\n",
    "unique (airbnb$CodigoPostal)"
   ]
  },
  {
   "cell_type": "code",
   "execution_count": 322,
   "metadata": {},
   "outputs": [
    {
     "data": {
      "text/plain": [
       "\n",
       "28001 28002 28003 28004 28005 28006 28007 28008 28009 28010 28011 28012 28013 \n",
       "  231   171   185  1796  1195   218   206   338   216   384   250  2060  1020 \n",
       "28014 28015 28016 28017 28018 28019 28020 28021 28022 28023 28024 28025 28026 \n",
       "  630   601    76   107    43   200   192    58    30    23    44   123    93 \n",
       "28027 28028 28029 28030 28031 28032 28033 28034 28035 28036 28037 28038 28039 \n",
       "  122   263   110    73    27    33    89    45    59    67    65    77   160 \n",
       "28040 28041 28042 28043 28044 28045 28046 28047 28048 28049 28050 28051 28052 \n",
       "   16    63    90   103    19   495    32    67     1     3    58    17     1 \n",
       "28053 28054 28055 28056 28058 28060 28094 28105 28850 \n",
       "   85    12    12     1     1     1     1     1     1 "
      ]
     },
     "metadata": {},
     "output_type": "display_data"
    }
   ],
   "source": [
    "#Otra forma\n",
    "table (factor(airbnb$CodigoPostal))"
   ]
  },
  {
   "cell_type": "code",
   "execution_count": 323,
   "metadata": {},
   "outputs": [
    {
     "data": {
      "text/html": [
       "'Los códigos postales que tenemos son: 28001, 28002, 28003, 28004, 28005, 28006, 28007, 28008, 28009, 28010, 28011, 28012, 28013, 28014, 28015, 28016, 28017, 28018, 28019, 28020, 28021, 28022, 28023, 28024, 28025, 28026, 28027, 28028, 28029, 28030, 28031, 28032, 28033, 28034, 28035, 28036, 28037, 28038, 28039, 28040, 28041, 28042, 28043, 28044, 28045, 28046, 28047, 28048, 28049, 28050, 28051, 28052, 28053, 28054, 28055, 28056, 28058, 28060, 28094, 28105, 28850'"
      ],
      "text/latex": [
       "'Los códigos postales que tenemos son: 28001, 28002, 28003, 28004, 28005, 28006, 28007, 28008, 28009, 28010, 28011, 28012, 28013, 28014, 28015, 28016, 28017, 28018, 28019, 28020, 28021, 28022, 28023, 28024, 28025, 28026, 28027, 28028, 28029, 28030, 28031, 28032, 28033, 28034, 28035, 28036, 28037, 28038, 28039, 28040, 28041, 28042, 28043, 28044, 28045, 28046, 28047, 28048, 28049, 28050, 28051, 28052, 28053, 28054, 28055, 28056, 28058, 28060, 28094, 28105, 28850'"
      ],
      "text/markdown": [
       "'Los códigos postales que tenemos son: 28001, 28002, 28003, 28004, 28005, 28006, 28007, 28008, 28009, 28010, 28011, 28012, 28013, 28014, 28015, 28016, 28017, 28018, 28019, 28020, 28021, 28022, 28023, 28024, 28025, 28026, 28027, 28028, 28029, 28030, 28031, 28032, 28033, 28034, 28035, 28036, 28037, 28038, 28039, 28040, 28041, 28042, 28043, 28044, 28045, 28046, 28047, 28048, 28049, 28050, 28051, 28052, 28053, 28054, 28055, 28056, 28058, 28060, 28094, 28105, 28850'"
      ],
      "text/plain": [
       "[1] \"Los códigos postales que tenemos son: 28001, 28002, 28003, 28004, 28005, 28006, 28007, 28008, 28009, 28010, 28011, 28012, 28013, 28014, 28015, 28016, 28017, 28018, 28019, 28020, 28021, 28022, 28023, 28024, 28025, 28026, 28027, 28028, 28029, 28030, 28031, 28032, 28033, 28034, 28035, 28036, 28037, 28038, 28039, 28040, 28041, 28042, 28043, 28044, 28045, 28046, 28047, 28048, 28049, 28050, 28051, 28052, 28053, 28054, 28055, 28056, 28058, 28060, 28094, 28105, 28850\""
      ]
     },
     "metadata": {},
     "output_type": "display_data"
    }
   ],
   "source": [
    "m=table (factor(airbnb$CodigoPostal))\n",
    "paste (\"Los códigos postales que tenemos son:\", paste (names(m), collapse = \", \" ))"
   ]
  },
  {
   "cell_type": "markdown",
   "metadata": {},
   "source": [
    "¿Cuales son los 5 códigos postales con más entradas? ¿Y con menos? ¿Cuantas entradas tienen?"
   ]
  },
  {
   "cell_type": "code",
   "execution_count": 324,
   "metadata": {},
   "outputs": [
    {
     "name": "stdout",
     "output_type": "stream",
     "text": [
      "[1] \"Los 5 códigos con más entradas: 28012, 28004, 28005, 28013, 28014\"\n",
      "[1] \"Los 5 códigos con menos entradas: 28048, 28052, 28056, 28058, 28060\"\n"
     ]
    },
    {
     "data": {
      "text/html": [
       "'Se muestra a continuación dos tablas con códigos postales y númros de entradas de cada uno'"
      ],
      "text/latex": [
       "'Se muestra a continuación dos tablas con códigos postales y númros de entradas de cada uno'"
      ],
      "text/markdown": [
       "'Se muestra a continuación dos tablas con códigos postales y númros de entradas de cada uno'"
      ],
      "text/plain": [
       "[1] \"Se muestra a continuación dos tablas con códigos postales y númros de entradas de cada uno\""
      ]
     },
     "metadata": {},
     "output_type": "display_data"
    },
    {
     "data": {
      "text/plain": [
       "\n",
       "28012 28004 28005 28013 28014 \n",
       " 2060  1796  1195  1020   630 "
      ]
     },
     "metadata": {},
     "output_type": "display_data"
    },
    {
     "data": {
      "text/plain": [
       "\n",
       "28048 28052 28056 28058 28060 \n",
       "    1     1     1     1     1 "
      ]
     },
     "metadata": {},
     "output_type": "display_data"
    }
   ],
   "source": [
    "tabla_de_mayor_a_menor=sort(m, decreasing=T)\n",
    "print (paste (\"Los 5 códigos con más entradas:\", paste (names(tabla_de_mayor_a_menor[1:5]), collapse = \", \")))\n",
    "tabla_de_menor_a_mayor=sort(m)\n",
    "print (paste(\"Los 5 códigos con menos entradas:\", paste (names(tabla_de_menor_a_mayor[1:5]), collapse = \", \")))\n",
    "paste (\"Se muestra a continuación dos tablas con códigos postales y númros de entradas de cada uno\")\n",
    "tabla_de_mayor_a_menor[1:5]\n",
    "tabla_de_menor_a_mayor[1:5]"
   ]
  },
  {
   "cell_type": "markdown",
   "metadata": {},
   "source": [
    "¿Cuales son los barrios que hay en el código postal 28012?"
   ]
  },
  {
   "cell_type": "code",
   "execution_count": 325,
   "metadata": {},
   "outputs": [
    {
     "data": {
      "text/html": [
       "<span style=white-space:pre-wrap>'Los barrios con código postal 28012 son:  Acacias, Arapiles, Atocha, Cortes, Delicias, Embajadores, Goya, Palacio, Palos de Moguer, Sol, Universidad'</span>"
      ],
      "text/latex": [
       "'Los barrios con código postal 28012 son:  Acacias, Arapiles, Atocha, Cortes, Delicias, Embajadores, Goya, Palacio, Palos de Moguer, Sol, Universidad'"
      ],
      "text/markdown": [
       "<span style=white-space:pre-wrap>'Los barrios con código postal 28012 son:  Acacias, Arapiles, Atocha, Cortes, Delicias, Embajadores, Goya, Palacio, Palos de Moguer, Sol, Universidad'</span>"
      ],
      "text/plain": [
       "[1] \"Los barrios con código postal 28012 son:  Acacias, Arapiles, Atocha, Cortes, Delicias, Embajadores, Goya, Palacio, Palos de Moguer, Sol, Universidad\""
      ]
     },
     "metadata": {},
     "output_type": "display_data"
    }
   ],
   "source": [
    "barrios_28012 = factor(airbnb$Barrio[airbnb$CodigoPostal=='28012'])\n",
    "paste (\"Los barrios con código postal 28012 son: \", paste (names(table(barrios_28012)),collapse = \", \" ))"
   ]
  },
  {
   "cell_type": "markdown",
   "metadata": {},
   "source": [
    "¿Cuantas entradas hay en cada uno de esos barrios para el codigo postao 28012? Asumiendo que el identificador de Barrio sea correcto, ¿es fiable la columna de código postal?"
   ]
  },
  {
   "cell_type": "code",
   "execution_count": 326,
   "metadata": {},
   "outputs": [
    {
     "data": {
      "text/html": [
       "'Muestro una tabla con los nombres de los barrios que pertenecen al código 28012 y sus número de entradas'"
      ],
      "text/latex": [
       "'Muestro una tabla con los nombres de los barrios que pertenecen al código 28012 y sus número de entradas'"
      ],
      "text/markdown": [
       "'Muestro una tabla con los nombres de los barrios que pertenecen al código 28012 y sus número de entradas'"
      ],
      "text/plain": [
       "[1] \"Muestro una tabla con los nombres de los barrios que pertenecen al código 28012 y sus número de entradas\""
      ]
     },
     "metadata": {},
     "output_type": "display_data"
    },
    {
     "data": {
      "text/plain": [
       "barrios_28012\n",
       "        Acacias        Arapiles          Atocha          Cortes        Delicias \n",
       "             13               1               1             216               1 \n",
       "    Embajadores            Goya         Palacio Palos de Moguer             Sol \n",
       "           1449               1              27              46             301 \n",
       "    Universidad \n",
       "              4 "
      ]
     },
     "metadata": {},
     "output_type": "display_data"
    }
   ],
   "source": [
    "paste (\"Muestro una tabla con los nombres de los barrios que pertenecen al código 28012 y sus número de entradas\")\n",
    "table(barrios_28012)\n"
   ]
  },
  {
   "cell_type": "code",
   "execution_count": 327,
   "metadata": {},
   "outputs": [
    {
     "data": {
      "text/html": [
       "'La columna código postal no es fiable ya que nos salen barrios que no pertenecen al código 28012, están muy alejados'"
      ],
      "text/latex": [
       "'La columna código postal no es fiable ya que nos salen barrios que no pertenecen al código 28012, están muy alejados'"
      ],
      "text/markdown": [
       "'La columna código postal no es fiable ya que nos salen barrios que no pertenecen al código 28012, están muy alejados'"
      ],
      "text/plain": [
       "[1] \"La columna código postal no es fiable ya que nos salen barrios que no pertenecen al código 28012, están muy alejados\""
      ]
     },
     "metadata": {},
     "output_type": "display_data"
    },
    {
     "data": {
      "text/html": [
       "'Habría que hacer más limpieza utilizando las calles para comprobar los códigos postales y corregirlos'"
      ],
      "text/latex": [
       "'Habría que hacer más limpieza utilizando las calles para comprobar los códigos postales y corregirlos'"
      ],
      "text/markdown": [
       "'Habría que hacer más limpieza utilizando las calles para comprobar los códigos postales y corregirlos'"
      ],
      "text/plain": [
       "[1] \"Habría que hacer más limpieza utilizando las calles para comprobar los códigos postales y corregirlos\""
      ]
     },
     "metadata": {},
     "output_type": "display_data"
    }
   ],
   "source": [
    "paste (\"La columna código postal no es fiable ya que nos salen barrios que no pertenecen al código 28012, están muy alejados\")\n",
    "paste (\"Habría que hacer más limpieza utilizando las calles para comprobar los códigos postales y corregirlos\")"
   ]
  },
  {
   "cell_type": "markdown",
   "metadata": {},
   "source": [
    "¿Cuantos barrios hay en todo el dataset airbnb? ¿Cuales son?"
   ]
  },
  {
   "cell_type": "code",
   "execution_count": 328,
   "metadata": {},
   "outputs": [
    {
     "name": "stdout",
     "output_type": "stream",
     "text": [
      "[1] \"El número de barrios totales en todo el dataset airbnb es:  125\"\n"
     ]
    },
    {
     "data": {
      "text/html": [
       "<ol class=list-inline>\n",
       "\t<li>Universidad</li>\n",
       "\t<li>Sol</li>\n",
       "\t<li>Imperial</li>\n",
       "\t<li>Acacias</li>\n",
       "\t<li>Chopera</li>\n",
       "\t<li>Delicias</li>\n",
       "\t<li>Palos de Moguer</li>\n",
       "\t<li>Embajadores</li>\n",
       "\t<li>Cortes</li>\n",
       "\t<li>Atocha</li>\n",
       "\t<li>Pacífico</li>\n",
       "\t<li>Adelfas</li>\n",
       "\t<li>Estrella</li>\n",
       "\t<li>Ibiza</li>\n",
       "\t<li>Jerónimos</li>\n",
       "\t<li>Niño Jesús</li>\n",
       "\t<li>Palacio</li>\n",
       "\t<li>Justicia</li>\n",
       "\t<li>Recoletos</li>\n",
       "\t<li>Goya</li>\n",
       "\t<li>Fuente del Berro</li>\n",
       "\t<li>Arapiles</li>\n",
       "\t<li>Trafalgar</li>\n",
       "\t<li>Almagro</li>\n",
       "\t<li>Guindalera</li>\n",
       "\t<li>Lista</li>\n",
       "\t<li>Castellana</li>\n",
       "\t<li>El Viso</li>\n",
       "\t<li>Prosperidad</li>\n",
       "\t<li>Valverde</li>\n",
       "\t<li>Casa de Campo</li>\n",
       "\t<li>El Goloso</li>\n",
       "\t<li>Numancia</li>\n",
       "\t<li>Cármenes</li>\n",
       "\t<li>Puerta del Angel</li>\n",
       "\t<li>Lucero</li>\n",
       "\t<li>Aluche</li>\n",
       "\t<li>San Isidro</li>\n",
       "\t<li>Campamento</li>\n",
       "\t<li>Comillas</li>\n",
       "\t<li>Opañel</li>\n",
       "\t<li>Vista Alegre</li>\n",
       "\t<li>Ciudad Jardín</li>\n",
       "\t<li>Hispanoamérica</li>\n",
       "\t<li>Nueva España</li>\n",
       "\t<li>Castilla</li>\n",
       "\t<li>Bellas Vistas</li>\n",
       "\t<li>Cuatro Caminos</li>\n",
       "\t<li>Castillejos</li>\n",
       "\t<li>Vallehermoso</li>\n",
       "\t<li>Almenara</li>\n",
       "\t<li>Valdeacederas</li>\n",
       "\t<li>Berruguete</li>\n",
       "\t<li>Gaztambide</li>\n",
       "\t<li>Rios Rosas</li>\n",
       "\t<li>Peñagrande</li>\n",
       "\t<li>Argüelles</li>\n",
       "\t<li>Puerta Bonita</li>\n",
       "\t<li>Buenavista</li>\n",
       "\t<li>Abrantes</li>\n",
       "\t<li>Orcasur</li>\n",
       "\t<li>San Fermín</li>\n",
       "\t<li>Almendrales</li>\n",
       "\t<li>Pradolongo</li>\n",
       "\t<li>Portazgo</li>\n",
       "\t<li>Entrevías</li>\n",
       "\t<li>San Diego</li>\n",
       "\t<li>Palomeras Bajas</li>\n",
       "\t<li>Fontarrón</li>\n",
       "\t<li>Vinateros</li>\n",
       "\t<li>Ventas</li>\n",
       "\t<li>Pueblo Nuevo</li>\n",
       "\t<li>Quintana</li>\n",
       "\t<li>Concepción</li>\n",
       "\t<li>San Juan Bautista</li>\n",
       "\t<li>Costillares</li>\n",
       "\t<li>Piovera</li>\n",
       "\t<li>Canillas</li>\n",
       "\t<li>Pinar del Rey</li>\n",
       "\t<li>Apostol Santiago</li>\n",
       "\t<li>San Andrés</li>\n",
       "\t<li>Valdefuentes</li>\n",
       "\t<li>Butarque</li>\n",
       "\t<li>Los Angeles</li>\n",
       "\t<li>Casco Histórico de Vicálvaro</li>\n",
       "\t<li>Simancas</li>\n",
       "\t<li>Rejas</li>\n",
       "\t<li>Salvador</li>\n",
       "\t<li>Casco Histórico de Barajas</li>\n",
       "\t<li>Pilar</li>\n",
       "\t<li>La Paz</li>\n",
       "\t<li>Mirasierra</li>\n",
       "\t<li>Ciudad Universitaria</li>\n",
       "\t<li>Moscardó</li>\n",
       "\t<li>Palomeras Sureste</li>\n",
       "\t<li>Marroquina</li>\n",
       "\t<li>Media Legua</li>\n",
       "\t<li>Los Rosales</li>\n",
       "\t<li>Casco Histórico de Vallecas</li>\n",
       "\t<li>Timón</li>\n",
       "\t<li>Corralejos</li>\n",
       "\t<li>Cuatro Vientos</li>\n",
       "\t<li>Colina</li>\n",
       "\t<li>San Cristobal</li>\n",
       "\t<li>Alameda de Osuna</li>\n",
       "\t<li>Aeropuerto</li>\n",
       "\t<li>Palomas</li>\n",
       "\t<li>Zofío</li>\n",
       "\t<li>Aguilas</li>\n",
       "\t<li>Legazpi</li>\n",
       "\t<li>Fuentelareina</li>\n",
       "\t<li>Aravaca</li>\n",
       "\t<li>Ambroz</li>\n",
       "\t<li>Canillejas</li>\n",
       "\t<li>Valdezarza</li>\n",
       "\t<li>Amposta</li>\n",
       "\t<li>San Pascual</li>\n",
       "\t<li>Santa Eugenia</li>\n",
       "\t<li>Arcos</li>\n",
       "\t<li>Rosas</li>\n",
       "\t<li>Valdemarín</li>\n",
       "\t<li>El Plantío</li>\n",
       "\t<li>Hellín</li>\n",
       "\t<li>Pavones</li>\n",
       "\t<li>Orcasitas</li>\n",
       "</ol>\n",
       "\n",
       "<details>\n",
       "\t<summary style=display:list-item;cursor:pointer>\n",
       "\t\t<strong>Levels</strong>:\n",
       "\t</summary>\n",
       "\t<ol class=list-inline>\n",
       "\t\t<li>'Abrantes'</li>\n",
       "\t\t<li>'Acacias'</li>\n",
       "\t\t<li>'Adelfas'</li>\n",
       "\t\t<li>'Aeropuerto'</li>\n",
       "\t\t<li>'Aguilas'</li>\n",
       "\t\t<li>'Alameda de Osuna'</li>\n",
       "\t\t<li>'Almagro'</li>\n",
       "\t\t<li>'Almenara'</li>\n",
       "\t\t<li>'Almendrales'</li>\n",
       "\t\t<li>'Aluche'</li>\n",
       "\t\t<li>'Ambroz'</li>\n",
       "\t\t<li>'Amposta'</li>\n",
       "\t\t<li>'Apostol Santiago'</li>\n",
       "\t\t<li>'Arapiles'</li>\n",
       "\t\t<li>'Aravaca'</li>\n",
       "\t\t<li>'Arcos'</li>\n",
       "\t\t<li>'Argüelles'</li>\n",
       "\t\t<li>'Atocha'</li>\n",
       "\t\t<li>'Bellas Vistas'</li>\n",
       "\t\t<li>'Berruguete'</li>\n",
       "\t\t<li>'Buenavista'</li>\n",
       "\t\t<li>'Butarque'</li>\n",
       "\t\t<li>'Campamento'</li>\n",
       "\t\t<li>'Canillas'</li>\n",
       "\t\t<li>'Canillejas'</li>\n",
       "\t\t<li>'Cármenes'</li>\n",
       "\t\t<li>'Casa de Campo'</li>\n",
       "\t\t<li>'Casco Histórico de Barajas'</li>\n",
       "\t\t<li>'Casco Histórico de Vallecas'</li>\n",
       "\t\t<li>'Casco Histórico de Vicálvaro'</li>\n",
       "\t\t<li>'Castellana'</li>\n",
       "\t\t<li>'Castilla'</li>\n",
       "\t\t<li>'Castillejos'</li>\n",
       "\t\t<li>'Chopera'</li>\n",
       "\t\t<li>'Ciudad Jardín'</li>\n",
       "\t\t<li>'Ciudad Universitaria'</li>\n",
       "\t\t<li>'Colina'</li>\n",
       "\t\t<li>'Comillas'</li>\n",
       "\t\t<li>'Concepción'</li>\n",
       "\t\t<li>'Corralejos'</li>\n",
       "\t\t<li>'Cortes'</li>\n",
       "\t\t<li>'Costillares'</li>\n",
       "\t\t<li>'Cuatro Caminos'</li>\n",
       "\t\t<li>'Cuatro Vientos'</li>\n",
       "\t\t<li>'Delicias'</li>\n",
       "\t\t<li>'El Goloso'</li>\n",
       "\t\t<li>'El Plantío'</li>\n",
       "\t\t<li>'El Viso'</li>\n",
       "\t\t<li>'Embajadores'</li>\n",
       "\t\t<li>'Entrevías'</li>\n",
       "\t\t<li>'Estrella'</li>\n",
       "\t\t<li>'Fontarrón'</li>\n",
       "\t\t<li>'Fuente del Berro'</li>\n",
       "\t\t<li>'Fuentelareina'</li>\n",
       "\t\t<li>'Gaztambide'</li>\n",
       "\t\t<li>'Goya'</li>\n",
       "\t\t<li>'Guindalera'</li>\n",
       "\t\t<li>'Hellín'</li>\n",
       "\t\t<li>'Hispanoamérica'</li>\n",
       "\t\t<li>'Ibiza'</li>\n",
       "\t\t<li>'Imperial'</li>\n",
       "\t\t<li>'Jerónimos'</li>\n",
       "\t\t<li>'Justicia'</li>\n",
       "\t\t<li>'La Paz'</li>\n",
       "\t\t<li>'Legazpi'</li>\n",
       "\t\t<li>'Lista'</li>\n",
       "\t\t<li>'Los Angeles'</li>\n",
       "\t\t<li>'Los Rosales'</li>\n",
       "\t\t<li>'Lucero'</li>\n",
       "\t\t<li>'Marroquina'</li>\n",
       "\t\t<li>'Media Legua'</li>\n",
       "\t\t<li>'Mirasierra'</li>\n",
       "\t\t<li>'Moscardó'</li>\n",
       "\t\t<li>'Niño Jesús'</li>\n",
       "\t\t<li>'Nueva España'</li>\n",
       "\t\t<li>'Numancia'</li>\n",
       "\t\t<li>'Opañel'</li>\n",
       "\t\t<li>'Orcasitas'</li>\n",
       "\t\t<li>'Orcasur'</li>\n",
       "\t\t<li>'Pacífico'</li>\n",
       "\t\t<li>'Palacio'</li>\n",
       "\t\t<li>'Palomas'</li>\n",
       "\t\t<li>'Palomeras Bajas'</li>\n",
       "\t\t<li>'Palomeras Sureste'</li>\n",
       "\t\t<li>'Palos de Moguer'</li>\n",
       "\t\t<li>'Pavones'</li>\n",
       "\t\t<li>'Peñagrande'</li>\n",
       "\t\t<li>'Pilar'</li>\n",
       "\t\t<li>'Pinar del Rey'</li>\n",
       "\t\t<li>'Piovera'</li>\n",
       "\t\t<li>'Portazgo'</li>\n",
       "\t\t<li>'Pradolongo'</li>\n",
       "\t\t<li>'Prosperidad'</li>\n",
       "\t\t<li>'Pueblo Nuevo'</li>\n",
       "\t\t<li>'Puerta Bonita'</li>\n",
       "\t\t<li>'Puerta del Angel'</li>\n",
       "\t\t<li>'Quintana'</li>\n",
       "\t\t<li>'Recoletos'</li>\n",
       "\t\t<li>'Rejas'</li>\n",
       "\t\t<li>'Rios Rosas'</li>\n",
       "\t\t<li>'Rosas'</li>\n",
       "\t\t<li>'Salvador'</li>\n",
       "\t\t<li>'San Andrés'</li>\n",
       "\t\t<li>'San Cristobal'</li>\n",
       "\t\t<li>'San Diego'</li>\n",
       "\t\t<li>'San Fermín'</li>\n",
       "\t\t<li>'San Isidro'</li>\n",
       "\t\t<li>'San Juan Bautista'</li>\n",
       "\t\t<li>'San Pascual'</li>\n",
       "\t\t<li>'Santa Eugenia'</li>\n",
       "\t\t<li>'Simancas'</li>\n",
       "\t\t<li>'Sol'</li>\n",
       "\t\t<li>'Timón'</li>\n",
       "\t\t<li>'Trafalgar'</li>\n",
       "\t\t<li>'Universidad'</li>\n",
       "\t\t<li>'Valdeacederas'</li>\n",
       "\t\t<li>'Valdefuentes'</li>\n",
       "\t\t<li>'Valdemarín'</li>\n",
       "\t\t<li>'Valdezarza'</li>\n",
       "\t\t<li>'Vallehermoso'</li>\n",
       "\t\t<li>'Valverde'</li>\n",
       "\t\t<li>'Ventas'</li>\n",
       "\t\t<li>'Vinateros'</li>\n",
       "\t\t<li>'Vista Alegre'</li>\n",
       "\t\t<li>'Zofío'</li>\n",
       "\t</ol>\n",
       "</details>"
      ],
      "text/latex": [
       "\\begin{enumerate*}\n",
       "\\item Universidad\n",
       "\\item Sol\n",
       "\\item Imperial\n",
       "\\item Acacias\n",
       "\\item Chopera\n",
       "\\item Delicias\n",
       "\\item Palos de Moguer\n",
       "\\item Embajadores\n",
       "\\item Cortes\n",
       "\\item Atocha\n",
       "\\item Pacífico\n",
       "\\item Adelfas\n",
       "\\item Estrella\n",
       "\\item Ibiza\n",
       "\\item Jerónimos\n",
       "\\item Niño Jesús\n",
       "\\item Palacio\n",
       "\\item Justicia\n",
       "\\item Recoletos\n",
       "\\item Goya\n",
       "\\item Fuente del Berro\n",
       "\\item Arapiles\n",
       "\\item Trafalgar\n",
       "\\item Almagro\n",
       "\\item Guindalera\n",
       "\\item Lista\n",
       "\\item Castellana\n",
       "\\item El Viso\n",
       "\\item Prosperidad\n",
       "\\item Valverde\n",
       "\\item Casa de Campo\n",
       "\\item El Goloso\n",
       "\\item Numancia\n",
       "\\item Cármenes\n",
       "\\item Puerta del Angel\n",
       "\\item Lucero\n",
       "\\item Aluche\n",
       "\\item San Isidro\n",
       "\\item Campamento\n",
       "\\item Comillas\n",
       "\\item Opañel\n",
       "\\item Vista Alegre\n",
       "\\item Ciudad Jardín\n",
       "\\item Hispanoamérica\n",
       "\\item Nueva España\n",
       "\\item Castilla\n",
       "\\item Bellas Vistas\n",
       "\\item Cuatro Caminos\n",
       "\\item Castillejos\n",
       "\\item Vallehermoso\n",
       "\\item Almenara\n",
       "\\item Valdeacederas\n",
       "\\item Berruguete\n",
       "\\item Gaztambide\n",
       "\\item Rios Rosas\n",
       "\\item Peñagrande\n",
       "\\item Argüelles\n",
       "\\item Puerta Bonita\n",
       "\\item Buenavista\n",
       "\\item Abrantes\n",
       "\\item Orcasur\n",
       "\\item San Fermín\n",
       "\\item Almendrales\n",
       "\\item Pradolongo\n",
       "\\item Portazgo\n",
       "\\item Entrevías\n",
       "\\item San Diego\n",
       "\\item Palomeras Bajas\n",
       "\\item Fontarrón\n",
       "\\item Vinateros\n",
       "\\item Ventas\n",
       "\\item Pueblo Nuevo\n",
       "\\item Quintana\n",
       "\\item Concepción\n",
       "\\item San Juan Bautista\n",
       "\\item Costillares\n",
       "\\item Piovera\n",
       "\\item Canillas\n",
       "\\item Pinar del Rey\n",
       "\\item Apostol Santiago\n",
       "\\item San Andrés\n",
       "\\item Valdefuentes\n",
       "\\item Butarque\n",
       "\\item Los Angeles\n",
       "\\item Casco Histórico de Vicálvaro\n",
       "\\item Simancas\n",
       "\\item Rejas\n",
       "\\item Salvador\n",
       "\\item Casco Histórico de Barajas\n",
       "\\item Pilar\n",
       "\\item La Paz\n",
       "\\item Mirasierra\n",
       "\\item Ciudad Universitaria\n",
       "\\item Moscardó\n",
       "\\item Palomeras Sureste\n",
       "\\item Marroquina\n",
       "\\item Media Legua\n",
       "\\item Los Rosales\n",
       "\\item Casco Histórico de Vallecas\n",
       "\\item Timón\n",
       "\\item Corralejos\n",
       "\\item Cuatro Vientos\n",
       "\\item Colina\n",
       "\\item San Cristobal\n",
       "\\item Alameda de Osuna\n",
       "\\item Aeropuerto\n",
       "\\item Palomas\n",
       "\\item Zofío\n",
       "\\item Aguilas\n",
       "\\item Legazpi\n",
       "\\item Fuentelareina\n",
       "\\item Aravaca\n",
       "\\item Ambroz\n",
       "\\item Canillejas\n",
       "\\item Valdezarza\n",
       "\\item Amposta\n",
       "\\item San Pascual\n",
       "\\item Santa Eugenia\n",
       "\\item Arcos\n",
       "\\item Rosas\n",
       "\\item Valdemarín\n",
       "\\item El Plantío\n",
       "\\item Hellín\n",
       "\\item Pavones\n",
       "\\item Orcasitas\n",
       "\\end{enumerate*}\n",
       "\n",
       "\\emph{Levels}: \\begin{enumerate*}\n",
       "\\item 'Abrantes'\n",
       "\\item 'Acacias'\n",
       "\\item 'Adelfas'\n",
       "\\item 'Aeropuerto'\n",
       "\\item 'Aguilas'\n",
       "\\item 'Alameda de Osuna'\n",
       "\\item 'Almagro'\n",
       "\\item 'Almenara'\n",
       "\\item 'Almendrales'\n",
       "\\item 'Aluche'\n",
       "\\item 'Ambroz'\n",
       "\\item 'Amposta'\n",
       "\\item 'Apostol Santiago'\n",
       "\\item 'Arapiles'\n",
       "\\item 'Aravaca'\n",
       "\\item 'Arcos'\n",
       "\\item 'Argüelles'\n",
       "\\item 'Atocha'\n",
       "\\item 'Bellas Vistas'\n",
       "\\item 'Berruguete'\n",
       "\\item 'Buenavista'\n",
       "\\item 'Butarque'\n",
       "\\item 'Campamento'\n",
       "\\item 'Canillas'\n",
       "\\item 'Canillejas'\n",
       "\\item 'Cármenes'\n",
       "\\item 'Casa de Campo'\n",
       "\\item 'Casco Histórico de Barajas'\n",
       "\\item 'Casco Histórico de Vallecas'\n",
       "\\item 'Casco Histórico de Vicálvaro'\n",
       "\\item 'Castellana'\n",
       "\\item 'Castilla'\n",
       "\\item 'Castillejos'\n",
       "\\item 'Chopera'\n",
       "\\item 'Ciudad Jardín'\n",
       "\\item 'Ciudad Universitaria'\n",
       "\\item 'Colina'\n",
       "\\item 'Comillas'\n",
       "\\item 'Concepción'\n",
       "\\item 'Corralejos'\n",
       "\\item 'Cortes'\n",
       "\\item 'Costillares'\n",
       "\\item 'Cuatro Caminos'\n",
       "\\item 'Cuatro Vientos'\n",
       "\\item 'Delicias'\n",
       "\\item 'El Goloso'\n",
       "\\item 'El Plantío'\n",
       "\\item 'El Viso'\n",
       "\\item 'Embajadores'\n",
       "\\item 'Entrevías'\n",
       "\\item 'Estrella'\n",
       "\\item 'Fontarrón'\n",
       "\\item 'Fuente del Berro'\n",
       "\\item 'Fuentelareina'\n",
       "\\item 'Gaztambide'\n",
       "\\item 'Goya'\n",
       "\\item 'Guindalera'\n",
       "\\item 'Hellín'\n",
       "\\item 'Hispanoamérica'\n",
       "\\item 'Ibiza'\n",
       "\\item 'Imperial'\n",
       "\\item 'Jerónimos'\n",
       "\\item 'Justicia'\n",
       "\\item 'La Paz'\n",
       "\\item 'Legazpi'\n",
       "\\item 'Lista'\n",
       "\\item 'Los Angeles'\n",
       "\\item 'Los Rosales'\n",
       "\\item 'Lucero'\n",
       "\\item 'Marroquina'\n",
       "\\item 'Media Legua'\n",
       "\\item 'Mirasierra'\n",
       "\\item 'Moscardó'\n",
       "\\item 'Niño Jesús'\n",
       "\\item 'Nueva España'\n",
       "\\item 'Numancia'\n",
       "\\item 'Opañel'\n",
       "\\item 'Orcasitas'\n",
       "\\item 'Orcasur'\n",
       "\\item 'Pacífico'\n",
       "\\item 'Palacio'\n",
       "\\item 'Palomas'\n",
       "\\item 'Palomeras Bajas'\n",
       "\\item 'Palomeras Sureste'\n",
       "\\item 'Palos de Moguer'\n",
       "\\item 'Pavones'\n",
       "\\item 'Peñagrande'\n",
       "\\item 'Pilar'\n",
       "\\item 'Pinar del Rey'\n",
       "\\item 'Piovera'\n",
       "\\item 'Portazgo'\n",
       "\\item 'Pradolongo'\n",
       "\\item 'Prosperidad'\n",
       "\\item 'Pueblo Nuevo'\n",
       "\\item 'Puerta Bonita'\n",
       "\\item 'Puerta del Angel'\n",
       "\\item 'Quintana'\n",
       "\\item 'Recoletos'\n",
       "\\item 'Rejas'\n",
       "\\item 'Rios Rosas'\n",
       "\\item 'Rosas'\n",
       "\\item 'Salvador'\n",
       "\\item 'San Andrés'\n",
       "\\item 'San Cristobal'\n",
       "\\item 'San Diego'\n",
       "\\item 'San Fermín'\n",
       "\\item 'San Isidro'\n",
       "\\item 'San Juan Bautista'\n",
       "\\item 'San Pascual'\n",
       "\\item 'Santa Eugenia'\n",
       "\\item 'Simancas'\n",
       "\\item 'Sol'\n",
       "\\item 'Timón'\n",
       "\\item 'Trafalgar'\n",
       "\\item 'Universidad'\n",
       "\\item 'Valdeacederas'\n",
       "\\item 'Valdefuentes'\n",
       "\\item 'Valdemarín'\n",
       "\\item 'Valdezarza'\n",
       "\\item 'Vallehermoso'\n",
       "\\item 'Valverde'\n",
       "\\item 'Ventas'\n",
       "\\item 'Vinateros'\n",
       "\\item 'Vista Alegre'\n",
       "\\item 'Zofío'\n",
       "\\end{enumerate*}\n"
      ],
      "text/markdown": [
       "1. Universidad\n",
       "2. Sol\n",
       "3. Imperial\n",
       "4. Acacias\n",
       "5. Chopera\n",
       "6. Delicias\n",
       "7. Palos de Moguer\n",
       "8. Embajadores\n",
       "9. Cortes\n",
       "10. Atocha\n",
       "11. Pacífico\n",
       "12. Adelfas\n",
       "13. Estrella\n",
       "14. Ibiza\n",
       "15. Jerónimos\n",
       "16. Niño Jesús\n",
       "17. Palacio\n",
       "18. Justicia\n",
       "19. Recoletos\n",
       "20. Goya\n",
       "21. Fuente del Berro\n",
       "22. Arapiles\n",
       "23. Trafalgar\n",
       "24. Almagro\n",
       "25. Guindalera\n",
       "26. Lista\n",
       "27. Castellana\n",
       "28. El Viso\n",
       "29. Prosperidad\n",
       "30. Valverde\n",
       "31. Casa de Campo\n",
       "32. El Goloso\n",
       "33. Numancia\n",
       "34. Cármenes\n",
       "35. Puerta del Angel\n",
       "36. Lucero\n",
       "37. Aluche\n",
       "38. San Isidro\n",
       "39. Campamento\n",
       "40. Comillas\n",
       "41. Opañel\n",
       "42. Vista Alegre\n",
       "43. Ciudad Jardín\n",
       "44. Hispanoamérica\n",
       "45. Nueva España\n",
       "46. Castilla\n",
       "47. Bellas Vistas\n",
       "48. Cuatro Caminos\n",
       "49. Castillejos\n",
       "50. Vallehermoso\n",
       "51. Almenara\n",
       "52. Valdeacederas\n",
       "53. Berruguete\n",
       "54. Gaztambide\n",
       "55. Rios Rosas\n",
       "56. Peñagrande\n",
       "57. Argüelles\n",
       "58. Puerta Bonita\n",
       "59. Buenavista\n",
       "60. Abrantes\n",
       "61. Orcasur\n",
       "62. San Fermín\n",
       "63. Almendrales\n",
       "64. Pradolongo\n",
       "65. Portazgo\n",
       "66. Entrevías\n",
       "67. San Diego\n",
       "68. Palomeras Bajas\n",
       "69. Fontarrón\n",
       "70. Vinateros\n",
       "71. Ventas\n",
       "72. Pueblo Nuevo\n",
       "73. Quintana\n",
       "74. Concepción\n",
       "75. San Juan Bautista\n",
       "76. Costillares\n",
       "77. Piovera\n",
       "78. Canillas\n",
       "79. Pinar del Rey\n",
       "80. Apostol Santiago\n",
       "81. San Andrés\n",
       "82. Valdefuentes\n",
       "83. Butarque\n",
       "84. Los Angeles\n",
       "85. Casco Histórico de Vicálvaro\n",
       "86. Simancas\n",
       "87. Rejas\n",
       "88. Salvador\n",
       "89. Casco Histórico de Barajas\n",
       "90. Pilar\n",
       "91. La Paz\n",
       "92. Mirasierra\n",
       "93. Ciudad Universitaria\n",
       "94. Moscardó\n",
       "95. Palomeras Sureste\n",
       "96. Marroquina\n",
       "97. Media Legua\n",
       "98. Los Rosales\n",
       "99. Casco Histórico de Vallecas\n",
       "100. Timón\n",
       "101. Corralejos\n",
       "102. Cuatro Vientos\n",
       "103. Colina\n",
       "104. San Cristobal\n",
       "105. Alameda de Osuna\n",
       "106. Aeropuerto\n",
       "107. Palomas\n",
       "108. Zofío\n",
       "109. Aguilas\n",
       "110. Legazpi\n",
       "111. Fuentelareina\n",
       "112. Aravaca\n",
       "113. Ambroz\n",
       "114. Canillejas\n",
       "115. Valdezarza\n",
       "116. Amposta\n",
       "117. San Pascual\n",
       "118. Santa Eugenia\n",
       "119. Arcos\n",
       "120. Rosas\n",
       "121. Valdemarín\n",
       "122. El Plantío\n",
       "123. Hellín\n",
       "124. Pavones\n",
       "125. Orcasitas\n",
       "\n",
       "\n",
       "\n",
       "**Levels**: 1. 'Abrantes'\n",
       "2. 'Acacias'\n",
       "3. 'Adelfas'\n",
       "4. 'Aeropuerto'\n",
       "5. 'Aguilas'\n",
       "6. 'Alameda de Osuna'\n",
       "7. 'Almagro'\n",
       "8. 'Almenara'\n",
       "9. 'Almendrales'\n",
       "10. 'Aluche'\n",
       "11. 'Ambroz'\n",
       "12. 'Amposta'\n",
       "13. 'Apostol Santiago'\n",
       "14. 'Arapiles'\n",
       "15. 'Aravaca'\n",
       "16. 'Arcos'\n",
       "17. 'Argüelles'\n",
       "18. 'Atocha'\n",
       "19. 'Bellas Vistas'\n",
       "20. 'Berruguete'\n",
       "21. 'Buenavista'\n",
       "22. 'Butarque'\n",
       "23. 'Campamento'\n",
       "24. 'Canillas'\n",
       "25. 'Canillejas'\n",
       "26. 'Cármenes'\n",
       "27. 'Casa de Campo'\n",
       "28. 'Casco Histórico de Barajas'\n",
       "29. 'Casco Histórico de Vallecas'\n",
       "30. 'Casco Histórico de Vicálvaro'\n",
       "31. 'Castellana'\n",
       "32. 'Castilla'\n",
       "33. 'Castillejos'\n",
       "34. 'Chopera'\n",
       "35. 'Ciudad Jardín'\n",
       "36. 'Ciudad Universitaria'\n",
       "37. 'Colina'\n",
       "38. 'Comillas'\n",
       "39. 'Concepción'\n",
       "40. 'Corralejos'\n",
       "41. 'Cortes'\n",
       "42. 'Costillares'\n",
       "43. 'Cuatro Caminos'\n",
       "44. 'Cuatro Vientos'\n",
       "45. 'Delicias'\n",
       "46. 'El Goloso'\n",
       "47. 'El Plantío'\n",
       "48. 'El Viso'\n",
       "49. 'Embajadores'\n",
       "50. 'Entrevías'\n",
       "51. 'Estrella'\n",
       "52. 'Fontarrón'\n",
       "53. 'Fuente del Berro'\n",
       "54. 'Fuentelareina'\n",
       "55. 'Gaztambide'\n",
       "56. 'Goya'\n",
       "57. 'Guindalera'\n",
       "58. 'Hellín'\n",
       "59. 'Hispanoamérica'\n",
       "60. 'Ibiza'\n",
       "61. 'Imperial'\n",
       "62. 'Jerónimos'\n",
       "63. 'Justicia'\n",
       "64. 'La Paz'\n",
       "65. 'Legazpi'\n",
       "66. 'Lista'\n",
       "67. 'Los Angeles'\n",
       "68. 'Los Rosales'\n",
       "69. 'Lucero'\n",
       "70. 'Marroquina'\n",
       "71. 'Media Legua'\n",
       "72. 'Mirasierra'\n",
       "73. 'Moscardó'\n",
       "74. 'Niño Jesús'\n",
       "75. 'Nueva España'\n",
       "76. 'Numancia'\n",
       "77. 'Opañel'\n",
       "78. 'Orcasitas'\n",
       "79. 'Orcasur'\n",
       "80. 'Pacífico'\n",
       "81. 'Palacio'\n",
       "82. 'Palomas'\n",
       "83. 'Palomeras Bajas'\n",
       "84. 'Palomeras Sureste'\n",
       "85. 'Palos de Moguer'\n",
       "86. 'Pavones'\n",
       "87. 'Peñagrande'\n",
       "88. 'Pilar'\n",
       "89. 'Pinar del Rey'\n",
       "90. 'Piovera'\n",
       "91. 'Portazgo'\n",
       "92. 'Pradolongo'\n",
       "93. 'Prosperidad'\n",
       "94. 'Pueblo Nuevo'\n",
       "95. 'Puerta Bonita'\n",
       "96. 'Puerta del Angel'\n",
       "97. 'Quintana'\n",
       "98. 'Recoletos'\n",
       "99. 'Rejas'\n",
       "100. 'Rios Rosas'\n",
       "101. 'Rosas'\n",
       "102. 'Salvador'\n",
       "103. 'San Andrés'\n",
       "104. 'San Cristobal'\n",
       "105. 'San Diego'\n",
       "106. 'San Fermín'\n",
       "107. 'San Isidro'\n",
       "108. 'San Juan Bautista'\n",
       "109. 'San Pascual'\n",
       "110. 'Santa Eugenia'\n",
       "111. 'Simancas'\n",
       "112. 'Sol'\n",
       "113. 'Timón'\n",
       "114. 'Trafalgar'\n",
       "115. 'Universidad'\n",
       "116. 'Valdeacederas'\n",
       "117. 'Valdefuentes'\n",
       "118. 'Valdemarín'\n",
       "119. 'Valdezarza'\n",
       "120. 'Vallehermoso'\n",
       "121. 'Valverde'\n",
       "122. 'Ventas'\n",
       "123. 'Vinateros'\n",
       "124. 'Vista Alegre'\n",
       "125. 'Zofío'\n",
       "\n",
       "\n"
      ],
      "text/plain": [
       "  [1] Universidad                  Sol                         \n",
       "  [3] Imperial                     Acacias                     \n",
       "  [5] Chopera                      Delicias                    \n",
       "  [7] Palos de Moguer              Embajadores                 \n",
       "  [9] Cortes                       Atocha                      \n",
       " [11] Pacífico                     Adelfas                     \n",
       " [13] Estrella                     Ibiza                       \n",
       " [15] Jerónimos                    Niño Jesús                  \n",
       " [17] Palacio                      Justicia                    \n",
       " [19] Recoletos                    Goya                        \n",
       " [21] Fuente del Berro             Arapiles                    \n",
       " [23] Trafalgar                    Almagro                     \n",
       " [25] Guindalera                   Lista                       \n",
       " [27] Castellana                   El Viso                     \n",
       " [29] Prosperidad                  Valverde                    \n",
       " [31] Casa de Campo                El Goloso                   \n",
       " [33] Numancia                     Cármenes                    \n",
       " [35] Puerta del Angel             Lucero                      \n",
       " [37] Aluche                       San Isidro                  \n",
       " [39] Campamento                   Comillas                    \n",
       " [41] Opañel                       Vista Alegre                \n",
       " [43] Ciudad Jardín                Hispanoamérica              \n",
       " [45] Nueva España                 Castilla                    \n",
       " [47] Bellas Vistas                Cuatro Caminos              \n",
       " [49] Castillejos                  Vallehermoso                \n",
       " [51] Almenara                     Valdeacederas               \n",
       " [53] Berruguete                   Gaztambide                  \n",
       " [55] Rios Rosas                   Peñagrande                  \n",
       " [57] Argüelles                    Puerta Bonita               \n",
       " [59] Buenavista                   Abrantes                    \n",
       " [61] Orcasur                      San Fermín                  \n",
       " [63] Almendrales                  Pradolongo                  \n",
       " [65] Portazgo                     Entrevías                   \n",
       " [67] San Diego                    Palomeras Bajas             \n",
       " [69] Fontarrón                    Vinateros                   \n",
       " [71] Ventas                       Pueblo Nuevo                \n",
       " [73] Quintana                     Concepción                  \n",
       " [75] San Juan Bautista            Costillares                 \n",
       " [77] Piovera                      Canillas                    \n",
       " [79] Pinar del Rey                Apostol Santiago            \n",
       " [81] San Andrés                   Valdefuentes                \n",
       " [83] Butarque                     Los Angeles                 \n",
       " [85] Casco Histórico de Vicálvaro Simancas                    \n",
       " [87] Rejas                        Salvador                    \n",
       " [89] Casco Histórico de Barajas   Pilar                       \n",
       " [91] La Paz                       Mirasierra                  \n",
       " [93] Ciudad Universitaria         Moscardó                    \n",
       " [95] Palomeras Sureste            Marroquina                  \n",
       " [97] Media Legua                  Los Rosales                 \n",
       " [99] Casco Histórico de Vallecas  Timón                       \n",
       "[101] Corralejos                   Cuatro Vientos              \n",
       "[103] Colina                       San Cristobal               \n",
       "[105] Alameda de Osuna             Aeropuerto                  \n",
       "[107] Palomas                      Zofío                       \n",
       "[109] Aguilas                      Legazpi                     \n",
       "[111] Fuentelareina                Aravaca                     \n",
       "[113] Ambroz                       Canillejas                  \n",
       "[115] Valdezarza                   Amposta                     \n",
       "[117] San Pascual                  Santa Eugenia               \n",
       "[119] Arcos                        Rosas                       \n",
       "[121] Valdemarín                   El Plantío                  \n",
       "[123] Hellín                       Pavones                     \n",
       "[125] Orcasitas                   \n",
       "125 Levels: Abrantes Acacias Adelfas Aeropuerto Aguilas ... Zofío"
      ]
     },
     "metadata": {},
     "output_type": "display_data"
    }
   ],
   "source": [
    "print (paste(\"El número de barrios totales en todo el dataset airbnb es: \",length(unique(airbnb$Barrio))))\n",
    "unique(airbnb$Barrio)"
   ]
  },
  {
   "cell_type": "markdown",
   "metadata": {},
   "source": [
    "¿Cuales son los 5 barrios que tienen mayor número entradas?"
   ]
  },
  {
   "cell_type": "code",
   "execution_count": 329,
   "metadata": {},
   "outputs": [
    {
     "data": {
      "text/html": [
       "<span style=white-space:pre-wrap>' Los 5 barrios que tienen un mayor número de entradas son:  Embajadores, Universidad, Palacio, Sol, Justicia'</span>"
      ],
      "text/latex": [
       "' Los 5 barrios que tienen un mayor número de entradas son:  Embajadores, Universidad, Palacio, Sol, Justicia'"
      ],
      "text/markdown": [
       "<span style=white-space:pre-wrap>' Los 5 barrios que tienen un mayor número de entradas son:  Embajadores, Universidad, Palacio, Sol, Justicia'</span>"
      ],
      "text/plain": [
       "[1] \" Los 5 barrios que tienen un mayor número de entradas son:  Embajadores, Universidad, Palacio, Sol, Justicia\""
      ]
     },
     "metadata": {},
     "output_type": "display_data"
    }
   ],
   "source": [
    "tablabarriosordenada= sort (table (factor (airbnb$Barrio)), decreasing=T)\n",
    "barrios_mayor=names(tablabarriosordenada[1:5])\n",
    "paste (\" Los 5 barrios que tienen un mayor número de entradas son: \", paste (barrios_mayor, collapse = \", \") )"
   ]
  },
  {
   "cell_type": "markdown",
   "metadata": {},
   "source": [
    "¿Cuantos Tipos de Alquiler diferentes hay? ¿Cuales son? ¿Cuantas entradas en el dataframe hay por cada tipo?"
   ]
  },
  {
   "cell_type": "code",
   "execution_count": 330,
   "metadata": {},
   "outputs": [
    {
     "name": "stdout",
     "output_type": "stream",
     "text": [
      "[1] \"El número de tipos de alquileres diferentes es:  3\"\n",
      "[1] \"Los tipos de alquileres son:  Entire home/apt, Private room, Shared room\"\n"
     ]
    },
    {
     "data": {
      "text/html": [
       "<dl class=dl-horizontal>\n",
       "\t<dt>Entire home/apt</dt>\n",
       "\t\t<dd>7903</dd>\n",
       "\t<dt>Private room</dt>\n",
       "\t\t<dd>5113</dd>\n",
       "\t<dt>Shared room</dt>\n",
       "\t\t<dd>191</dd>\n",
       "</dl>\n"
      ],
      "text/latex": [
       "\\begin{description*}\n",
       "\\item[Entire home/apt] 7903\n",
       "\\item[Private room] 5113\n",
       "\\item[Shared room] 191\n",
       "\\end{description*}\n"
      ],
      "text/markdown": [
       "Entire home/apt\n",
       ":   7903Private room\n",
       ":   5113Shared room\n",
       ":   191\n",
       "\n"
      ],
      "text/plain": [
       "Entire home/apt    Private room     Shared room \n",
       "           7903            5113             191 "
      ]
     },
     "metadata": {},
     "output_type": "display_data"
    }
   ],
   "source": [
    "print (paste (\"El número de tipos de alquileres diferentes es: \", length(levels(airbnb$TipoAlquiler))))\n",
    "print (paste (\"Los tipos de alquileres son: \", paste (levels(airbnb$TipoAlquiler), collapse = ', ')))\n",
    "summary (airbnb$TipoAlquiler)\n"
   ]
  },
  {
   "cell_type": "markdown",
   "metadata": {},
   "source": [
    "Muestra el diagrama de cajas del precio para cada uno de los diferentes Tipos de Alquiler"
   ]
  },
  {
   "cell_type": "code",
   "execution_count": 331,
   "metadata": {},
   "outputs": [
    {
     "name": "stderr",
     "output_type": "stream",
     "text": [
      "Warning message:\n",
      "“Removed 9 rows containing non-finite values (stat_boxplot).”Warning message:\n",
      "“Removed 177 rows containing non-finite values (stat_boxplot).”"
     ]
    },
    {
     "data": {
      "image/png": "[encoded data removed]",
      "text/plain": [
       "plot without title"
      ]
     },
     "metadata": {},
     "output_type": "display_data"
    },
    {
     "data": {
      "image/png": "[encoded data removed]",
      "text/plain": [
       "plot without title"
      ]
     },
     "metadata": {},
     "output_type": "display_data"
    }
   ],
   "source": [
    "ggplot(data=airbnb,aes(x=TipoAlquiler, y=Precio,color=TipoAlquiler))+geom_boxplot()+   \n",
    " scale_color_discrete(name=\"Precio\")\n",
    "\n",
    "#Hay bastantes puntos fuera por lo que no se ven bien las cajas. Reduzco la escala en y para verlo mejor\n",
    "ggplot(data=airbnb,aes(x=TipoAlquiler, y=Precio,color=TipoAlquiler))+geom_boxplot()+ \n",
    " scale_y_continuous(breaks = seq(0,250,50), lim=c(0,250)) +\n",
    " scale_color_discrete(name=\"Precio\")\n",
    "\n"
   ]
  },
  {
   "cell_type": "markdown",
   "metadata": {},
   "source": [
    "Cual es el precio medio de alquiler medio de cada uno, la diferencia que hay ¿es estadísticamente significativa?\n",
    "¿Con que test lo comprobarías?"
   ]
  },
  {
   "cell_type": "code",
   "execution_count": 332,
   "metadata": {},
   "outputs": [
    {
     "data": {
      "text/html": [
       "<span style=white-space:pre-wrap>'El precio medio de alquilé de los de tipo Entire home/apt es:  87.3  euros'</span>"
      ],
      "text/latex": [
       "'El precio medio de alquilé de los de tipo Entire home/apt es:  87.3  euros'"
      ],
      "text/markdown": [
       "<span style=white-space:pre-wrap>'El precio medio de alquilé de los de tipo Entire home/apt es:  87.3  euros'</span>"
      ],
      "text/plain": [
       "[1] \"El precio medio de alquilé de los de tipo Entire home/apt es:  87.3  euros\""
      ]
     },
     "metadata": {},
     "output_type": "display_data"
    },
    {
     "data": {
      "text/html": [
       "<span style=white-space:pre-wrap>'El precio medio de alquilé de los de tipo Private es:  34.26  euros'</span>"
      ],
      "text/latex": [
       "'El precio medio de alquilé de los de tipo Private es:  34.26  euros'"
      ],
      "text/markdown": [
       "<span style=white-space:pre-wrap>'El precio medio de alquilé de los de tipo Private es:  34.26  euros'</span>"
      ],
      "text/plain": [
       "[1] \"El precio medio de alquilé de los de tipo Private es:  34.26  euros\""
      ]
     },
     "metadata": {},
     "output_type": "display_data"
    },
    {
     "data": {
      "text/html": [
       "<span style=white-space:pre-wrap>'El precio medio de alquilé de los de tipo Shared es:  29.85  euros'</span>"
      ],
      "text/latex": [
       "'El precio medio de alquilé de los de tipo Shared es:  29.85  euros'"
      ],
      "text/markdown": [
       "<span style=white-space:pre-wrap>'El precio medio de alquilé de los de tipo Shared es:  29.85  euros'</span>"
      ],
      "text/plain": [
       "[1] \"El precio medio de alquilé de los de tipo Shared es:  29.85  euros\""
      ]
     },
     "metadata": {},
     "output_type": "display_data"
    }
   ],
   "source": [
    "df_entire=airbnb[airbnb$TipoAlquiler == 'Entire home/apt' & !is.na (airbnb$Precio) & airbnb$Precio!=0,]\n",
    "df_private=airbnb[airbnb$TipoAlquiler == 'Private room'& !is.na (airbnb$Precio) & airbnb$Precio!=0,]\n",
    "df_shared=airbnb[airbnb$TipoAlquiler == 'Shared room'& !is.na (airbnb$Precio) & airbnb$Precio!=0,]\n",
    "\n",
    "\n",
    "media_entire = mean (df_entire$Precio)\n",
    "media_private = mean (df_private$Precio)\n",
    "media_shared = mean (df_shared$Precio)\n",
    "\n",
    "paste (\"El precio medio de alquilé de los de tipo Entire home/apt es: \", round (media_entire,2), \" euros\")\n",
    "paste (\"El precio medio de alquilé de los de tipo Private es: \", round (media_private,2), \" euros\")\n",
    "paste (\"El precio medio de alquilé de los de tipo Shared es: \", round (media_shared,2), \" euros\")\n",
    "\n",
    "\n",
    "\n"
   ]
  },
  {
   "cell_type": "code",
   "execution_count": 333,
   "metadata": {},
   "outputs": [
    {
     "data": {
      "text/html": [
       "7896"
      ],
      "text/latex": [
       "7896"
      ],
      "text/markdown": [
       "7896"
      ],
      "text/plain": [
       "[1] 7896"
      ]
     },
     "metadata": {},
     "output_type": "display_data"
    },
    {
     "data": {
      "text/html": [
       "5111"
      ],
      "text/latex": [
       "5111"
      ],
      "text/markdown": [
       "5111"
      ],
      "text/plain": [
       "[1] 5111"
      ]
     },
     "metadata": {},
     "output_type": "display_data"
    },
    {
     "data": {
      "text/html": [
       "191"
      ],
      "text/latex": [
       "191"
      ],
      "text/markdown": [
       "191"
      ],
      "text/plain": [
       "[1] 191"
      ]
     },
     "metadata": {},
     "output_type": "display_data"
    }
   ],
   "source": [
    "#Comprobamos si los datos siguen una distribució normal para ver que tipo de test aplicamos\n",
    "#Para ello aplicamos el test de Shapiro. El tamaño de la muestra debe estar entre 3 y 5.000. Compruebo el tamaño\n",
    "length (df_entire$Precio)\n",
    "length (df_private$Precio)\n",
    "length (df_shared$Precio)\n"
   ]
  },
  {
   "cell_type": "code",
   "execution_count": 334,
   "metadata": {},
   "outputs": [
    {
     "data": {
      "text/html": [
       "<span style=white-space:pre-wrap>'Entire home/apt p-value =  4.05005104330579e-72'</span>"
      ],
      "text/latex": [
       "'Entire home/apt p-value =  4.05005104330579e-72'"
      ],
      "text/markdown": [
       "<span style=white-space:pre-wrap>'Entire home/apt p-value =  4.05005104330579e-72'</span>"
      ],
      "text/plain": [
       "[1] \"Entire home/apt p-value =  4.05005104330579e-72\""
      ]
     },
     "metadata": {},
     "output_type": "display_data"
    },
    {
     "data": {
      "text/html": [
       "<span style=white-space:pre-wrap>'Private romm p-value  1.03541904661957e-84'</span>"
      ],
      "text/latex": [
       "'Private romm p-value  1.03541904661957e-84'"
      ],
      "text/markdown": [
       "<span style=white-space:pre-wrap>'Private romm p-value  1.03541904661957e-84'</span>"
      ],
      "text/plain": [
       "[1] \"Private romm p-value  1.03541904661957e-84\""
      ]
     },
     "metadata": {},
     "output_type": "display_data"
    },
    {
     "data": {
      "text/html": [
       "<span style=white-space:pre-wrap>'Shared room p-value  4.51672121600842e-24'</span>"
      ],
      "text/latex": [
       "'Shared room p-value  4.51672121600842e-24'"
      ],
      "text/markdown": [
       "<span style=white-space:pre-wrap>'Shared room p-value  4.51672121600842e-24'</span>"
      ],
      "text/plain": [
       "[1] \"Shared room p-value  4.51672121600842e-24\""
      ]
     },
     "metadata": {},
     "output_type": "display_data"
    }
   ],
   "source": [
    "#Tomo una muestra aleatoria de 5.000 en los casos en los que estoy por encima y realizo el test de shapiro\n",
    "muestras_entire = sample (df_entire$Precio, 5000, replace = F)\n",
    "paste (\"Entire home/apt p-value = \", shapiro.test (muestras_entire)$p.value)\n",
    "muestras_private = sample (df_private$Precio, 5000, replace = F)\n",
    "paste (\"Private romm p-value \", shapiro.test (muestras_private)$p.value)\n",
    "paste (\"Shared room p-value \", shapiro.test (df_shared$Precio)$p.value)\n",
    "\n"
   ]
  },
  {
   "cell_type": "code",
   "execution_count": 335,
   "metadata": {},
   "outputs": [
    {
     "data": {
      "text/html": [
       "'Al tener valores de p-value por debajo de 0,05 debemos descartar la hipótesis nula y por tanto podemos decir que los precios NO siguen una distribución normal'"
      ],
      "text/latex": [
       "'Al tener valores de p-value por debajo de 0,05 debemos descartar la hipótesis nula y por tanto podemos decir que los precios NO siguen una distribución normal'"
      ],
      "text/markdown": [
       "'Al tener valores de p-value por debajo de 0,05 debemos descartar la hipótesis nula y por tanto podemos decir que los precios NO siguen una distribución normal'"
      ],
      "text/plain": [
       "[1] \"Al tener valores de p-value por debajo de 0,05 debemos descartar la hipótesis nula y por tanto podemos decir que los precios NO siguen una distribución normal\""
      ]
     },
     "metadata": {},
     "output_type": "display_data"
    },
    {
     "data": {
      "text/html": [
       "'Al no seguir una distribución noraml utilizaré el test de Kruskal-Wallis para realizar la comprobación de si son estadísticamente diferentes'"
      ],
      "text/latex": [
       "'Al no seguir una distribución noraml utilizaré el test de Kruskal-Wallis para realizar la comprobación de si son estadísticamente diferentes'"
      ],
      "text/markdown": [
       "'Al no seguir una distribución noraml utilizaré el test de Kruskal-Wallis para realizar la comprobación de si son estadísticamente diferentes'"
      ],
      "text/plain": [
       "[1] \"Al no seguir una distribución noraml utilizaré el test de Kruskal-Wallis para realizar la comprobación de si son estadísticamente diferentes\""
      ]
     },
     "metadata": {},
     "output_type": "display_data"
    }
   ],
   "source": [
    "paste (\"Al tener valores de p-value por debajo de 0,05 debemos descartar la hipótesis nula y por tanto podemos decir que los precios NO siguen una distribución normal\")\n",
    "paste (\"Al no seguir una distribución noraml utilizaré el test de Kruskal-Wallis para realizar la comprobación de si son estadísticamente diferentes\")"
   ]
  },
  {
   "cell_type": "code",
   "execution_count": 336,
   "metadata": {},
   "outputs": [
    {
     "data": {
      "text/plain": [
       "\n",
       "\tKruskal-Wallis rank sum test\n",
       "\n",
       "data:  Precio by TipoAlquiler\n",
       "Kruskal-Wallis chi-squared = 7235.6, df = 2, p-value < 2.2e-16\n"
      ]
     },
     "metadata": {},
     "output_type": "display_data"
    }
   ],
   "source": [
    "df_total <- rbind(df_entire,df_private,df_shared)\n",
    "kruskal.test( Precio ~ TipoAlquiler, data=df_total)"
   ]
  },
  {
   "cell_type": "code",
   "execution_count": 337,
   "metadata": {},
   "outputs": [
    {
     "data": {
      "text/html": [
       "'El p-value que nos devuelve el test de Kruskal es muy bajo por tanto debemos rechazar la hipótesis nula y concluir que SI son estadísticamente diferentes'"
      ],
      "text/latex": [
       "'El p-value que nos devuelve el test de Kruskal es muy bajo por tanto debemos rechazar la hipótesis nula y concluir que SI son estadísticamente diferentes'"
      ],
      "text/markdown": [
       "'El p-value que nos devuelve el test de Kruskal es muy bajo por tanto debemos rechazar la hipótesis nula y concluir que SI son estadísticamente diferentes'"
      ],
      "text/plain": [
       "[1] \"El p-value que nos devuelve el test de Kruskal es muy bajo por tanto debemos rechazar la hipótesis nula y concluir que SI son estadísticamente diferentes\""
      ]
     },
     "metadata": {},
     "output_type": "display_data"
    }
   ],
   "source": [
    "paste (\"El p-value que nos devuelve el test de Kruskal es muy bajo por tanto debemos rechazar la hipótesis nula y concluir que SI son estadísticamente diferentes\")"
   ]
  },
  {
   "cell_type": "markdown",
   "metadata": {},
   "source": [
    "Filtra el dataframe cuyos tipo de alquiler sea  'Entire home/apt' y guardalo en un dataframe llamado \n",
    "*airbnb_entire*.\n",
    "Estas serán las entradas que tienen un alquiler del piso completo."
   ]
  },
  {
   "cell_type": "code",
   "execution_count": 338,
   "metadata": {},
   "outputs": [],
   "source": [
    "airbnb_entire= airbnb[airbnb$TipoAlquiler=='Entire home/apt',]"
   ]
  },
  {
   "cell_type": "markdown",
   "metadata": {},
   "source": [
    "¿Cuales son los 5 barrios que tienen un mayor número de apartamentos enteros en alquiler?\n",
    "Nota: Mirar solo en airbnb_entire"
   ]
  },
  {
   "cell_type": "code",
   "execution_count": 339,
   "metadata": {},
   "outputs": [
    {
     "data": {
      "text/html": [
       "<span style=white-space:pre-wrap>' Los 5 barrios con mayor número de apartamentos enteros en alquier son:  Embajadores, Universidad, Palacio, Sol, Cortes'</span>"
      ],
      "text/latex": [
       "' Los 5 barrios con mayor número de apartamentos enteros en alquier son:  Embajadores, Universidad, Palacio, Sol, Cortes'"
      ],
      "text/markdown": [
       "<span style=white-space:pre-wrap>' Los 5 barrios con mayor número de apartamentos enteros en alquier son:  Embajadores, Universidad, Palacio, Sol, Cortes'</span>"
      ],
      "text/plain": [
       "[1] \" Los 5 barrios con mayor número de apartamentos enteros en alquier son:  Embajadores, Universidad, Palacio, Sol, Cortes\""
      ]
     },
     "metadata": {},
     "output_type": "display_data"
    }
   ],
   "source": [
    "#Filtro por el tipo de propiedad para que sea Apartamento\n",
    "airbnb_entireap = subset (airbnb_entire, TipoPropiedad==\"Apartment\")\n",
    "                          \n",
    "tablabarriosordenada= sort (table (airbnb_entireap$Barrio), decreasing=T)\n",
    "barrios_mayor=names(tablabarriosordenada[1:5])\n",
    "paste (\" Los 5 barrios con mayor número de apartamentos enteros en alquier son: \", paste (barrios_mayor, collapse = \", \") )\n"
   ]
  },
  {
   "cell_type": "markdown",
   "metadata": {},
   "source": [
    "¿Cuales son los 5 barrios que tienen un mayor precio medio de alquiler para apartamentos enteros?\n",
    "\n",
    "¿Cual es su precio medio?\n",
    "\n",
    "Ayuda: Usa la función aggregate `aggregate(.~colname,df,mean,na.rm=TRUE)`"
   ]
  },
  {
   "cell_type": "code",
   "execution_count": 340,
   "metadata": {},
   "outputs": [
    {
     "data": {
      "text/html": [
       "'Los 5 barrios que tienen un mayor precio medio de alquier para apartamentos enteros son: Palomas, Fuentelareina, Recoletos, Casco Histórico de Barajas, Castellana'"
      ],
      "text/latex": [
       "'Los 5 barrios que tienen un mayor precio medio de alquier para apartamentos enteros son: Palomas, Fuentelareina, Recoletos, Casco Histórico de Barajas, Castellana'"
      ],
      "text/markdown": [
       "'Los 5 barrios que tienen un mayor precio medio de alquier para apartamentos enteros son: Palomas, Fuentelareina, Recoletos, Casco Histórico de Barajas, Castellana'"
      ],
      "text/plain": [
       "[1] \"Los 5 barrios que tienen un mayor precio medio de alquier para apartamentos enteros son: Palomas, Fuentelareina, Recoletos, Casco Histórico de Barajas, Castellana\""
      ]
     },
     "metadata": {},
     "output_type": "display_data"
    },
    {
     "data": {
      "text/html": [
       "'Muestro dataframe con el nombre del barrio y su precio medio'"
      ],
      "text/latex": [
       "'Muestro dataframe con el nombre del barrio y su precio medio'"
      ],
      "text/markdown": [
       "'Muestro dataframe con el nombre del barrio y su precio medio'"
      ],
      "text/plain": [
       "[1] \"Muestro dataframe con el nombre del barrio y su precio medio\""
      ]
     },
     "metadata": {},
     "output_type": "display_data"
    },
    {
     "data": {
      "text/html": [
       "<table>\n",
       "<thead><tr><th></th><th scope=col>Barrio</th><th scope=col>Precio</th></tr></thead>\n",
       "<tbody>\n",
       "\t<tr><th scope=row>75</th><td>Palomas                   </td><td>459.5000                  </td></tr>\n",
       "\t<tr><th scope=row>48</th><td>Fuentelareina             </td><td>280.0000                  </td></tr>\n",
       "\t<tr><th scope=row>90</th><td>Recoletos                 </td><td>165.5328                  </td></tr>\n",
       "\t<tr><th scope=row>26</th><td>Casco Histórico de Barajas</td><td>157.0000                  </td></tr>\n",
       "\t<tr><th scope=row>29</th><td>Castellana                </td><td>140.6818                  </td></tr>\n",
       "</tbody>\n",
       "</table>\n"
      ],
      "text/latex": [
       "\\begin{tabular}{r|ll}\n",
       "  & Barrio & Precio\\\\\n",
       "\\hline\n",
       "\t75 & Palomas                    & 459.5000                  \\\\\n",
       "\t48 & Fuentelareina              & 280.0000                  \\\\\n",
       "\t90 & Recoletos                  & 165.5328                  \\\\\n",
       "\t26 & Casco Histórico de Barajas & 157.0000                  \\\\\n",
       "\t29 & Castellana                 & 140.6818                  \\\\\n",
       "\\end{tabular}\n"
      ],
      "text/markdown": [
       "\n",
       "| <!--/--> | Barrio | Precio |\n",
       "|---|---|---|\n",
       "| 75 | Palomas                    | 459.5000                   |\n",
       "| 48 | Fuentelareina              | 280.0000                   |\n",
       "| 90 | Recoletos                  | 165.5328                   |\n",
       "| 26 | Casco Histórico de Barajas | 157.0000                   |\n",
       "| 29 | Castellana                 | 140.6818                   |\n",
       "\n"
      ],
      "text/plain": [
       "   Barrio                     Precio  \n",
       "75 Palomas                    459.5000\n",
       "48 Fuentelareina              280.0000\n",
       "90 Recoletos                  165.5328\n",
       "26 Casco Histórico de Barajas 157.0000\n",
       "29 Castellana                 140.6818"
      ]
     },
     "metadata": {},
     "output_type": "display_data"
    }
   ],
   "source": [
    "\n",
    "df1=aggregate(Precio~Barrio, airbnb_entireap, mean, na.rm=TRUE  )\n",
    "df1_ordenado=df1[order(-df1$Precio),]\n",
    "barrios_caros = df1_ordenado$Barrio[1:5]\n",
    "paste (\"Los 5 barrios que tienen un mayor precio medio de alquier para apartamentos enteros son:\", \n",
    "       paste(barrios_caros, collapse=', '))\n",
    "\n",
    "paste (\"Muestro dataframe con el nombre del barrio y su precio medio\")\n",
    "head(df1_ordenado,5)\n",
    "\n",
    "\n"
   ]
  },
  {
   "cell_type": "markdown",
   "metadata": {},
   "source": [
    "¿Cuantos apartamentos hay en cada uno de esos barrios?\n",
    "\n",
    "Mostrar una dataframe con el nombre del barrio, el precio y el número de entradas.\n",
    "\n",
    "Ayuda: Podeis crear un nuevo dataframe con las columnas \"Barrio\" y \"Freq\" que contenga el número de entradas en cada barrio y hacer un merge con el dataframe del punto anterior."
   ]
  },
  {
   "cell_type": "code",
   "execution_count": 341,
   "metadata": {},
   "outputs": [
    {
     "data": {
      "text/plain": [
       "\n",
       "                   Palomas              Fuentelareina \n",
       "                         2                          1 \n",
       "                 Recoletos Casco Histórico de Barajas \n",
       "                       122                          6 \n",
       "                Castellana \n",
       "                        66 "
      ]
     },
     "metadata": {},
     "output_type": "display_data"
    }
   ],
   "source": [
    "table(airbnb_entireap$Barrio)[barrios_caros]"
   ]
  },
  {
   "cell_type": "code",
   "execution_count": 342,
   "metadata": {},
   "outputs": [
    {
     "data": {
      "text/html": [
       "'Dataframe con los 5 barrios, el precio y el número de entradas'"
      ],
      "text/latex": [
       "'Dataframe con los 5 barrios, el precio y el número de entradas'"
      ],
      "text/markdown": [
       "'Dataframe con los 5 barrios, el precio y el número de entradas'"
      ],
      "text/plain": [
       "[1] \"Dataframe con los 5 barrios, el precio y el número de entradas\""
      ]
     },
     "metadata": {},
     "output_type": "display_data"
    },
    {
     "data": {
      "text/html": [
       "<table>\n",
       "<thead><tr><th scope=col>Barrio</th><th scope=col>Precio</th><th scope=col>Freq</th></tr></thead>\n",
       "<tbody>\n",
       "\t<tr><td>Casco Histórico de Barajas</td><td>157.0000                  </td><td>  6                       </td></tr>\n",
       "\t<tr><td>Castellana                </td><td>140.6818                  </td><td> 66                       </td></tr>\n",
       "\t<tr><td>Fuentelareina             </td><td>280.0000                  </td><td>  1                       </td></tr>\n",
       "\t<tr><td>Palomas                   </td><td>459.5000                  </td><td>  2                       </td></tr>\n",
       "\t<tr><td>Recoletos                 </td><td>165.5328                  </td><td>122                       </td></tr>\n",
       "</tbody>\n",
       "</table>\n"
      ],
      "text/latex": [
       "\\begin{tabular}{r|lll}\n",
       " Barrio & Precio & Freq\\\\\n",
       "\\hline\n",
       "\t Casco Histórico de Barajas & 157.0000                   &   6                       \\\\\n",
       "\t Castellana                 & 140.6818                   &  66                       \\\\\n",
       "\t Fuentelareina              & 280.0000                   &   1                       \\\\\n",
       "\t Palomas                    & 459.5000                   &   2                       \\\\\n",
       "\t Recoletos                  & 165.5328                   & 122                       \\\\\n",
       "\\end{tabular}\n"
      ],
      "text/markdown": [
       "\n",
       "| Barrio | Precio | Freq |\n",
       "|---|---|---|\n",
       "| Casco Histórico de Barajas | 157.0000                   |   6                        |\n",
       "| Castellana                 | 140.6818                   |  66                        |\n",
       "| Fuentelareina              | 280.0000                   |   1                        |\n",
       "| Palomas                    | 459.5000                   |   2                        |\n",
       "| Recoletos                  | 165.5328                   | 122                        |\n",
       "\n"
      ],
      "text/plain": [
       "  Barrio                     Precio   Freq\n",
       "1 Casco Histórico de Barajas 157.0000   6 \n",
       "2 Castellana                 140.6818  66 \n",
       "3 Fuentelareina              280.0000   1 \n",
       "4 Palomas                    459.5000   2 \n",
       "5 Recoletos                  165.5328 122 "
      ]
     },
     "metadata": {},
     "output_type": "display_data"
    }
   ],
   "source": [
    "paste(\"Dataframe con los 5 barrios, el precio y el número de entradas\")\n",
    "dfbarrios_ap_enteros = data.frame (table(airbnb_entireap$Barrio)[barrios_caros])\n",
    "nombres = c(\"Barrio\", \"Freq\")\n",
    "colnames(dfbarrios_ap_enteros)= nombres\n",
    "dfbarrios_precio = merge (df1_ordenado,dfbarrios_ap_enteros )\n",
    "dfbarrios_precio"
   ]
  },
  {
   "cell_type": "code",
   "execution_count": 343,
   "metadata": {},
   "outputs": [
    {
     "data": {
      "text/html": [
       "'Dataframe con el nombre del barrio, el precio y el número de entradas de todos los barrios'"
      ],
      "text/latex": [
       "'Dataframe con el nombre del barrio, el precio y el número de entradas de todos los barrios'"
      ],
      "text/markdown": [
       "'Dataframe con el nombre del barrio, el precio y el número de entradas de todos los barrios'"
      ],
      "text/plain": [
       "[1] \"Dataframe con el nombre del barrio, el precio y el número de entradas de todos los barrios\""
      ]
     },
     "metadata": {},
     "output_type": "display_data"
    },
    {
     "data": {
      "text/html": [
       "<table>\n",
       "<thead><tr><th scope=col>Barrio</th><th scope=col>Precio</th><th scope=col>Freq</th></tr></thead>\n",
       "<tbody>\n",
       "\t<tr><td>Abrantes                    </td><td> 46.00000                   </td><td>  3                         </td></tr>\n",
       "\t<tr><td>Acacias                     </td><td> 68.53571                   </td><td> 56                         </td></tr>\n",
       "\t<tr><td>Adelfas                     </td><td> 70.48148                   </td><td> 27                         </td></tr>\n",
       "\t<tr><td>Aeropuerto                  </td><td> 38.00000                   </td><td>  2                         </td></tr>\n",
       "\t<tr><td>Aguilas                     </td><td> 54.50000                   </td><td>  2                         </td></tr>\n",
       "\t<tr><td>Alameda de Osuna            </td><td>140.00000                   </td><td>  2                         </td></tr>\n",
       "\t<tr><td>Almagro                     </td><td> 99.86207                   </td><td> 87                         </td></tr>\n",
       "\t<tr><td>Almenara                    </td><td> 66.81818                   </td><td> 22                         </td></tr>\n",
       "\t<tr><td>Almendrales                 </td><td> 97.16667                   </td><td> 12                         </td></tr>\n",
       "\t<tr><td>Aluche                      </td><td> 55.88889                   </td><td>  9                         </td></tr>\n",
       "\t<tr><td>Ambroz                      </td><td> 34.50000                   </td><td>  2                         </td></tr>\n",
       "\t<tr><td>Apostol Santiago            </td><td> 73.25000                   </td><td>  4                         </td></tr>\n",
       "\t<tr><td>Arapiles                    </td><td> 70.04348                   </td><td> 92                         </td></tr>\n",
       "\t<tr><td>Aravaca                     </td><td> 66.00000                   </td><td>  6                         </td></tr>\n",
       "\t<tr><td>Arcos                       </td><td> 83.50000                   </td><td>  2                         </td></tr>\n",
       "\t<tr><td>Argüelles                   </td><td> 88.14062                   </td><td>128                         </td></tr>\n",
       "\t<tr><td>Atocha                      </td><td> 60.57143                   </td><td>  7                         </td></tr>\n",
       "\t<tr><td>Bellas Vistas               </td><td> 50.86486                   </td><td> 37                         </td></tr>\n",
       "\t<tr><td>Berruguete                  </td><td> 50.48148                   </td><td> 27                         </td></tr>\n",
       "\t<tr><td>Buenavista                  </td><td> 60.66667                   </td><td>  9                         </td></tr>\n",
       "\t<tr><td>Butarque                    </td><td> 42.00000                   </td><td>  1                         </td></tr>\n",
       "\t<tr><td>Campamento                  </td><td> 48.12500                   </td><td>  8                         </td></tr>\n",
       "\t<tr><td>Canillas                    </td><td> 80.20000                   </td><td> 10                         </td></tr>\n",
       "\t<tr><td>Cármenes                    </td><td> 78.80000                   </td><td>  5                         </td></tr>\n",
       "\t<tr><td>Casa de Campo               </td><td> 93.36111                   </td><td> 36                         </td></tr>\n",
       "\t<tr><td>Casco Histórico de Barajas  </td><td>157.00000                   </td><td>  6                         </td></tr>\n",
       "\t<tr><td>Casco Histórico de Vallecas </td><td> 57.08333                   </td><td> 12                         </td></tr>\n",
       "\t<tr><td>Casco Histórico de Vicálvaro</td><td> 82.83333                   </td><td>  6                         </td></tr>\n",
       "\t<tr><td>Castellana                  </td><td>140.68182                   </td><td> 66                         </td></tr>\n",
       "\t<tr><td>Castilla                    </td><td> 68.85000                   </td><td> 20                         </td></tr>\n",
       "\t<tr><td>⋮</td><td>⋮</td><td>⋮</td></tr>\n",
       "\t<tr><td>Puerta Bonita    </td><td> 78.45455        </td><td> 11              </td></tr>\n",
       "\t<tr><td>Puerta del Angel </td><td> 58.64615        </td><td> 65              </td></tr>\n",
       "\t<tr><td>Quintana         </td><td> 60.83333        </td><td> 12              </td></tr>\n",
       "\t<tr><td>Recoletos        </td><td>165.53279        </td><td>122              </td></tr>\n",
       "\t<tr><td>Rejas            </td><td> 64.66667        </td><td>  9              </td></tr>\n",
       "\t<tr><td>Rios Rosas       </td><td> 84.53846        </td><td> 52              </td></tr>\n",
       "\t<tr><td>Salvador         </td><td> 68.00000        </td><td>  4              </td></tr>\n",
       "\t<tr><td>San Andrés       </td><td> 50.33333        </td><td>  9              </td></tr>\n",
       "\t<tr><td>San Cristobal    </td><td> 56.50000        </td><td>  2              </td></tr>\n",
       "\t<tr><td>San Diego        </td><td> 44.33333        </td><td> 24              </td></tr>\n",
       "\t<tr><td>San Fermín       </td><td> 59.66667        </td><td>  6              </td></tr>\n",
       "\t<tr><td>San Isidro       </td><td> 79.03704        </td><td> 27              </td></tr>\n",
       "\t<tr><td>San Juan Bautista</td><td> 72.00000        </td><td> 11              </td></tr>\n",
       "\t<tr><td>San Pascual      </td><td> 78.40000        </td><td>  5              </td></tr>\n",
       "\t<tr><td>Santa Eugenia    </td><td> 47.00000        </td><td>  2              </td></tr>\n",
       "\t<tr><td>Simancas         </td><td> 62.50000        </td><td> 10              </td></tr>\n",
       "\t<tr><td>Sol              </td><td>100.99691        </td><td>648              </td></tr>\n",
       "\t<tr><td>Timón            </td><td> 72.20000        </td><td>  5              </td></tr>\n",
       "\t<tr><td>Trafalgar        </td><td> 94.07389        </td><td>203              </td></tr>\n",
       "\t<tr><td>Universidad      </td><td> 79.56585        </td><td>897              </td></tr>\n",
       "\t<tr><td>Valdeacederas    </td><td> 60.89474        </td><td> 19              </td></tr>\n",
       "\t<tr><td>Valdefuentes     </td><td> 79.50000        </td><td> 16              </td></tr>\n",
       "\t<tr><td>Valdemarín       </td><td> 70.50000        </td><td>  2              </td></tr>\n",
       "\t<tr><td>Valdezarza       </td><td> 53.33333        </td><td>  3              </td></tr>\n",
       "\t<tr><td>Vallehermoso     </td><td> 92.39394        </td><td> 33              </td></tr>\n",
       "\t<tr><td>Valverde         </td><td> 76.83333        </td><td> 12              </td></tr>\n",
       "\t<tr><td>Ventas           </td><td> 49.79167        </td><td> 24              </td></tr>\n",
       "\t<tr><td>Vinateros        </td><td>102.50000        </td><td>  2              </td></tr>\n",
       "\t<tr><td>Vista Alegre     </td><td> 62.90000        </td><td> 20              </td></tr>\n",
       "\t<tr><td>Zofío            </td><td> 55.66667        </td><td>  3              </td></tr>\n",
       "</tbody>\n",
       "</table>\n"
      ],
      "text/latex": [
       "\\begin{tabular}{r|lll}\n",
       " Barrio & Precio & Freq\\\\\n",
       "\\hline\n",
       "\t Abrantes                     &  46.00000                    &   3                         \\\\\n",
       "\t Acacias                      &  68.53571                    &  56                         \\\\\n",
       "\t Adelfas                      &  70.48148                    &  27                         \\\\\n",
       "\t Aeropuerto                   &  38.00000                    &   2                         \\\\\n",
       "\t Aguilas                      &  54.50000                    &   2                         \\\\\n",
       "\t Alameda de Osuna             & 140.00000                    &   2                         \\\\\n",
       "\t Almagro                      &  99.86207                    &  87                         \\\\\n",
       "\t Almenara                     &  66.81818                    &  22                         \\\\\n",
       "\t Almendrales                  &  97.16667                    &  12                         \\\\\n",
       "\t Aluche                       &  55.88889                    &   9                         \\\\\n",
       "\t Ambroz                       &  34.50000                    &   2                         \\\\\n",
       "\t Apostol Santiago             &  73.25000                    &   4                         \\\\\n",
       "\t Arapiles                     &  70.04348                    &  92                         \\\\\n",
       "\t Aravaca                      &  66.00000                    &   6                         \\\\\n",
       "\t Arcos                        &  83.50000                    &   2                         \\\\\n",
       "\t Argüelles                    &  88.14062                    & 128                         \\\\\n",
       "\t Atocha                       &  60.57143                    &   7                         \\\\\n",
       "\t Bellas Vistas                &  50.86486                    &  37                         \\\\\n",
       "\t Berruguete                   &  50.48148                    &  27                         \\\\\n",
       "\t Buenavista                   &  60.66667                    &   9                         \\\\\n",
       "\t Butarque                     &  42.00000                    &   1                         \\\\\n",
       "\t Campamento                   &  48.12500                    &   8                         \\\\\n",
       "\t Canillas                     &  80.20000                    &  10                         \\\\\n",
       "\t Cármenes                     &  78.80000                    &   5                         \\\\\n",
       "\t Casa de Campo                &  93.36111                    &  36                         \\\\\n",
       "\t Casco Histórico de Barajas   & 157.00000                    &   6                         \\\\\n",
       "\t Casco Histórico de Vallecas  &  57.08333                    &  12                         \\\\\n",
       "\t Casco Histórico de Vicálvaro &  82.83333                    &   6                         \\\\\n",
       "\t Castellana                   & 140.68182                    &  66                         \\\\\n",
       "\t Castilla                     &  68.85000                    &  20                         \\\\\n",
       "\t ⋮ & ⋮ & ⋮\\\\\n",
       "\t Puerta Bonita     &  78.45455         &  11              \\\\\n",
       "\t Puerta del Angel  &  58.64615         &  65              \\\\\n",
       "\t Quintana          &  60.83333         &  12              \\\\\n",
       "\t Recoletos         & 165.53279         & 122              \\\\\n",
       "\t Rejas             &  64.66667         &   9              \\\\\n",
       "\t Rios Rosas        &  84.53846         &  52              \\\\\n",
       "\t Salvador          &  68.00000         &   4              \\\\\n",
       "\t San Andrés        &  50.33333         &   9              \\\\\n",
       "\t San Cristobal     &  56.50000         &   2              \\\\\n",
       "\t San Diego         &  44.33333         &  24              \\\\\n",
       "\t San Fermín        &  59.66667         &   6              \\\\\n",
       "\t San Isidro        &  79.03704         &  27              \\\\\n",
       "\t San Juan Bautista &  72.00000         &  11              \\\\\n",
       "\t San Pascual       &  78.40000         &   5              \\\\\n",
       "\t Santa Eugenia     &  47.00000         &   2              \\\\\n",
       "\t Simancas          &  62.50000         &  10              \\\\\n",
       "\t Sol               & 100.99691         & 648              \\\\\n",
       "\t Timón             &  72.20000         &   5              \\\\\n",
       "\t Trafalgar         &  94.07389         & 203              \\\\\n",
       "\t Universidad       &  79.56585         & 897              \\\\\n",
       "\t Valdeacederas     &  60.89474         &  19              \\\\\n",
       "\t Valdefuentes      &  79.50000         &  16              \\\\\n",
       "\t Valdemarín        &  70.50000         &   2              \\\\\n",
       "\t Valdezarza        &  53.33333         &   3              \\\\\n",
       "\t Vallehermoso      &  92.39394         &  33              \\\\\n",
       "\t Valverde          &  76.83333         &  12              \\\\\n",
       "\t Ventas            &  49.79167         &  24              \\\\\n",
       "\t Vinateros         & 102.50000         &   2              \\\\\n",
       "\t Vista Alegre      &  62.90000         &  20              \\\\\n",
       "\t Zofío             &  55.66667         &   3              \\\\\n",
       "\\end{tabular}\n"
      ],
      "text/markdown": [
       "\n",
       "| Barrio | Precio | Freq |\n",
       "|---|---|---|\n",
       "| Abrantes                     |  46.00000                    |   3                          |\n",
       "| Acacias                      |  68.53571                    |  56                          |\n",
       "| Adelfas                      |  70.48148                    |  27                          |\n",
       "| Aeropuerto                   |  38.00000                    |   2                          |\n",
       "| Aguilas                      |  54.50000                    |   2                          |\n",
       "| Alameda de Osuna             | 140.00000                    |   2                          |\n",
       "| Almagro                      |  99.86207                    |  87                          |\n",
       "| Almenara                     |  66.81818                    |  22                          |\n",
       "| Almendrales                  |  97.16667                    |  12                          |\n",
       "| Aluche                       |  55.88889                    |   9                          |\n",
       "| Ambroz                       |  34.50000                    |   2                          |\n",
       "| Apostol Santiago             |  73.25000                    |   4                          |\n",
       "| Arapiles                     |  70.04348                    |  92                          |\n",
       "| Aravaca                      |  66.00000                    |   6                          |\n",
       "| Arcos                        |  83.50000                    |   2                          |\n",
       "| Argüelles                    |  88.14062                    | 128                          |\n",
       "| Atocha                       |  60.57143                    |   7                          |\n",
       "| Bellas Vistas                |  50.86486                    |  37                          |\n",
       "| Berruguete                   |  50.48148                    |  27                          |\n",
       "| Buenavista                   |  60.66667                    |   9                          |\n",
       "| Butarque                     |  42.00000                    |   1                          |\n",
       "| Campamento                   |  48.12500                    |   8                          |\n",
       "| Canillas                     |  80.20000                    |  10                          |\n",
       "| Cármenes                     |  78.80000                    |   5                          |\n",
       "| Casa de Campo                |  93.36111                    |  36                          |\n",
       "| Casco Histórico de Barajas   | 157.00000                    |   6                          |\n",
       "| Casco Histórico de Vallecas  |  57.08333                    |  12                          |\n",
       "| Casco Histórico de Vicálvaro |  82.83333                    |   6                          |\n",
       "| Castellana                   | 140.68182                    |  66                          |\n",
       "| Castilla                     |  68.85000                    |  20                          |\n",
       "| ⋮ | ⋮ | ⋮ |\n",
       "| Puerta Bonita     |  78.45455         |  11               |\n",
       "| Puerta del Angel  |  58.64615         |  65               |\n",
       "| Quintana          |  60.83333         |  12               |\n",
       "| Recoletos         | 165.53279         | 122               |\n",
       "| Rejas             |  64.66667         |   9               |\n",
       "| Rios Rosas        |  84.53846         |  52               |\n",
       "| Salvador          |  68.00000         |   4               |\n",
       "| San Andrés        |  50.33333         |   9               |\n",
       "| San Cristobal     |  56.50000         |   2               |\n",
       "| San Diego         |  44.33333         |  24               |\n",
       "| San Fermín        |  59.66667         |   6               |\n",
       "| San Isidro        |  79.03704         |  27               |\n",
       "| San Juan Bautista |  72.00000         |  11               |\n",
       "| San Pascual       |  78.40000         |   5               |\n",
       "| Santa Eugenia     |  47.00000         |   2               |\n",
       "| Simancas          |  62.50000         |  10               |\n",
       "| Sol               | 100.99691         | 648               |\n",
       "| Timón             |  72.20000         |   5               |\n",
       "| Trafalgar         |  94.07389         | 203               |\n",
       "| Universidad       |  79.56585         | 897               |\n",
       "| Valdeacederas     |  60.89474         |  19               |\n",
       "| Valdefuentes      |  79.50000         |  16               |\n",
       "| Valdemarín        |  70.50000         |   2               |\n",
       "| Valdezarza        |  53.33333         |   3               |\n",
       "| Vallehermoso      |  92.39394         |  33               |\n",
       "| Valverde          |  76.83333         |  12               |\n",
       "| Ventas            |  49.79167         |  24               |\n",
       "| Vinateros         | 102.50000         |   2               |\n",
       "| Vista Alegre      |  62.90000         |  20               |\n",
       "| Zofío             |  55.66667         |   3               |\n",
       "\n"
      ],
      "text/plain": [
       "    Barrio                       Precio    Freq\n",
       "1   Abrantes                      46.00000   3 \n",
       "2   Acacias                       68.53571  56 \n",
       "3   Adelfas                       70.48148  27 \n",
       "4   Aeropuerto                    38.00000   2 \n",
       "5   Aguilas                       54.50000   2 \n",
       "6   Alameda de Osuna             140.00000   2 \n",
       "7   Almagro                       99.86207  87 \n",
       "8   Almenara                      66.81818  22 \n",
       "9   Almendrales                   97.16667  12 \n",
       "10  Aluche                        55.88889   9 \n",
       "11  Ambroz                        34.50000   2 \n",
       "12  Apostol Santiago              73.25000   4 \n",
       "13  Arapiles                      70.04348  92 \n",
       "14  Aravaca                       66.00000   6 \n",
       "15  Arcos                         83.50000   2 \n",
       "16  Argüelles                     88.14062 128 \n",
       "17  Atocha                        60.57143   7 \n",
       "18  Bellas Vistas                 50.86486  37 \n",
       "19  Berruguete                    50.48148  27 \n",
       "20  Buenavista                    60.66667   9 \n",
       "21  Butarque                      42.00000   1 \n",
       "22  Campamento                    48.12500   8 \n",
       "23  Canillas                      80.20000  10 \n",
       "24  Cármenes                      78.80000   5 \n",
       "25  Casa de Campo                 93.36111  36 \n",
       "26  Casco Histórico de Barajas   157.00000   6 \n",
       "27  Casco Histórico de Vallecas   57.08333  12 \n",
       "28  Casco Histórico de Vicálvaro  82.83333   6 \n",
       "29  Castellana                   140.68182  66 \n",
       "30  Castilla                      68.85000  20 \n",
       "⋮   ⋮                            ⋮         ⋮   \n",
       "87  Puerta Bonita                 78.45455  11 \n",
       "88  Puerta del Angel              58.64615  65 \n",
       "89  Quintana                      60.83333  12 \n",
       "90  Recoletos                    165.53279 122 \n",
       "91  Rejas                         64.66667   9 \n",
       "92  Rios Rosas                    84.53846  52 \n",
       "93  Salvador                      68.00000   4 \n",
       "94  San Andrés                    50.33333   9 \n",
       "95  San Cristobal                 56.50000   2 \n",
       "96  San Diego                     44.33333  24 \n",
       "97  San Fermín                    59.66667   6 \n",
       "98  San Isidro                    79.03704  27 \n",
       "99  San Juan Bautista             72.00000  11 \n",
       "100 San Pascual                   78.40000   5 \n",
       "101 Santa Eugenia                 47.00000   2 \n",
       "102 Simancas                      62.50000  10 \n",
       "103 Sol                          100.99691 648 \n",
       "104 Timón                         72.20000   5 \n",
       "105 Trafalgar                     94.07389 203 \n",
       "106 Universidad                   79.56585 897 \n",
       "107 Valdeacederas                 60.89474  19 \n",
       "108 Valdefuentes                  79.50000  16 \n",
       "109 Valdemarín                    70.50000   2 \n",
       "110 Valdezarza                    53.33333   3 \n",
       "111 Vallehermoso                  92.39394  33 \n",
       "112 Valverde                      76.83333  12 \n",
       "113 Ventas                        49.79167  24 \n",
       "114 Vinateros                    102.50000   2 \n",
       "115 Vista Alegre                  62.90000  20 \n",
       "116 Zofío                         55.66667   3 "
      ]
     },
     "metadata": {},
     "output_type": "display_data"
    }
   ],
   "source": [
    "paste (\"Dataframe con el nombre del barrio, el precio y el número de entradas de todos los barrios\")\n",
    "dfbarrios_ap_enteros = data.frame (table(airbnb_entireap$Barrio))\n",
    "nombres = c(\"Barrio\", \"Freq\")\n",
    "colnames(dfbarrios_ap_enteros)= nombres\n",
    "dfbarrios_precio = merge (df1_ordenado,dfbarrios_ap_enteros )\n",
    "dfbarrios_precio"
   ]
  },
  {
   "cell_type": "markdown",
   "metadata": {},
   "source": [
    "Partiendo del dataframe anterior, muestra los 5 barrios con mayor precio, pero que tengan más de 100 entradas de alquiler."
   ]
  },
  {
   "cell_type": "code",
   "execution_count": 344,
   "metadata": {},
   "outputs": [
    {
     "data": {
      "text/html": [
       "<table>\n",
       "<thead><tr><th></th><th scope=col>Barrio</th><th scope=col>Precio</th><th scope=col>Freq</th></tr></thead>\n",
       "<tbody>\n",
       "\t<tr><th scope=row>90</th><td>Recoletos</td><td>165.53279</td><td>122      </td></tr>\n",
       "\t<tr><th scope=row>50</th><td>Goya     </td><td>112.16393</td><td>122      </td></tr>\n",
       "\t<tr><th scope=row>103</th><td>Sol      </td><td>100.99691</td><td>648      </td></tr>\n",
       "\t<tr><th scope=row>57</th><td>Justicia </td><td> 98.82099</td><td>486      </td></tr>\n",
       "\t<tr><th scope=row>105</th><td>Trafalgar</td><td> 94.07389</td><td>203      </td></tr>\n",
       "</tbody>\n",
       "</table>\n"
      ],
      "text/latex": [
       "\\begin{tabular}{r|lll}\n",
       "  & Barrio & Precio & Freq\\\\\n",
       "\\hline\n",
       "\t90 & Recoletos & 165.53279 & 122      \\\\\n",
       "\t50 & Goya      & 112.16393 & 122      \\\\\n",
       "\t103 & Sol       & 100.99691 & 648      \\\\\n",
       "\t57 & Justicia  &  98.82099 & 486      \\\\\n",
       "\t105 & Trafalgar &  94.07389 & 203      \\\\\n",
       "\\end{tabular}\n"
      ],
      "text/markdown": [
       "\n",
       "| <!--/--> | Barrio | Precio | Freq |\n",
       "|---|---|---|---|\n",
       "| 90 | Recoletos | 165.53279 | 122       |\n",
       "| 50 | Goya      | 112.16393 | 122       |\n",
       "| 103 | Sol       | 100.99691 | 648       |\n",
       "| 57 | Justicia  |  98.82099 | 486       |\n",
       "| 105 | Trafalgar |  94.07389 | 203       |\n",
       "\n"
      ],
      "text/plain": [
       "    Barrio    Precio    Freq\n",
       "90  Recoletos 165.53279 122 \n",
       "50  Goya      112.16393 122 \n",
       "103 Sol       100.99691 648 \n",
       "57  Justicia   98.82099 486 \n",
       "105 Trafalgar  94.07389 203 "
      ]
     },
     "metadata": {},
     "output_type": "display_data"
    },
    {
     "data": {
      "text/html": [
       "<span style=white-space:pre-wrap>'Los 5 barrios con mayor precio y con más de 100 entradas en alquiler son:  Recoletos, Goya, Sol, Justicia, Trafalgar'</span>"
      ],
      "text/latex": [
       "'Los 5 barrios con mayor precio y con más de 100 entradas en alquiler son:  Recoletos, Goya, Sol, Justicia, Trafalgar'"
      ],
      "text/markdown": [
       "<span style=white-space:pre-wrap>'Los 5 barrios con mayor precio y con más de 100 entradas en alquiler son:  Recoletos, Goya, Sol, Justicia, Trafalgar'</span>"
      ],
      "text/plain": [
       "[1] \"Los 5 barrios con mayor precio y con más de 100 entradas en alquiler son:  Recoletos, Goya, Sol, Justicia, Trafalgar\""
      ]
     },
     "metadata": {},
     "output_type": "display_data"
    }
   ],
   "source": [
    "dfpar=dfbarrios_precio [dfbarrios_precio$Freq>100, ]\n",
    "dfor = dfpar [order(-dfpar$Precio),]\n",
    "head(dfor,5)\n",
    "paste (\"Los 5 barrios con mayor precio y con más de 100 entradas en alquiler son: \", paste (dfor$Barrio[1:5], \n",
    "        collapse = \", \" ))"
   ]
  },
  {
   "cell_type": "markdown",
   "metadata": {},
   "source": [
    "Dibuja el diagrama de densidad de distribución de los diferentes precios"
   ]
  },
  {
   "cell_type": "code",
   "execution_count": 345,
   "metadata": {},
   "outputs": [
    {
     "name": "stderr",
     "output_type": "stream",
     "text": [
      "Warning message:\n",
      "“Removed 18 rows containing non-finite values (stat_density).”"
     ]
    },
    {
     "data": {
      "text/plain": [
       "$title\n",
       "[1] \"Comparatiba distribución de precios en los 5 barrios\"\n",
       "\n",
       "attr(,\"class\")\n",
       "[1] \"labels\""
      ]
     },
     "metadata": {},
     "output_type": "display_data"
    },
    {
     "data": {
      "text/plain": [
       "$x\n",
       "[1] \"Precio\"\n",
       "\n",
       "attr(,\"class\")\n",
       "[1] \"labels\""
      ]
     },
     "metadata": {},
     "output_type": "display_data"
    },
    {
     "data": {
      "image/png": "[encoded data removed]",
      "text/plain": [
       "plot without title"
      ]
     },
     "metadata": {},
     "output_type": "display_data"
    }
   ],
   "source": [
    "library(ggplot2)\n",
    "options(repr.plot.height=4,repr.plot.width=6)\n",
    "df_sinNA = airbnb_entireap [!is.na (airbnb_entireap$Precio), ]  #Quito los NA\n",
    "df_sinNAniCeros = df_sinNA [df_sinNA$Precio!=0, ]   #Quito los precio 0\n",
    "\n",
    "\n",
    "#Comparativa de los 5 barrios\n",
    "barrios = dfor$Barrio[1:5]\n",
    "dfprecios = df_sinNAniCeros[is.element (df_sinNAniCeros$Barrio, barrios), ] \n",
    "\n",
    " ggplot (data=dfprecios, aes(x=Precio, color=Barrio))+geom_density (bw=6) +\n",
    "       scale_x_continuous(breaks = seq(0,400,50), lim=c(0,400))\n",
    "       ggtitle(\"Comparatiba distribución de precios en los 5 barrios\")\n",
    "       xlab(\"Precio\")   \n",
    "\n",
    "\n"
   ]
  },
  {
   "cell_type": "code",
   "execution_count": 346,
   "metadata": {},
   "outputs": [
    {
     "name": "stderr",
     "output_type": "stream",
     "text": [
      "Warning message:\n",
      "“Removed 13 rows containing non-finite values (stat_density).”"
     ]
    },
    {
     "data": {
      "text/plain": [
       "$x\n",
       "[1] \"Precio\"\n",
       "\n",
       "attr(,\"class\")\n",
       "[1] \"labels\""
      ]
     },
     "metadata": {},
     "output_type": "display_data"
    },
    {
     "name": "stderr",
     "output_type": "stream",
     "text": [
      "Warning message:\n",
      "“Removed 3 rows containing non-finite values (stat_density).”"
     ]
    },
    {
     "data": {
      "image/png": "[encoded data removed]",
      "text/plain": [
       "plot without title"
      ]
     },
     "metadata": {},
     "output_type": "display_data"
    },
    {
     "data": {
      "text/plain": [
       "$x\n",
       "[1] \"Precio\"\n",
       "\n",
       "attr(,\"class\")\n",
       "[1] \"labels\""
      ]
     },
     "metadata": {},
     "output_type": "display_data"
    },
    {
     "data": {
      "image/png": "[encoded data removed]",
      "text/plain": [
       "plot without title"
      ]
     },
     "metadata": {},
     "output_type": "display_data"
    }
   ],
   "source": [
    "#Vemos la gráfica por barrio\n",
    "\n",
    "\n",
    "dfRecoletos=subset(df_sinNAniCeros,Barrio==\"Recoletos\")\n",
    "dfGoya=subset(df_sinNAniCeros,Barrio==\"Goya\")\n",
    "dfSol=subset(df_sinNAniCeros,Barrio==\"Sol\")\n",
    "dfTrafalgar=subset(df_sinNAniCeros,Barrio==\"Trafalgar\")\n",
    "dfJusticia=subset(df_sinNAniCeros,Barrio==\"Justicia\")\n",
    "\n",
    "\n",
    "\n",
    "ggplot (data=dfRecoletos, aes(x=Precio))+geom_density (bw=6) +\n",
    "       scale_x_continuous(breaks = seq(0,300,50), lim=c(0,300)) +\n",
    "       ggtitle(\"Distribución de precio de los apartamentos en Recoletos\")\n",
    "      xlab(\"Precio\")   \n",
    "\n",
    "ggplot (data=dfGoya, aes(x=Precio))+geom_density (bw=6) +\n",
    "       scale_x_continuous(breaks = seq(0,300,50), lim=c(0,300)) +\n",
    "       ggtitle(\"Distribución de precio de los apartamentos en Goya\")\n",
    "      xlab(\"Precio\")   "
   ]
  },
  {
   "cell_type": "code",
   "execution_count": 347,
   "metadata": {},
   "outputs": [
    {
     "name": "stderr",
     "output_type": "stream",
     "text": [
      "Warning message:\n",
      "“Removed 6 rows containing non-finite values (stat_density).”"
     ]
    },
    {
     "data": {
      "text/plain": [
       "$x\n",
       "[1] \"Precio\"\n",
       "\n",
       "attr(,\"class\")\n",
       "[1] \"labels\""
      ]
     },
     "metadata": {},
     "output_type": "display_data"
    },
    {
     "name": "stderr",
     "output_type": "stream",
     "text": [
      "Warning message:\n",
      "“Removed 2 rows containing non-finite values (stat_density).”"
     ]
    },
    {
     "data": {
      "image/png": "[encoded data removed]",
      "text/plain": [
       "plot without title"
      ]
     },
     "metadata": {},
     "output_type": "display_data"
    },
    {
     "data": {
      "text/plain": [
       "$x\n",
       "[1] \"Precio\"\n",
       "\n",
       "attr(,\"class\")\n",
       "[1] \"labels\""
      ]
     },
     "metadata": {},
     "output_type": "display_data"
    },
    {
     "data": {
      "image/png": "[encoded data removed]",
      "text/plain": [
       "plot without title"
      ]
     },
     "metadata": {},
     "output_type": "display_data"
    }
   ],
   "source": [
    "ggplot (data=dfSol, aes(x=Precio))+geom_density (bw=6) +\n",
    "       scale_x_continuous(breaks = seq(0,300,50), lim=c(0,300)) +\n",
    "       ggtitle(\"Distribución de precio de los apartamentos en Sol\")\n",
    "      xlab(\"Precio\")   \n",
    "\n",
    "ggplot (data=dfTrafalgar, aes(x=Precio))+geom_density (bw=6) +\n",
    "       scale_x_continuous(breaks = seq(0,300,50), lim=c(0,300)) +\n",
    "       ggtitle(\"Distribución de precio de los apartamentos en Trafalgar\")\n",
    "      xlab(\"Precio\")   "
   ]
  },
  {
   "cell_type": "code",
   "execution_count": 348,
   "metadata": {},
   "outputs": [
    {
     "name": "stderr",
     "output_type": "stream",
     "text": [
      "Warning message:\n",
      "“Removed 10 rows containing non-finite values (stat_density).”"
     ]
    },
    {
     "data": {
      "text/plain": [
       "$x\n",
       "[1] \"Precio\"\n",
       "\n",
       "attr(,\"class\")\n",
       "[1] \"labels\""
      ]
     },
     "metadata": {},
     "output_type": "display_data"
    },
    {
     "data": {
      "image/png": "[encoded data removed]",
      "text/plain": [
       "plot without title"
      ]
     },
     "metadata": {},
     "output_type": "display_data"
    }
   ],
   "source": [
    "ggplot (data=dfJusticia, aes(x=Precio))+geom_density (bw=6) +\n",
    "       scale_x_continuous(breaks = seq(0,300,50), lim=c(0,300)) +\n",
    "       ggtitle(\"Distribución de precio de los apartamentos en Justicia\")\n",
    "      xlab(\"Precio\")   \n"
   ]
  },
  {
   "cell_type": "markdown",
   "metadata": {},
   "source": [
    "Calcula el tamaño medio, en metros cuadrados, para los 5 barrios anteriores y muestralo en el mismo dataframe junto con el precio y número de entradas"
   ]
  },
  {
   "cell_type": "code",
   "execution_count": 349,
   "metadata": {},
   "outputs": [
    {
     "data": {
      "text/html": [
       "<table>\n",
       "<thead><tr><th scope=col>Barrio</th><th scope=col>Precio</th><th scope=col>Freq</th><th scope=col>MetrosCuadrados</th></tr></thead>\n",
       "<tbody>\n",
       "\t<tr><td>Goya     </td><td>112.16393</td><td>122      </td><td>51.68504 </td></tr>\n",
       "\t<tr><td>Justicia </td><td> 98.82099</td><td>486      </td><td>30.30960 </td></tr>\n",
       "\t<tr><td>Recoletos</td><td>165.53279</td><td>122      </td><td>26.66316 </td></tr>\n",
       "\t<tr><td>Sol      </td><td>100.99691</td><td>648      </td><td>44.81810 </td></tr>\n",
       "\t<tr><td>Trafalgar</td><td> 94.07389</td><td>203      </td><td>29.30426 </td></tr>\n",
       "</tbody>\n",
       "</table>\n"
      ],
      "text/latex": [
       "\\begin{tabular}{r|llll}\n",
       " Barrio & Precio & Freq & MetrosCuadrados\\\\\n",
       "\\hline\n",
       "\t Goya      & 112.16393 & 122       & 51.68504 \\\\\n",
       "\t Justicia  &  98.82099 & 486       & 30.30960 \\\\\n",
       "\t Recoletos & 165.53279 & 122       & 26.66316 \\\\\n",
       "\t Sol       & 100.99691 & 648       & 44.81810 \\\\\n",
       "\t Trafalgar &  94.07389 & 203       & 29.30426 \\\\\n",
       "\\end{tabular}\n"
      ],
      "text/markdown": [
       "\n",
       "| Barrio | Precio | Freq | MetrosCuadrados |\n",
       "|---|---|---|---|\n",
       "| Goya      | 112.16393 | 122       | 51.68504  |\n",
       "| Justicia  |  98.82099 | 486       | 30.30960  |\n",
       "| Recoletos | 165.53279 | 122       | 26.66316  |\n",
       "| Sol       | 100.99691 | 648       | 44.81810  |\n",
       "| Trafalgar |  94.07389 | 203       | 29.30426  |\n",
       "\n"
      ],
      "text/plain": [
       "  Barrio    Precio    Freq MetrosCuadrados\n",
       "1 Goya      112.16393 122  51.68504       \n",
       "2 Justicia   98.82099 486  30.30960       \n",
       "3 Recoletos 165.53279 122  26.66316       \n",
       "4 Sol       100.99691 648  44.81810       \n",
       "5 Trafalgar  94.07389 203  29.30426       "
      ]
     },
     "metadata": {},
     "output_type": "display_data"
    }
   ],
   "source": [
    "barrios = dfor$Barrio[1:5]   #Recojo los 5 barrios anteriores\n",
    "df1=aggregate(MetrosCuadrados~Barrio, airbnb_entireap, mean, na.rm=TRUE  )   #aplico la media a la columna metros \n",
    "                                                                           #cuadrados en función de barrio\n",
    "df1 = df1[is.element (df1$Barrio, barrios), ]     #Me quedo donde estén los 5 barrios\n",
    "dfcontama=merge (dfpar, df1 )\n",
    "dfcontama\n"
   ]
  },
  {
   "cell_type": "markdown",
   "metadata": {},
   "source": [
    "Dibuja el diagrama de densidad de distribución de los diferentes tamaños de apartamentos"
   ]
  },
  {
   "cell_type": "code",
   "execution_count": 350,
   "metadata": {},
   "outputs": [
    {
     "data": {
      "text/plain": [
       "$x\n",
       "[1] \"MetrosCuadrados\"\n",
       "\n",
       "attr(,\"class\")\n",
       "[1] \"labels\""
      ]
     },
     "metadata": {},
     "output_type": "display_data"
    },
    {
     "data": {
      "image/png": "[encoded data removed]",
      "text/plain": [
       "plot without title"
      ]
     },
     "metadata": {},
     "output_type": "display_data"
    },
    {
     "data": {
      "text/plain": [
       "$x\n",
       "[1] \"MetrosCuadrados\"\n",
       "\n",
       "attr(,\"class\")\n",
       "[1] \"labels\""
      ]
     },
     "metadata": {},
     "output_type": "display_data"
    },
    {
     "data": {
      "image/png": "[encoded data removed]",
      "text/plain": [
       "plot without title"
      ]
     },
     "metadata": {},
     "output_type": "display_data"
    }
   ],
   "source": [
    "library(ggplot2)\n",
    "options(repr.plot.height=4,repr.plot.width=6)\n",
    "df_sinNA = airbnb_entireap [!is.na (airbnb_entireap$MetrosCuadrados), ]  #Quito los NA\n",
    "df_sinNAniCeros = df_sinNA [df_sinNA$MetrosCuadrados!=0, ]\n",
    "dfbarrios=df_sinNAniCeros [is.element (df_sinNAniCeros$Barrio, barrios), ]\n",
    "\n",
    "dfRecoletos=subset(df_sinNAniCeros,Barrio==\"Recoletos\")\n",
    "dfGoya=subset(df_sinNAniCeros,Barrio==\"Goya\")\n",
    "dfSol=subset(df_sinNAniCeros,Barrio==\"Sol\")\n",
    "dfTrafalgar=subset(df_sinNAniCeros,Barrio==\"Trafalgar\")\n",
    "dfJusticia=subset(df_sinNAniCeros,Barrio==\"Justicia\")\n",
    "\n",
    "ggplot (data=dfRecoletos, aes(x=MetrosCuadrados))+geom_density (bw=4) +\n",
    "       scale_x_continuous(breaks = seq(0,180,20), lim=c(0,180)) +\n",
    "       ggtitle(\"Distribución de tamaño de los apartamentos en Recoletos\")\n",
    "      xlab(\"MetrosCuadrados\")   \n",
    "\n",
    "\n",
    "ggplot (data=dfGoya, aes(x=MetrosCuadrados))+geom_density (bw=4) +\n",
    "       scale_x_continuous(breaks = seq(0,180,20), lim=c(0,180)) +\n",
    "       ggtitle(\"Distribución de tamaño de los apartamentos en Goya\")\n",
    "      xlab(\"MetrosCuadrados\")   \n",
    "\n",
    "\n",
    "\n",
    "\n"
   ]
  },
  {
   "cell_type": "code",
   "execution_count": 351,
   "metadata": {},
   "outputs": [
    {
     "name": "stderr",
     "output_type": "stream",
     "text": [
      "Warning message:\n",
      "“Removed 2 rows containing non-finite values (stat_density).”"
     ]
    },
    {
     "data": {
      "text/plain": [
       "$x\n",
       "[1] \"MetrosCuadrados\"\n",
       "\n",
       "attr(,\"class\")\n",
       "[1] \"labels\""
      ]
     },
     "metadata": {},
     "output_type": "display_data"
    },
    {
     "data": {
      "image/png": "[encoded data removed]",
      "text/plain": [
       "plot without title"
      ]
     },
     "metadata": {},
     "output_type": "display_data"
    },
    {
     "data": {
      "text/plain": [
       "$x\n",
       "[1] \"MetrosCuadrados\"\n",
       "\n",
       "attr(,\"class\")\n",
       "[1] \"labels\""
      ]
     },
     "metadata": {},
     "output_type": "display_data"
    },
    {
     "data": {
      "image/png": "[encoded data removed]",
      "text/plain": [
       "plot without title"
      ]
     },
     "metadata": {},
     "output_type": "display_data"
    }
   ],
   "source": [
    "ggplot (data=dfSol, aes(x=MetrosCuadrados))+geom_density (bw=4) +\n",
    "       scale_x_continuous(breaks = seq(0,180,20), lim=c(0,180)) +\n",
    "       ggtitle(\"Distribución de tamaño de los apartamentos en Sol\")\n",
    "      xlab(\"MetrosCuadrados\")   \n",
    "\n",
    "\n",
    "ggplot (data=dfTrafalgar, aes(x=MetrosCuadrados))+geom_density (bw=4) +\n",
    "       scale_x_continuous(breaks = seq(0,180,20), lim=c(0,180)) +\n",
    "       ggtitle(\"Distribución de tamaño de los apartamentos en Trafalgar\")\n",
    "      xlab(\"MetrosCuadrados\")   "
   ]
  },
  {
   "cell_type": "code",
   "execution_count": 352,
   "metadata": {},
   "outputs": [
    {
     "data": {
      "text/plain": [
       "$x\n",
       "[1] \"MetrosCuadrados\"\n",
       "\n",
       "attr(,\"class\")\n",
       "[1] \"labels\""
      ]
     },
     "metadata": {},
     "output_type": "display_data"
    },
    {
     "name": "stderr",
     "output_type": "stream",
     "text": [
      "Warning message:\n",
      "“Removed 2 rows containing non-finite values (stat_density).”"
     ]
    },
    {
     "data": {
      "image/png": "[encoded data removed]",
      "text/plain": [
       "plot without title"
      ]
     },
     "metadata": {},
     "output_type": "display_data"
    },
    {
     "data": {
      "text/plain": [
       "$title\n",
       "[1] \"Comparatiba distribución de tamaño de los apartamentos en los 5 barrios\"\n",
       "\n",
       "attr(,\"class\")\n",
       "[1] \"labels\""
      ]
     },
     "metadata": {},
     "output_type": "display_data"
    },
    {
     "data": {
      "text/plain": [
       "$x\n",
       "[1] \"MetrosCuadrados\"\n",
       "\n",
       "attr(,\"class\")\n",
       "[1] \"labels\""
      ]
     },
     "metadata": {},
     "output_type": "display_data"
    },
    {
     "data": {
      "image/png": "[encoded data removed]",
      "text/plain": [
       "plot without title"
      ]
     },
     "metadata": {},
     "output_type": "display_data"
    }
   ],
   "source": [
    "ggplot (data=dfJusticia, aes(x=MetrosCuadrados))+geom_density (bw=4) +\n",
    "       scale_x_continuous(breaks = seq(0,180,20), lim=c(0,180)) +\n",
    "       ggtitle(\"Distribución de tamaño de los apartamentos en Justicia\")\n",
    "      xlab(\"MetrosCuadrados\")   \n",
    "\n",
    "\n",
    "library(ggplot2)\n",
    "options(repr.plot.height=4,repr.plot.width=6)\n",
    "ggplot (data=dfbarrios, aes(x=MetrosCuadrados, color=Barrio))+geom_density (bw=4) +\n",
    "       scale_x_continuous(breaks = seq(0,180,20), lim=c(0,180))\n",
    "       ggtitle(\"Comparatiba distribución de tamaño de los apartamentos en los 5 barrios\")\n",
    "      xlab(\"MetrosCuadrados\")   "
   ]
  },
  {
   "cell_type": "markdown",
   "metadata": {},
   "source": [
    "Esta claro que las medias de cada uno de estos 5 barrios parecen ser diferentes, pero ¿son estadísticamente diferentes?\n",
    "¿Que test habría que usar para comprobarlo?"
   ]
  },
  {
   "cell_type": "code",
   "execution_count": 353,
   "metadata": {},
   "outputs": [
    {
     "data": {
      "text/html": [
       "<span style=white-space:pre-wrap>'Recoletos p-value =  0'</span>"
      ],
      "text/latex": [
       "'Recoletos p-value =  0'"
      ],
      "text/markdown": [
       "<span style=white-space:pre-wrap>'Recoletos p-value =  0'</span>"
      ],
      "text/plain": [
       "[1] \"Recoletos p-value =  0\""
      ]
     },
     "metadata": {},
     "output_type": "display_data"
    },
    {
     "data": {
      "text/html": [
       "<span style=white-space:pre-wrap>'Sol p-value =  0.00776094999196712'</span>"
      ],
      "text/latex": [
       "'Sol p-value =  0.00776094999196712'"
      ],
      "text/markdown": [
       "<span style=white-space:pre-wrap>'Sol p-value =  0.00776094999196712'</span>"
      ],
      "text/plain": [
       "[1] \"Sol p-value =  0.00776094999196712\""
      ]
     },
     "metadata": {},
     "output_type": "display_data"
    },
    {
     "data": {
      "text/html": [
       "<span style=white-space:pre-wrap>'Trafalgar p-value =  0.573028128597975'</span>"
      ],
      "text/latex": [
       "'Trafalgar p-value =  0.573028128597975'"
      ],
      "text/markdown": [
       "<span style=white-space:pre-wrap>'Trafalgar p-value =  0.573028128597975'</span>"
      ],
      "text/plain": [
       "[1] \"Trafalgar p-value =  0.573028128597975\""
      ]
     },
     "metadata": {},
     "output_type": "display_data"
    },
    {
     "data": {
      "text/html": [
       "<span style=white-space:pre-wrap>'Justicia p-value =  0.122824419071738'</span>"
      ],
      "text/latex": [
       "'Justicia p-value =  0.122824419071738'"
      ],
      "text/markdown": [
       "<span style=white-space:pre-wrap>'Justicia p-value =  0.122824419071738'</span>"
      ],
      "text/plain": [
       "[1] \"Justicia p-value =  0.122824419071738\""
      ]
     },
     "metadata": {},
     "output_type": "display_data"
    },
    {
     "data": {
      "text/html": [
       "'Para Goya solo nos salen 2 valores diferentes de NA y 0 así que no le puedo hacer el test de Shapiro'"
      ],
      "text/latex": [
       "'Para Goya solo nos salen 2 valores diferentes de NA y 0 así que no le puedo hacer el test de Shapiro'"
      ],
      "text/markdown": [
       "'Para Goya solo nos salen 2 valores diferentes de NA y 0 así que no le puedo hacer el test de Shapiro'"
      ],
      "text/plain": [
       "[1] \"Para Goya solo nos salen 2 valores diferentes de NA y 0 así que no le puedo hacer el test de Shapiro\""
      ]
     },
     "metadata": {},
     "output_type": "display_data"
    }
   ],
   "source": [
    "#Comprobamos si los datos siguen una distribución normal para ver que tipo de test aplicamos\n",
    "#Para ello aplicamos el test de Shapiro. \n",
    "\n",
    "paste (\"Recoletos p-value = \", shapiro.test (dfRecoletos$MetrosCuadrados)$p.value)\n",
    "paste (\"Sol p-value = \", shapiro.test (dfSol$MetrosCuadrados)$p.value)\n",
    "paste (\"Trafalgar p-value = \", shapiro.test (dfTrafalgar$MetrosCuadrados)$p.value)\n",
    "paste (\"Justicia p-value = \", shapiro.test (dfJusticia$MetrosCuadrados)$p.value)\n",
    "#paste (\"Goya p-value = \", shapiro.test (dfGoya$MetrosCuadrados)$p.value)\n",
    "\n",
    "paste (\"Para Goya solo nos salen 2 valores diferentes de NA y 0 así que no le puedo hacer el test de Shapiro\")"
   ]
  },
  {
   "cell_type": "code",
   "execution_count": 354,
   "metadata": {},
   "outputs": [
    {
     "data": {
      "text/html": [
       "'En este caso se ve que los p-value de Trafalgar y Justicia son mayores que 0.05 por tanto no podemos descartar la hipótesis nula y esos barrios segurían una distribución normal'"
      ],
      "text/latex": [
       "'En este caso se ve que los p-value de Trafalgar y Justicia son mayores que 0.05 por tanto no podemos descartar la hipótesis nula y esos barrios segurían una distribución normal'"
      ],
      "text/markdown": [
       "'En este caso se ve que los p-value de Trafalgar y Justicia son mayores que 0.05 por tanto no podemos descartar la hipótesis nula y esos barrios segurían una distribución normal'"
      ],
      "text/plain": [
       "[1] \"En este caso se ve que los p-value de Trafalgar y Justicia son mayores que 0.05 por tanto no podemos descartar la hipótesis nula y esos barrios segurían una distribución normal\""
      ]
     },
     "metadata": {},
     "output_type": "display_data"
    }
   ],
   "source": [
    "paste (\"En este caso se ve que los p-value de Trafalgar y Justicia son mayores que 0.05 por tanto no podemos descartar la hipótesis nula y esos barrios segurían una distribución normal\")"
   ]
  },
  {
   "cell_type": "code",
   "execution_count": 355,
   "metadata": {},
   "outputs": [
    {
     "data": {
      "text/html": [
       "'Los barrios de Sol y Recoletos no sigues una distribución normal y para Goya no tenemos datos suficientes'"
      ],
      "text/latex": [
       "'Los barrios de Sol y Recoletos no sigues una distribución normal y para Goya no tenemos datos suficientes'"
      ],
      "text/markdown": [
       "'Los barrios de Sol y Recoletos no sigues una distribución normal y para Goya no tenemos datos suficientes'"
      ],
      "text/plain": [
       "[1] \"Los barrios de Sol y Recoletos no sigues una distribución normal y para Goya no tenemos datos suficientes\""
      ]
     },
     "metadata": {},
     "output_type": "display_data"
    }
   ],
   "source": [
    "paste (\"Los barrios de Sol y Recoletos no sigues una distribución normal y para Goya no tenemos datos suficientes\")"
   ]
  },
  {
   "cell_type": "code",
   "execution_count": 356,
   "metadata": {},
   "outputs": [
    {
     "data": {
      "text/html": [
       "'Al no seguir una distribución normal todos los grupos utilizaré el test de Kruskal-Wallis para realizar la comprobación de si son estadísticamente diferentes'"
      ],
      "text/latex": [
       "'Al no seguir una distribución normal todos los grupos utilizaré el test de Kruskal-Wallis para realizar la comprobación de si son estadísticamente diferentes'"
      ],
      "text/markdown": [
       "'Al no seguir una distribución normal todos los grupos utilizaré el test de Kruskal-Wallis para realizar la comprobación de si son estadísticamente diferentes'"
      ],
      "text/plain": [
       "[1] \"Al no seguir una distribución normal todos los grupos utilizaré el test de Kruskal-Wallis para realizar la comprobación de si son estadísticamente diferentes\""
      ]
     },
     "metadata": {},
     "output_type": "display_data"
    },
    {
     "data": {
      "text/plain": [
       "\n",
       "\tKruskal-Wallis rank sum test\n",
       "\n",
       "data:  MetrosCuadrados by Barrio\n",
       "Kruskal-Wallis chi-squared = 4.398, df = 4, p-value = 0.3548\n"
      ]
     },
     "metadata": {},
     "output_type": "display_data"
    }
   ],
   "source": [
    "paste (\"Al no seguir una distribución normal todos los grupos utilizaré el test de Kruskal-Wallis para realizar la comprobación de si son estadísticamente diferentes\")\n",
    "df_total <- rbind(dfRecoletos,dfSol,dfTrafalgar,dfJusticia,dfGoya)\n",
    "kruskal.test( MetrosCuadrados ~ Barrio, data=df_total)"
   ]
  },
  {
   "cell_type": "code",
   "execution_count": 357,
   "metadata": {},
   "outputs": [
    {
     "data": {
      "text/html": [
       "'En este caso el p-value es mayor que 0.05 por lo que no podemos descartar la hipótesis nula y por tanto diríamos que NO son estadísticamente diferentes '"
      ],
      "text/latex": [
       "'En este caso el p-value es mayor que 0.05 por lo que no podemos descartar la hipótesis nula y por tanto diríamos que NO son estadísticamente diferentes '"
      ],
      "text/markdown": [
       "'En este caso el p-value es mayor que 0.05 por lo que no podemos descartar la hipótesis nula y por tanto diríamos que NO son estadísticamente diferentes '"
      ],
      "text/plain": [
       "[1] \"En este caso el p-value es mayor que 0.05 por lo que no podemos descartar la hipótesis nula y por tanto diríamos que NO son estadísticamente diferentes \""
      ]
     },
     "metadata": {},
     "output_type": "display_data"
    }
   ],
   "source": [
    "paste (\"En este caso el p-value es mayor que 0.05 por lo que no podemos descartar la hipótesis nula y por tanto diríamos que NO son estadísticamente diferentes \")"
   ]
  },
  {
   "cell_type": "markdown",
   "metadata": {},
   "source": [
    "Para únicamente los pisos de alquiler en el barrio de Sol:\n",
    "\n",
    "``barrio_sol<-subset(airbnb_entire,Barrio==\"Sol\")``\n",
    "\n",
    "Calcular un modelo lineal que combine alguna de estas variables:\n",
    "* NumBanyos\n",
    "* NumDormitorios\n",
    "* MaxOcupantes\n",
    "* MetrosCuadrados"
   ]
  },
  {
   "cell_type": "code",
   "execution_count": 358,
   "metadata": {},
   "outputs": [],
   "source": [
    "barrio_sol<-subset(airbnb_entire,Barrio==\"Sol\")"
   ]
  },
  {
   "cell_type": "markdown",
   "metadata": {},
   "source": [
    "Primero calculamos la correlación para ver como se relacionan estas variables entre sí."
   ]
  },
  {
   "cell_type": "code",
   "execution_count": 359,
   "metadata": {},
   "outputs": [
    {
     "data": {
      "text/html": [
       "<table>\n",
       "<thead><tr><th></th><th scope=col>NumBanyos</th><th scope=col>NumDormitorios</th><th scope=col>MaxOcupantes</th><th scope=col>MetrosCuadrados</th></tr></thead>\n",
       "<tbody>\n",
       "\t<tr><th scope=row>NumBanyos</th><td>1.0000000</td><td>0.6873719</td><td>0.7017290</td><td>0.4820549</td></tr>\n",
       "\t<tr><th scope=row>NumDormitorios</th><td>0.6873719</td><td>1.0000000</td><td>0.7853809</td><td>0.5684521</td></tr>\n",
       "\t<tr><th scope=row>MaxOcupantes</th><td>0.7017290</td><td>0.7853809</td><td>1.0000000</td><td>0.4286233</td></tr>\n",
       "\t<tr><th scope=row>MetrosCuadrados</th><td>0.4820549</td><td>0.5684521</td><td>0.4286233</td><td>1.0000000</td></tr>\n",
       "</tbody>\n",
       "</table>\n"
      ],
      "text/latex": [
       "\\begin{tabular}{r|llll}\n",
       "  & NumBanyos & NumDormitorios & MaxOcupantes & MetrosCuadrados\\\\\n",
       "\\hline\n",
       "\tNumBanyos & 1.0000000 & 0.6873719 & 0.7017290 & 0.4820549\\\\\n",
       "\tNumDormitorios & 0.6873719 & 1.0000000 & 0.7853809 & 0.5684521\\\\\n",
       "\tMaxOcupantes & 0.7017290 & 0.7853809 & 1.0000000 & 0.4286233\\\\\n",
       "\tMetrosCuadrados & 0.4820549 & 0.5684521 & 0.4286233 & 1.0000000\\\\\n",
       "\\end{tabular}\n"
      ],
      "text/markdown": [
       "\n",
       "| <!--/--> | NumBanyos | NumDormitorios | MaxOcupantes | MetrosCuadrados |\n",
       "|---|---|---|---|---|\n",
       "| NumBanyos | 1.0000000 | 0.6873719 | 0.7017290 | 0.4820549 |\n",
       "| NumDormitorios | 0.6873719 | 1.0000000 | 0.7853809 | 0.5684521 |\n",
       "| MaxOcupantes | 0.7017290 | 0.7853809 | 1.0000000 | 0.4286233 |\n",
       "| MetrosCuadrados | 0.4820549 | 0.5684521 | 0.4286233 | 1.0000000 |\n",
       "\n"
      ],
      "text/plain": [
       "                NumBanyos NumDormitorios MaxOcupantes MetrosCuadrados\n",
       "NumBanyos       1.0000000 0.6873719      0.7017290    0.4820549      \n",
       "NumDormitorios  0.6873719 1.0000000      0.7853809    0.5684521      \n",
       "MaxOcupantes    0.7017290 0.7853809      1.0000000    0.4286233      \n",
       "MetrosCuadrados 0.4820549 0.5684521      0.4286233    1.0000000      "
      ]
     },
     "metadata": {},
     "output_type": "display_data"
    }
   ],
   "source": [
    "varcor=c(\"NumBanyos\", \"NumDormitorios\", \"MaxOcupantes\", \"MetrosCuadrados\")\n",
    "\n",
    "dfcorr=barrio_sol [ , varcor]\n",
    "cor(dfcorr ,use=\"complete.obs\")"
   ]
  },
  {
   "cell_type": "markdown",
   "metadata": {},
   "source": [
    "Se observa que la correlación entre el número de dormitorios y los metros cuadrados es sorprendentemente baja.\n",
    "¿Son de fiar esos números?\n",
    "\n",
    "Mediante un histograma o curvas de densidad podemos descartar números que notienen sentido en el dataframe barrio_sol,\n",
    "para tener una matriz de correlación que tenga mayor sentido.\n"
   ]
  },
  {
   "cell_type": "code",
   "execution_count": 360,
   "metadata": {},
   "outputs": [
    {
     "name": "stdout",
     "output_type": "stream",
     "text": [
      "[1] \"Ya desde las curvas de distribución de densidad del tamaño de los apartamentos se veía un conjunto de apartamentos de tamaño muy pequeño que no parece tener sentido, posiblemente se deba a errores en la columna pies cuadrados \"\n"
     ]
    }
   ],
   "source": [
    "print (\"Ya desde las curvas de distribución de densidad del tamaño de los apartamentos se veía un conjunto de apartamentos de tamaño muy pequeño que no parece tener sentido, posiblemente se deba a errores en la columna pies cuadrados \")"
   ]
  },
  {
   "cell_type": "code",
   "execution_count": 361,
   "metadata": {},
   "outputs": [
    {
     "name": "stderr",
     "output_type": "stream",
     "text": [
      "Warning message:\n",
      "“Removed 2 rows containing non-finite values (stat_density).”"
     ]
    },
    {
     "data": {
      "text/plain": [
       "$x\n",
       "[1] \"MetrosCuadrados\"\n",
       "\n",
       "attr(,\"class\")\n",
       "[1] \"labels\""
      ]
     },
     "metadata": {},
     "output_type": "display_data"
    },
    {
     "data": {
      "image/png": "[encoded data removed]",
      "text/plain": [
       "plot without title"
      ]
     },
     "metadata": {},
     "output_type": "display_data"
    }
   ],
   "source": [
    "#Vamos a ver de nuevo la distribución de precios del barrio sol\n",
    "ggplot (data=dfSol, aes(x=MetrosCuadrados))+geom_density (bw=4) +\n",
    "       scale_x_continuous(breaks = seq(0,180,20), lim=c(0,180)) +\n",
    "       ggtitle(\"Distribución de tamaño de los apartamentos en Sol\")\n",
    "      xlab(\"MetrosCuadrados\")   \n"
   ]
  },
  {
   "cell_type": "code",
   "execution_count": 362,
   "metadata": {},
   "outputs": [
    {
     "data": {
      "text/html": [
       "<table>\n",
       "<thead><tr><th></th><th scope=col>NumBanyos</th><th scope=col>NumDormitorios</th><th scope=col>MaxOcupantes</th><th scope=col>MetrosCuadrados</th></tr></thead>\n",
       "<tbody>\n",
       "\t<tr><th scope=row>NumBanyos</th><td>1.0000000</td><td>0.7292599</td><td>0.8589205</td><td>0.6113095</td></tr>\n",
       "\t<tr><th scope=row>NumDormitorios</th><td>0.7292599</td><td>1.0000000</td><td>0.7855310</td><td>0.8215065</td></tr>\n",
       "\t<tr><th scope=row>MaxOcupantes</th><td>0.8589205</td><td>0.7855310</td><td>1.0000000</td><td>0.7121088</td></tr>\n",
       "\t<tr><th scope=row>MetrosCuadrados</th><td>0.6113095</td><td>0.8215065</td><td>0.7121088</td><td>1.0000000</td></tr>\n",
       "</tbody>\n",
       "</table>\n"
      ],
      "text/latex": [
       "\\begin{tabular}{r|llll}\n",
       "  & NumBanyos & NumDormitorios & MaxOcupantes & MetrosCuadrados\\\\\n",
       "\\hline\n",
       "\tNumBanyos & 1.0000000 & 0.7292599 & 0.8589205 & 0.6113095\\\\\n",
       "\tNumDormitorios & 0.7292599 & 1.0000000 & 0.7855310 & 0.8215065\\\\\n",
       "\tMaxOcupantes & 0.8589205 & 0.7855310 & 1.0000000 & 0.7121088\\\\\n",
       "\tMetrosCuadrados & 0.6113095 & 0.8215065 & 0.7121088 & 1.0000000\\\\\n",
       "\\end{tabular}\n"
      ],
      "text/markdown": [
       "\n",
       "| <!--/--> | NumBanyos | NumDormitorios | MaxOcupantes | MetrosCuadrados |\n",
       "|---|---|---|---|---|\n",
       "| NumBanyos | 1.0000000 | 0.7292599 | 0.8589205 | 0.6113095 |\n",
       "| NumDormitorios | 0.7292599 | 1.0000000 | 0.7855310 | 0.8215065 |\n",
       "| MaxOcupantes | 0.8589205 | 0.7855310 | 1.0000000 | 0.7121088 |\n",
       "| MetrosCuadrados | 0.6113095 | 0.8215065 | 0.7121088 | 1.0000000 |\n",
       "\n"
      ],
      "text/plain": [
       "                NumBanyos NumDormitorios MaxOcupantes MetrosCuadrados\n",
       "NumBanyos       1.0000000 0.7292599      0.8589205    0.6113095      \n",
       "NumDormitorios  0.7292599 1.0000000      0.7855310    0.8215065      \n",
       "MaxOcupantes    0.8589205 0.7855310      1.0000000    0.7121088      \n",
       "MetrosCuadrados 0.6113095 0.8215065      0.7121088    1.0000000      "
      ]
     },
     "metadata": {},
     "output_type": "display_data"
    }
   ],
   "source": [
    "#Voy a descartar por debajo de 10 m2\n",
    "\n",
    "dfcorrlimp = subset(dfcorr, MetrosCuadrados>10)\n",
    "\n",
    "cor(dfcorrlimp,use=\"complete.obs\")\n"
   ]
  },
  {
   "cell_type": "markdown",
   "metadata": {},
   "source": [
    "Una vez que hayamos filtrado los datos correspondientes calcular el valor o la combinación de valores que mejor nos permite obtener el precio de un inmueble."
   ]
  },
  {
   "cell_type": "code",
   "execution_count": 363,
   "metadata": {},
   "outputs": [
    {
     "data": {
      "text/plain": [
       "\n",
       "Call:\n",
       "lm(formula = Precio ~ NumBanyos + NumDormitorios + MaxOcupantes + \n",
       "    MetrosCuadrados, data = dfcompleto)\n",
       "\n",
       "Residuals:\n",
       "    Min      1Q  Median      3Q     Max \n",
       "-76.852 -13.673  -5.048  18.523  69.473 \n",
       "\n",
       "Coefficients:\n",
       "                Estimate Std. Error t value Pr(>|t|)   \n",
       "(Intercept)      28.0362    12.9584   2.164  0.03859 * \n",
       "NumBanyos         0.5647    14.6038   0.039  0.96941   \n",
       "NumDormitorios   28.2119     8.5440   3.302  0.00249 **\n",
       "MaxOcupantes      2.6738     4.4329   0.603  0.55093   \n",
       "MetrosCuadrados   0.2237     0.2050   1.091  0.28393   \n",
       "---\n",
       "Signif. codes:  0 ‘***’ 0.001 ‘**’ 0.01 ‘*’ 0.05 ‘.’ 0.1 ‘ ’ 1\n",
       "\n",
       "Residual standard error: 31.32 on 30 degrees of freedom\n",
       "Multiple R-squared:  0.7588,\tAdjusted R-squared:  0.7267 \n",
       "F-statistic:  23.6 on 4 and 30 DF,  p-value: 6.728e-09\n"
      ]
     },
     "metadata": {},
     "output_type": "display_data"
    },
    {
     "data": {
      "text/html": [
       "<table>\n",
       "<thead><tr><th></th><th scope=col>Estimate</th><th scope=col>Std. Error</th><th scope=col>t value</th><th scope=col>Pr(&gt;|t|)</th></tr></thead>\n",
       "<tbody>\n",
       "\t<tr><th scope=row>(Intercept)</th><td>28.0361652 </td><td>12.9583878 </td><td>2.16355350 </td><td>0.038590604</td></tr>\n",
       "\t<tr><th scope=row>NumBanyos</th><td> 0.5647066 </td><td>14.6038458 </td><td>0.03866835 </td><td>0.969410992</td></tr>\n",
       "\t<tr><th scope=row>NumDormitorios</th><td>28.2119019 </td><td> 8.5440348 </td><td>3.30194135 </td><td>0.002486698</td></tr>\n",
       "\t<tr><th scope=row>MaxOcupantes</th><td> 2.6737936 </td><td> 4.4329294 </td><td>0.60316628 </td><td>0.550931338</td></tr>\n",
       "\t<tr><th scope=row>MetrosCuadrados</th><td> 0.2237036 </td><td> 0.2050325 </td><td>1.09106415 </td><td>0.283930379</td></tr>\n",
       "</tbody>\n",
       "</table>\n"
      ],
      "text/latex": [
       "\\begin{tabular}{r|llll}\n",
       "  & Estimate & Std. Error & t value & Pr(>\\textbar{}t\\textbar{})\\\\\n",
       "\\hline\n",
       "\t(Intercept) & 28.0361652  & 12.9583878  & 2.16355350  & 0.038590604\\\\\n",
       "\tNumBanyos &  0.5647066  & 14.6038458  & 0.03866835  & 0.969410992\\\\\n",
       "\tNumDormitorios & 28.2119019  &  8.5440348  & 3.30194135  & 0.002486698\\\\\n",
       "\tMaxOcupantes &  2.6737936  &  4.4329294  & 0.60316628  & 0.550931338\\\\\n",
       "\tMetrosCuadrados &  0.2237036  &  0.2050325  & 1.09106415  & 0.283930379\\\\\n",
       "\\end{tabular}\n"
      ],
      "text/markdown": [
       "\n",
       "| <!--/--> | Estimate | Std. Error | t value | Pr(>|t|) |\n",
       "|---|---|---|---|---|\n",
       "| (Intercept) | 28.0361652  | 12.9583878  | 2.16355350  | 0.038590604 |\n",
       "| NumBanyos |  0.5647066  | 14.6038458  | 0.03866835  | 0.969410992 |\n",
       "| NumDormitorios | 28.2119019  |  8.5440348  | 3.30194135  | 0.002486698 |\n",
       "| MaxOcupantes |  2.6737936  |  4.4329294  | 0.60316628  | 0.550931338 |\n",
       "| MetrosCuadrados |  0.2237036  |  0.2050325  | 1.09106415  | 0.283930379 |\n",
       "\n"
      ],
      "text/plain": [
       "                Estimate   Std. Error t value    Pr(>|t|)   \n",
       "(Intercept)     28.0361652 12.9583878 2.16355350 0.038590604\n",
       "NumBanyos        0.5647066 14.6038458 0.03866835 0.969410992\n",
       "NumDormitorios  28.2119019  8.5440348 3.30194135 0.002486698\n",
       "MaxOcupantes     2.6737936  4.4329294 0.60316628 0.550931338\n",
       "MetrosCuadrados  0.2237036  0.2050325 1.09106415 0.283930379"
      ]
     },
     "metadata": {},
     "output_type": "display_data"
    },
    {
     "data": {
      "text/html": [
       "'El valor que que mejor permite obtener el precio del inmueble parece ser el Número de Dormitorios'"
      ],
      "text/latex": [
       "'El valor que que mejor permite obtener el precio del inmueble parece ser el Número de Dormitorios'"
      ],
      "text/markdown": [
       "'El valor que que mejor permite obtener el precio del inmueble parece ser el Número de Dormitorios'"
      ],
      "text/plain": [
       "[1] \"El valor que que mejor permite obtener el precio del inmueble parece ser el Número de Dormitorios\""
      ]
     },
     "metadata": {},
     "output_type": "display_data"
    },
    {
     "data": {
      "text/html": [
       "<span style=white-space:pre-wrap>'Coeficiente de determinación:  0.76'</span>"
      ],
      "text/latex": [
       "'Coeficiente de determinación:  0.76'"
      ],
      "text/markdown": [
       "<span style=white-space:pre-wrap>'Coeficiente de determinación:  0.76'</span>"
      ],
      "text/plain": [
       "[1] \"Coeficiente de determinación:  0.76\""
      ]
     },
     "metadata": {},
     "output_type": "display_data"
    }
   ],
   "source": [
    "#Añado el precio al dataframe con el que estoy trabajando\n",
    "#Modelo lineal tomando todas las variables\n",
    "varariables=c(\"NumBanyos\", \"NumDormitorios\", \"MaxOcupantes\", \"MetrosCuadrados\", \"Precio\")\n",
    "df=barrio_sol [ , varariables]\n",
    "dfcompleto = subset(df, MetrosCuadrados>10)\n",
    "model = lm(data=dfcompleto, formula = Precio ~ NumBanyos+NumDormitorios+MaxOcupantes+MetrosCuadrados)\n",
    "summary(model)\n",
    "summary(model)$coefficients\n",
    "paste (\"El valor que que mejor permite obtener el precio del inmueble parece ser el Número de Dormitorios\")\n",
    "paste (\"Coeficiente de determinación: \", round(summary(model)$r.squared,2))\n"
   ]
  },
  {
   "cell_type": "markdown",
   "metadata": {},
   "source": [
    "¿Que variable es más fiable para conocer el precio de un inmueble, el número de habitaciones o los metros cuadrados?"
   ]
  },
  {
   "cell_type": "code",
   "execution_count": 364,
   "metadata": {},
   "outputs": [
    {
     "data": {
      "text/html": [
       "<table>\n",
       "<thead><tr><th></th><th scope=col>Estimate</th><th scope=col>Std. Error</th><th scope=col>t value</th><th scope=col>Pr(&gt;|t|)</th></tr></thead>\n",
       "<tbody>\n",
       "\t<tr><th scope=row>(Intercept)</th><td>28.0361652 </td><td>12.9583878 </td><td>2.16355350 </td><td>0.038590604</td></tr>\n",
       "\t<tr><th scope=row>NumBanyos</th><td> 0.5647066 </td><td>14.6038458 </td><td>0.03866835 </td><td>0.969410992</td></tr>\n",
       "\t<tr><th scope=row>NumDormitorios</th><td>28.2119019 </td><td> 8.5440348 </td><td>3.30194135 </td><td>0.002486698</td></tr>\n",
       "\t<tr><th scope=row>MaxOcupantes</th><td> 2.6737936 </td><td> 4.4329294 </td><td>0.60316628 </td><td>0.550931338</td></tr>\n",
       "\t<tr><th scope=row>MetrosCuadrados</th><td> 0.2237036 </td><td> 0.2050325 </td><td>1.09106415 </td><td>0.283930379</td></tr>\n",
       "</tbody>\n",
       "</table>\n"
      ],
      "text/latex": [
       "\\begin{tabular}{r|llll}\n",
       "  & Estimate & Std. Error & t value & Pr(>\\textbar{}t\\textbar{})\\\\\n",
       "\\hline\n",
       "\t(Intercept) & 28.0361652  & 12.9583878  & 2.16355350  & 0.038590604\\\\\n",
       "\tNumBanyos &  0.5647066  & 14.6038458  & 0.03866835  & 0.969410992\\\\\n",
       "\tNumDormitorios & 28.2119019  &  8.5440348  & 3.30194135  & 0.002486698\\\\\n",
       "\tMaxOcupantes &  2.6737936  &  4.4329294  & 0.60316628  & 0.550931338\\\\\n",
       "\tMetrosCuadrados &  0.2237036  &  0.2050325  & 1.09106415  & 0.283930379\\\\\n",
       "\\end{tabular}\n"
      ],
      "text/markdown": [
       "\n",
       "| <!--/--> | Estimate | Std. Error | t value | Pr(>|t|) |\n",
       "|---|---|---|---|---|\n",
       "| (Intercept) | 28.0361652  | 12.9583878  | 2.16355350  | 0.038590604 |\n",
       "| NumBanyos |  0.5647066  | 14.6038458  | 0.03866835  | 0.969410992 |\n",
       "| NumDormitorios | 28.2119019  |  8.5440348  | 3.30194135  | 0.002486698 |\n",
       "| MaxOcupantes |  2.6737936  |  4.4329294  | 0.60316628  | 0.550931338 |\n",
       "| MetrosCuadrados |  0.2237036  |  0.2050325  | 1.09106415  | 0.283930379 |\n",
       "\n"
      ],
      "text/plain": [
       "                Estimate   Std. Error t value    Pr(>|t|)   \n",
       "(Intercept)     28.0361652 12.9583878 2.16355350 0.038590604\n",
       "NumBanyos        0.5647066 14.6038458 0.03866835 0.969410992\n",
       "NumDormitorios  28.2119019  8.5440348 3.30194135 0.002486698\n",
       "MaxOcupantes     2.6737936  4.4329294 0.60316628 0.550931338\n",
       "MetrosCuadrados  0.2237036  0.2050325 1.09106415 0.283930379"
      ]
     },
     "metadata": {},
     "output_type": "display_data"
    },
    {
     "name": "stdout",
     "output_type": "stream",
     "text": [
      "[1] \"Es más fiable el número de habitaciones que los metros cuadrados\"\n"
     ]
    }
   ],
   "source": [
    "#Miramos el p-valor y la que lo tenga más bajo es la más fiable\n",
    "c= summary(model)$coefficients\n",
    "c\n",
    "PrNumdormitorios = summary(model)$coefficients [\"NumDormitorios\", 4]\n",
    "PrMetrosCuadrados = summary(model)$coefficients [\"MetrosCuadrados\", 4]\n",
    "if (PrMetrosCuadrados>PrNumdormitorios){\n",
    "    print (\"Es más fiable el número de habitaciones que los metros cuadrados\")\n",
    "} else {\n",
    "    print (\"Es más fiable el número de metros cuadrados que las habitaciones\")\n",
    "}\n",
    "\n",
    "\n",
    "\n"
   ]
  },
  {
   "cell_type": "markdown",
   "metadata": {},
   "source": [
    "Responde con su correspondiente margen de error del 95%, ¿cuantos euros incrementa el precio del alquiler por cada metro cuadrado extra del piso?"
   ]
  },
  {
   "cell_type": "code",
   "execution_count": 365,
   "metadata": {},
   "outputs": [
    {
     "data": {
      "text/html": [
       "<table>\n",
       "<thead><tr><th></th><th scope=col>Estimate</th><th scope=col>Std. Error</th><th scope=col>t value</th><th scope=col>Pr(&gt;|t|)</th></tr></thead>\n",
       "<tbody>\n",
       "\t<tr><th scope=row>(Intercept)</th><td>28.0361652 </td><td>12.9583878 </td><td>2.16355350 </td><td>0.038590604</td></tr>\n",
       "\t<tr><th scope=row>NumBanyos</th><td> 0.5647066 </td><td>14.6038458 </td><td>0.03866835 </td><td>0.969410992</td></tr>\n",
       "\t<tr><th scope=row>NumDormitorios</th><td>28.2119019 </td><td> 8.5440348 </td><td>3.30194135 </td><td>0.002486698</td></tr>\n",
       "\t<tr><th scope=row>MaxOcupantes</th><td> 2.6737936 </td><td> 4.4329294 </td><td>0.60316628 </td><td>0.550931338</td></tr>\n",
       "\t<tr><th scope=row>MetrosCuadrados</th><td> 0.2237036 </td><td> 0.2050325 </td><td>1.09106415 </td><td>0.283930379</td></tr>\n",
       "</tbody>\n",
       "</table>\n"
      ],
      "text/latex": [
       "\\begin{tabular}{r|llll}\n",
       "  & Estimate & Std. Error & t value & Pr(>\\textbar{}t\\textbar{})\\\\\n",
       "\\hline\n",
       "\t(Intercept) & 28.0361652  & 12.9583878  & 2.16355350  & 0.038590604\\\\\n",
       "\tNumBanyos &  0.5647066  & 14.6038458  & 0.03866835  & 0.969410992\\\\\n",
       "\tNumDormitorios & 28.2119019  &  8.5440348  & 3.30194135  & 0.002486698\\\\\n",
       "\tMaxOcupantes &  2.6737936  &  4.4329294  & 0.60316628  & 0.550931338\\\\\n",
       "\tMetrosCuadrados &  0.2237036  &  0.2050325  & 1.09106415  & 0.283930379\\\\\n",
       "\\end{tabular}\n"
      ],
      "text/markdown": [
       "\n",
       "| <!--/--> | Estimate | Std. Error | t value | Pr(>|t|) |\n",
       "|---|---|---|---|---|\n",
       "| (Intercept) | 28.0361652  | 12.9583878  | 2.16355350  | 0.038590604 |\n",
       "| NumBanyos |  0.5647066  | 14.6038458  | 0.03866835  | 0.969410992 |\n",
       "| NumDormitorios | 28.2119019  |  8.5440348  | 3.30194135  | 0.002486698 |\n",
       "| MaxOcupantes |  2.6737936  |  4.4329294  | 0.60316628  | 0.550931338 |\n",
       "| MetrosCuadrados |  0.2237036  |  0.2050325  | 1.09106415  | 0.283930379 |\n",
       "\n"
      ],
      "text/plain": [
       "                Estimate   Std. Error t value    Pr(>|t|)   \n",
       "(Intercept)     28.0361652 12.9583878 2.16355350 0.038590604\n",
       "NumBanyos        0.5647066 14.6038458 0.03866835 0.969410992\n",
       "NumDormitorios  28.2119019  8.5440348 3.30194135 0.002486698\n",
       "MaxOcupantes     2.6737936  4.4329294 0.60316628 0.550931338\n",
       "MetrosCuadrados  0.2237036  0.2050325 1.09106415 0.283930379"
      ]
     },
     "metadata": {},
     "output_type": "display_data"
    },
    {
     "data": {
      "text/html": [
       "<table>\n",
       "<thead><tr><th></th><th scope=col>2.5 %</th><th scope=col>97.5 %</th></tr></thead>\n",
       "<tbody>\n",
       "\t<tr><th scope=row>(Intercept)</th><td>  1.5716069</td><td>54.5007236 </td></tr>\n",
       "\t<tr><th scope=row>NumBanyos</th><td>-29.2603255</td><td>30.3897387 </td></tr>\n",
       "\t<tr><th scope=row>NumDormitorios</th><td> 10.7626549</td><td>45.6611489 </td></tr>\n",
       "\t<tr><th scope=row>MaxOcupantes</th><td> -6.3794561</td><td>11.7270432 </td></tr>\n",
       "\t<tr><th scope=row>MetrosCuadrados</th><td> -0.1950286</td><td> 0.6424357 </td></tr>\n",
       "</tbody>\n",
       "</table>\n"
      ],
      "text/latex": [
       "\\begin{tabular}{r|ll}\n",
       "  & 2.5 \\% & 97.5 \\%\\\\\n",
       "\\hline\n",
       "\t(Intercept) &   1.5716069 & 54.5007236 \\\\\n",
       "\tNumBanyos & -29.2603255 & 30.3897387 \\\\\n",
       "\tNumDormitorios &  10.7626549 & 45.6611489 \\\\\n",
       "\tMaxOcupantes &  -6.3794561 & 11.7270432 \\\\\n",
       "\tMetrosCuadrados &  -0.1950286 &  0.6424357 \\\\\n",
       "\\end{tabular}\n"
      ],
      "text/markdown": [
       "\n",
       "| <!--/--> | 2.5 % | 97.5 % |\n",
       "|---|---|---|\n",
       "| (Intercept) |   1.5716069 | 54.5007236  |\n",
       "| NumBanyos | -29.2603255 | 30.3897387  |\n",
       "| NumDormitorios |  10.7626549 | 45.6611489  |\n",
       "| MaxOcupantes |  -6.3794561 | 11.7270432  |\n",
       "| MetrosCuadrados |  -0.1950286 |  0.6424357  |\n",
       "\n"
      ],
      "text/plain": [
       "                2.5 %       97.5 %    \n",
       "(Intercept)       1.5716069 54.5007236\n",
       "NumBanyos       -29.2603255 30.3897387\n",
       "NumDormitorios   10.7626549 45.6611489\n",
       "MaxOcupantes     -6.3794561 11.7270432\n",
       "MetrosCuadrados  -0.1950286  0.6424357"
      ]
     },
     "metadata": {},
     "output_type": "display_data"
    },
    {
     "data": {
      "text/html": [
       "<span style=white-space:pre-wrap>'Por cada metro cuadrado el precio del alquilé se incrementa entre,  -0.2 euros y  0.64 euros. '</span>"
      ],
      "text/latex": [
       "'Por cada metro cuadrado el precio del alquilé se incrementa entre,  -0.2 euros y  0.64 euros. '"
      ],
      "text/markdown": [
       "<span style=white-space:pre-wrap>'Por cada metro cuadrado el precio del alquilé se incrementa entre,  -0.2 euros y  0.64 euros. '</span>"
      ],
      "text/plain": [
       "[1] \"Por cada metro cuadrado el precio del alquilé se incrementa entre,  -0.2 euros y  0.64 euros. \""
      ]
     },
     "metadata": {},
     "output_type": "display_data"
    }
   ],
   "source": [
    "#Tomamos el modelo lineal que tienen en cuenta todas las variables\n",
    "c=summary(model)$coefficients\n",
    "summary(model)$coefficients\n",
    "cnf_int=confint(model)\n",
    "cnf_int\n",
    "paste (\"Por cada metro cuadrado el precio del alquilé se incrementa entre, \", \n",
    "       round(cnf_int[\"MetrosCuadrados\",1],2), \"euros y \", round(cnf_int[\"MetrosCuadrados\",2],2), \"euros. \")\n"
   ]
  },
  {
   "cell_type": "markdown",
   "metadata": {},
   "source": [
    "Responde con su correspondiente margen de error del 95%, ¿cuantos euros incrementa el precio del alquiler por cada habitación?"
   ]
  },
  {
   "cell_type": "code",
   "execution_count": 366,
   "metadata": {},
   "outputs": [
    {
     "data": {
      "text/html": [
       "<span style=white-space:pre-wrap>'Por cada habitación el precio del alquilé se incrementa entre 10.76 euros y  45.66 euros.'</span>"
      ],
      "text/latex": [
       "'Por cada habitación el precio del alquilé se incrementa entre 10.76 euros y  45.66 euros.'"
      ],
      "text/markdown": [
       "<span style=white-space:pre-wrap>'Por cada habitación el precio del alquilé se incrementa entre 10.76 euros y  45.66 euros.'</span>"
      ],
      "text/plain": [
       "[1] \"Por cada habitación el precio del alquilé se incrementa entre 10.76 euros y  45.66 euros.\""
      ]
     },
     "metadata": {},
     "output_type": "display_data"
    }
   ],
   "source": [
    "paste (\"Por cada habitación el precio del alquilé se incrementa entre\", \n",
    "       round(cnf_int[\"NumDormitorios\",1],2), \"euros y \", round(cnf_int[\"NumDormitorios\",2],2), \"euros.\"  )"
   ]
  },
  {
   "cell_type": "markdown",
   "metadata": {},
   "source": [
    "¿Cual es la probabilidad de encontrar, en el barrio de Sol, un apartamento en alquiler con 3 dormitorios?\n",
    "¿Cual es el margen de error de esa probabilidad?"
   ]
  },
  {
   "cell_type": "code",
   "execution_count": 367,
   "metadata": {},
   "outputs": [
    {
     "data": {
      "text/plain": [
       "$x\n",
       "[1] \"NumDormitorios\"\n",
       "\n",
       "attr(,\"class\")\n",
       "[1] \"labels\""
      ]
     },
     "metadata": {},
     "output_type": "display_data"
    },
    {
     "data": {
      "image/png": "[encoded data removed]",
      "text/plain": [
       "plot without title"
      ]
     },
     "metadata": {},
     "output_type": "display_data"
    }
   ],
   "source": [
    "#Vemos la distribución de número de dormitorios de apartamentos en sol\n",
    "ggplot (data=barrio_sol, aes(x=NumDormitorios))+geom_density (bw=4) +\n",
    "       scale_x_continuous(breaks = seq(0,15,1), lim=c(0,15)) +\n",
    "       ggtitle(\"Distribución numero de dormitorios de los apartamentos en Sol\")\n",
    "      xlab(\"NumDormitorios\")   "
   ]
  },
  {
   "cell_type": "code",
   "execution_count": 368,
   "metadata": {},
   "outputs": [
    {
     "data": {
      "text/plain": [
       "\n",
       "  0   1   2   3   4   5   7  10 \n",
       " 91 321 211  55  18   3   1   1 "
      ]
     },
     "metadata": {},
     "output_type": "display_data"
    },
    {
     "data": {
      "text/html": [
       "'La probabilidad de encontrar en el barrio de Sol un apartamento de 3 habitaciones es 7.85 %'"
      ],
      "text/latex": [
       "'La probabilidad de encontrar en el barrio de Sol un apartamento de 3 habitaciones es 7.85 \\%'"
      ],
      "text/markdown": [
       "'La probabilidad de encontrar en el barrio de Sol un apartamento de 3 habitaciones es 7.85 %'"
      ],
      "text/plain": [
       "[1] \"La probabilidad de encontrar en el barrio de Sol un apartamento de 3 habitaciones es 7.85 %\""
      ]
     },
     "metadata": {},
     "output_type": "display_data"
    }
   ],
   "source": [
    "\n",
    "dorm_freq = table (barrio_sol$NumDormitorios)\n",
    "dorm_freq\n",
    "probabilidad = dorm_freq [4]/sum (dorm_freq)*100\n",
    "paste (\"La probabilidad de encontrar en el barrio de Sol un apartamento de 3 habitaciones es\", \n",
    "       round (probabilidad, 2), \"%\")"
   ]
  },
  {
   "cell_type": "code",
   "execution_count": 369,
   "metadata": {},
   "outputs": [
    {
     "data": {
      "text/html": [
       "<ol class=list-inline>\n",
       "\t<li>0.0596505980500962</li>\n",
       "\t<li>0.100903307028694</li>\n",
       "</ol>\n"
      ],
      "text/latex": [
       "\\begin{enumerate*}\n",
       "\\item 0.0596505980500962\n",
       "\\item 0.100903307028694\n",
       "\\end{enumerate*}\n"
      ],
      "text/markdown": [
       "1. 0.0596505980500962\n",
       "2. 0.100903307028694\n",
       "\n",
       "\n"
      ],
      "text/plain": [
       "[1] 0.0596506 0.1009033\n",
       "attr(,\"conf.level\")\n",
       "[1] 0.95"
      ]
     },
     "metadata": {},
     "output_type": "display_data"
    }
   ],
   "source": [
    "#Margen de error\n",
    "p=binom.test(dorm_freq [\"3\"],sum (dorm_freq))$conf.int\n",
    "p"
   ]
  },
  {
   "cell_type": "code",
   "execution_count": 370,
   "metadata": {},
   "outputs": [
    {
     "data": {
      "text/html": [
       "'El margen de confianza con un 95% de fiabilidad estará entre 6 % y 10 %'"
      ],
      "text/latex": [
       "'El margen de confianza con un 95\\% de fiabilidad estará entre 6 \\% y 10 \\%'"
      ],
      "text/markdown": [
       "'El margen de confianza con un 95% de fiabilidad estará entre 6 % y 10 %'"
      ],
      "text/plain": [
       "[1] \"El margen de confianza con un 95% de fiabilidad estará entre 6 % y 10 %\""
      ]
     },
     "metadata": {},
     "output_type": "display_data"
    }
   ],
   "source": [
    "paste (\"El margen de confianza con un 95% de fiabilidad estará entre\", round (p[1],2)*100, \n",
    "       \"% y\", round(p[2],2)*100, \"%\")"
   ]
  },
  {
   "cell_type": "code",
   "execution_count": null,
   "metadata": {},
   "outputs": [],
   "source": []
  }
 ],
 "metadata": {
  "kernelspec": {
   "display_name": "R",
   "language": "R",
   "name": "ir"
  },
  "language_info": {
   "codemirror_mode": "r",
   "file_extension": ".r",
   "mimetype": "text/x-r-source",
   "name": "R",
   "pygments_lexer": "r",
   "version": "3.4.4"
  }
 },
 "nbformat": 4,
 "nbformat_minor": 2
}
